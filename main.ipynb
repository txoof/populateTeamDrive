{
 "cells": [
  {
   "cell_type": "code",
   "execution_count": 1,
   "metadata": {
    "collapsed": false,
    "deletable": true,
    "editable": true
   },
   "outputs": [],
   "source": [
    "import logging\n",
    "import logging.config\n",
    "import os\n",
    "import json\n",
    "# import ConfigParser\n",
    "import sys\n",
    "\n",
    "from simpleMenu import menu\n",
    "import configuration\n",
    "from gdrive.auth import getCredentials\n",
    "from gdrive.gdrive import googledrive, GDriveError\n",
    "\n",
    "\n",
    "# get the current working directory\n",
    "# When launching a .command from the OS X Finder, the working directory is typically ~/; this is problematic\n",
    "# for locating resource files\n",
    "# I don't love this hack, but it works.\n",
    "try:\n",
    "    __file__\n",
    "    cwd = os.path.dirname(__file__)+'/'\n",
    "except NameError as e:\n",
    "    cwd = os.getcwd()"
   ]
  },
  {
   "cell_type": "code",
   "execution_count": 2,
   "metadata": {
    "collapsed": true
   },
   "outputs": [],
   "source": [
    "def setup_logging(\n",
    "    default_path='logging.json',\n",
    "    default_level=logging.INFO,\n",
    "    env_key='LOG_CFG'\n",
    "):\n",
    "    \"\"\"Setup logging configuration\n",
    "\n",
    "    \"\"\"\n",
    "    path = default_path\n",
    "    value = os.getenv(env_key, None)\n",
    "    if value:\n",
    "        path = value\n",
    "    if os.path.exists(path):\n",
    "        with open(path, 'rt') as f:\n",
    "            config = json.load(f)\n",
    "        logging.config.dictConfig(config)\n",
    "        logging.getLogger().setLevel(default_level)\n",
    "    else:\n",
    "        logging.basicConfig(level=default_level)"
   ]
  },
  {
   "cell_type": "code",
   "execution_count": null,
   "metadata": {
    "collapsed": true
   },
   "outputs": [],
   "source": []
  },
  {
   "cell_type": "code",
   "execution_count": null,
   "metadata": {
    "collapsed": false
   },
   "outputs": [],
   "source": [
    "help(configuration)"
   ]
  },
  {
   "cell_type": "code",
   "execution_count": 3,
   "metadata": {
    "collapsed": false
   },
   "outputs": [],
   "source": [
    "def getConfiguration(cfgfile):\n",
    "    # required configuraiton options\n",
    "    # Section: {'option': 'default value'}\n",
    "    config_required = {\n",
    "        'Main': {'credentials': os.path.join(cfgpath, 'credentials/'), \n",
    "                 'teamdriveID': '',\n",
    "                 'folderID': '',\n",
    "                 'teamdrivename': ''\n",
    "                 },\n",
    "        }\n",
    "\n",
    "    config = configuration.get_config(cfgfile)\n",
    "\n",
    "    update_config = False\n",
    "\n",
    "    for section, values in config_required.items():\n",
    "        if not config.has_section(section):\n",
    "            logger.warn('section: {} not found in {}'.format(section, cfgfile))\n",
    "            logger.debug('adding section {}'.format(section))\n",
    "            config.add_section(section)\n",
    "            update_config = True\n",
    "        for option, value in values.items():\n",
    "            if not config.has_option(section, option):\n",
    "                logger.warn('option: {} not found in {}'.format(option, cfgfile))\n",
    "                logger.debug('adding option {}: {}'.format(option, value))\n",
    "\n",
    "                config.set(section, option, value)\n",
    "                update_config = True\n",
    "\n",
    "\n",
    "    # for section, options in config_required.items():\n",
    "\n",
    "    if update_config:\n",
    "        try:\n",
    "            logger.info('updating configuration file at: {}'.format(cfgfile))\n",
    "            configuration.create_config(cfgfile, config)\n",
    "        except Exception as e:\n",
    "            logger.error(e)\n",
    "            \n",
    "    return(config)"
   ]
  },
  {
   "cell_type": "code",
   "execution_count": 4,
   "metadata": {
    "collapsed": false
   },
   "outputs": [],
   "source": [
    "def getTeamDrive(myDrive):\n",
    "    '''\n",
    "    menu interaction to find appropriate teamdrive ID for storing portfolios\n",
    "    '''\n",
    "    logger = logging.getLogger(__name__)\n",
    "    myMenu = menu()\n",
    "    teamDrives = {}\n",
    "    logging.debug('fetching list of team drives')\n",
    "    for each in myDrive.listTeamDrives():\n",
    "        try:\n",
    "            teamDrives[each['name']] = each['id']\n",
    "            myMenu.addItem(each['name'])\n",
    "        except KeyError as e:\n",
    "            logger.warn('KeyError: {}'.format(e))\n",
    "            \n",
    "    myMenu.sortMenu()\n",
    "    td_name = myMenu.loopChoice(optional=True, message='Choose Team Drive for Portfolios')\n",
    "    if not td_name == 'Q':\n",
    "#         return(teamDrives[td_name])\n",
    "        return([td_name, teamDrives[td_name]])\n",
    "    else:\n",
    "        return(None)\n",
    "    "
   ]
  },
  {
   "cell_type": "code",
   "execution_count": null,
   "metadata": {
    "collapsed": false
   },
   "outputs": [],
   "source": [
    "foo = getTeamDrive(myDrive)\n",
    "print len(foo)"
   ]
  },
  {
   "cell_type": "code",
   "execution_count": null,
   "metadata": {
    "collapsed": false
   },
   "outputs": [],
   "source": [
    "foo"
   ]
  },
  {
   "cell_type": "code",
   "execution_count": 7,
   "metadata": {
    "collapsed": true
   },
   "outputs": [],
   "source": [
    "def getPortfolioFolder(myDrive, teamdriveID):\n",
    "    '''\n",
    "    menu interaction to find appropriate folder for storing portfolios\n",
    "    '''\n",
    "    logger = logging.getLogger(__name__)\n",
    "    myMenu = menu()\n",
    "    print 'Searching in Team Drive: {}'.format(teamdriveID[0])\n",
    "    \n",
    "    \n",
    "    logger.debug('')"
   ]
  },
  {
   "cell_type": "code",
   "execution_count": 8,
   "metadata": {
    "collapsed": false
   },
   "outputs": [
    {
     "name": "stdout",
     "output_type": "stream",
     "text": [
      "Searching in Team Drive: IT Blabla\n",
      "2018-08-14 16:07:54,901: [DEBUG: __main__.getPortfolioFolder] \n"
     ]
    }
   ],
   "source": [
    "getPortfolioFolder(myDrive, teamdriveID)"
   ]
  },
  {
   "cell_type": "code",
   "execution_count": 12,
   "metadata": {
    "collapsed": false
   },
   "outputs": [
    {
     "name": "stdout",
     "output_type": "stream",
     "text": [
      "2018-08-14 16:14:32,021: [INFO: root.<module>] ===Starting portfolio_creator Log===\n",
      "2018-08-14 16:14:32,022: [DEBUG: configuration.get_config] reading configuration file at: /Users/aaronciuffo/.config/portfolio_creator/portfolio_creator.ini\n"
     ]
    },
    {
     "ename": "NameError",
     "evalue": "name 'folderid' is not defined",
     "output_type": "error",
     "traceback": [
      "\u001b[0;31m---------------------------------------------------------------------------\u001b[0m",
      "\u001b[0;31mNameError\u001b[0m                                 Traceback (most recent call last)",
      "\u001b[0;32m<ipython-input-12-12706f3716ff>\u001b[0m in \u001b[0;36m<module>\u001b[0;34m()\u001b[0m\n\u001b[1;32m     16\u001b[0m \u001b[0;31m####### set all config options\u001b[0m\u001b[0;34m\u001b[0m\u001b[0;34m\u001b[0m\u001b[0m\n\u001b[1;32m     17\u001b[0m \u001b[0mteamdriveID\u001b[0m \u001b[0;34m=\u001b[0m \u001b[0;34m[\u001b[0m\u001b[0mmyConfig\u001b[0m\u001b[0;34m.\u001b[0m\u001b[0mget\u001b[0m\u001b[0;34m(\u001b[0m\u001b[0;34m'Main'\u001b[0m\u001b[0;34m,\u001b[0m \u001b[0;34m'teamdrivename'\u001b[0m\u001b[0;34m)\u001b[0m\u001b[0;34m,\u001b[0m \u001b[0mmyConfig\u001b[0m\u001b[0;34m.\u001b[0m\u001b[0mget\u001b[0m\u001b[0;34m(\u001b[0m\u001b[0;34m'Main'\u001b[0m\u001b[0;34m,\u001b[0m \u001b[0;34m'teamdriveid'\u001b[0m\u001b[0;34m)\u001b[0m\u001b[0;34m]\u001b[0m\u001b[0;34m\u001b[0m\u001b[0m\n\u001b[0;32m---> 18\u001b[0;31m \u001b[0mfolderID\u001b[0m \u001b[0;34m=\u001b[0m \u001b[0;34m[\u001b[0m\u001b[0mmyConfig\u001b[0m\u001b[0;34m.\u001b[0m\u001b[0mget\u001b[0m\u001b[0;34m(\u001b[0m\u001b[0;34m'Main'\u001b[0m\u001b[0;34m,\u001b[0m \u001b[0mfolderid\u001b[0m\u001b[0;34m)\u001b[0m\u001b[0;34m,\u001b[0m \u001b[0mmyConfig\u001b[0m\u001b[0;34m.\u001b[0m\u001b[0mget\u001b[0m\u001b[0;34m(\u001b[0m\u001b[0;34m'Main'\u001b[0m\u001b[0;34m,\u001b[0m \u001b[0;34m'foldername'\u001b[0m\u001b[0;34m)\u001b[0m\u001b[0;34m]\u001b[0m\u001b[0;34m\u001b[0m\u001b[0m\n\u001b[0m\u001b[1;32m     19\u001b[0m \u001b[0;34m\u001b[0m\u001b[0m\n\u001b[1;32m     20\u001b[0m \u001b[0;34m\u001b[0m\u001b[0m\n",
      "\u001b[0;31mNameError\u001b[0m: name 'folderid' is not defined"
     ]
    }
   ],
   "source": [
    "\n",
    "version = '00.00 - 18.08.13'\n",
    "appName = 'portfolio_creator'\n",
    "\n",
    "cfgfile = appName+'.ini'\n",
    "cfgpath = os.path.join('~/.config/', appName)\n",
    "cfgfile = os.path.expanduser(os.path.join(cfgpath, cfgfile))\n",
    "updateConfig = False\n",
    "\n",
    "logger = logging.getLogger(__name__)\n",
    "setup_logging(default_level=logging.DEBUG)\n",
    "logging.info('===Starting {} Log==='.format(appName))\n",
    "\n",
    "myConfig = getConfiguration(cfgfile)\n",
    "\n",
    "####### set all config options \n",
    "teamdriveID[0] = myConfig.get('Main', 'teamdrivename')\n",
    "\n",
    "    \n",
    "#     , myConfig.get('Main', 'teamdriveid')]\n",
    "# folderID = [myConfig.get('Main', folderid), myConfig.get('Main', 'foldername')]\n",
    "\n",
    "\n",
    "if logging.getLogger().getEffectiveLevel() <= 10:\n",
    "    config_dict = {}\n",
    "    for section in myConfig.sections():\n",
    "        config_dict[section] = {}\n",
    "        for option in myConfig.options(section):\n",
    "            config_dict[section][option] = myConfig.get(section, option)\n",
    "\n",
    "    logging.debug('current configuration:')\n",
    "    logging.debug('\\n{}'.format(config_dict))\n",
    "\n",
    "# print '\\n'*10\n",
    "print 'Welcome to the portfolio creator for Google Team Drive version {0}'.format(version)\n",
    "print 'This program will create portfolio folders in Google Team Drive for students.'\n",
    "print 'You will need a student_export.text file from PowerSchool with at least the following information:'\n",
    "print '     ClassOf, FirstLast, Student_Number\\n'\n",
    "print 'The order of the CSV does not matter, but the headers must be on the very first line.'\n",
    "# raw_input(\"Press Enter to continue...\\n\\n\\n\")\n",
    "\n",
    "    \n",
    "# google drive authorization\n",
    "logging.info('checking google credentials')\n",
    "#### Add instructions before this shoots user over to a web authorization \n",
    "credential_store = os.path.expanduser(myConfig.get('Main', 'credentials'))\n",
    "try:\n",
    "    credentials = getCredentials(credential_store)\n",
    "except Exception as e:\n",
    "    logging.critical(e)\n",
    "\n",
    "# configure google drive object\n",
    "myDrive = googledrive(credentials)\n",
    "    \n",
    "if len(teamdriveID) < 1:\n",
    "    # set up team drive id\n",
    "    teamdriveID = getTeamDrive(myDrive)\n",
    "    if not teamdriveID:\n",
    "        logging.debug('user exit')\n",
    "        sys.exit(0)\n",
    "    else:\n",
    "        myConfig.set('Main', 'teamdrivename', teamdriveID[0])\n",
    "        myConfig.set('Main', 'teamdriveid', teamdriveID[1])\n",
    "        updateConfig = True\n",
    "        \n",
    "\n",
    "\n",
    "    if updateConfig:\n",
    "        configuration.create_config(cfgfile, myConfig)\n",
    "\n",
    "\n"
   ]
  },
  {
   "cell_type": "code",
   "execution_count": null,
   "metadata": {
    "collapsed": false
   },
   "outputs": [],
   "source": [
    "foo = myDrive.search(teamdrive = teamdriveID, fuzzy = True, name = 'Port')\n",
    "# help(myDrive)\n",
    "print foo"
   ]
  },
  {
   "cell_type": "code",
   "execution_count": 11,
   "metadata": {
    "collapsed": false
   },
   "outputs": [
    {
     "data": {
      "text/plain": [
       "['IT Blabla', '0ACLfU8KeD_BHUk9PVA']"
      ]
     },
     "execution_count": 11,
     "metadata": {},
     "output_type": "execute_result"
    }
   ],
   "source": [
    "teamdriveID\n"
   ]
  }
 ],
 "metadata": {
  "kernelspec": {
   "display_name": "Python 2",
   "language": "python",
   "name": "python2"
  },
  "language_info": {
   "codemirror_mode": {
    "name": "ipython",
    "version": 2
   },
   "file_extension": ".py",
   "mimetype": "text/x-python",
   "name": "python",
   "nbconvert_exporter": "python",
   "pygments_lexer": "ipython2",
   "version": "2.7.13"
  }
 },
 "nbformat": 4,
 "nbformat_minor": 2
}

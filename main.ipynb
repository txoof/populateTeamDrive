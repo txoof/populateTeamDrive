{
 "cells": [
  {
   "cell_type": "code",
   "execution_count": 26,
   "metadata": {
    "collapsed": false,
    "deletable": true,
    "editable": true
   },
   "outputs": [],
   "source": [
    "import logging\n",
    "import logging.config\n",
    "import os\n",
    "import json\n",
    "# import ConfigParser\n",
    "import sys\n",
    "import re\n",
    "from glob import glob\n",
    "import csv\n",
    "\n",
    "import configuration\n",
    "from gdrive.auth import getCredentials\n",
    "from gdrive.gdrive import googledrive, GDriveError\n",
    "\n",
    "from humanfriendly import prompts\n",
    "\n",
    "# get the current working directory\n",
    "# When launching a .command from the OS X Finder, the working directory is typically ~/; this is problematic\n",
    "# for locating resource files\n",
    "# I don't love this hack, but it works.\n",
    "try:\n",
    "    __file__\n",
    "    cwd = os.path.dirname(__file__)+'/'\n",
    "except NameError as e:\n",
    "    cwd = os.getcwd()"
   ]
  },
  {
   "cell_type": "code",
   "execution_count": 27,
   "metadata": {
    "collapsed": true,
    "deletable": true,
    "editable": true
   },
   "outputs": [],
   "source": [
    "def setup_logging(\n",
    "    default_path='logging.json',\n",
    "    default_level=logging.INFO,\n",
    "    env_key='LOG_CFG'\n",
    "):\n",
    "    \"\"\"Setup logging configuration\n",
    "\n",
    "    \"\"\"\n",
    "    path = default_path\n",
    "    value = os.getenv(env_key, None)\n",
    "    if value:\n",
    "        path = value\n",
    "    if os.path.exists(path):\n",
    "        with open(path, 'rt') as f:\n",
    "            config = json.load(f)\n",
    "        logging.config.dictConfig(config)\n",
    "        logging.getLogger().setLevel(default_level)\n",
    "    else:\n",
    "        logging.basicConfig(level=default_level)"
   ]
  },
  {
   "cell_type": "code",
   "execution_count": 28,
   "metadata": {
    "collapsed": true,
    "deletable": true,
    "editable": true
   },
   "outputs": [],
   "source": [
    "def fileSearch(path = None, search = None):\n",
    "        '''search for a file name string in a given path'''\n",
    "        if not search:\n",
    "            search = ''\n",
    "        logger = logging.getLogger(__name__)\n",
    "        logger.debug('searching path: {0} for \\\"{1}\\\"'.format(path, search))\n",
    "        try:\n",
    "            searchPath = os.path.expanduser(path)\n",
    "        except AttributeError as e:\n",
    "            logger.error('Error: no path specified')\n",
    "            searchPath = ''\n",
    "        try:\n",
    "            allFiles = os.listdir(searchPath)\n",
    "        except OSError as e:\n",
    "            logger.error(e)\n",
    "            return(None)\n",
    "        \n",
    "        # list comprehension search with regex\n",
    "        #http://www.cademuir.eu/blog/2011/10/20/python-searching-for-a-string-within-a-list-list-comprehension/\n",
    "        regex = re.compile('.*('+search+').*')\n",
    "        return([m.group(0) for l in allFiles for m in [regex.search(l)] if m])"
   ]
  },
  {
   "cell_type": "code",
   "execution_count": 29,
   "metadata": {
    "collapsed": true,
    "deletable": true,
    "editable": true
   },
   "outputs": [],
   "source": [
    "def getConfiguration(cfgfile):\n",
    "    # required configuraiton options\n",
    "    # Section: {'option': 'default value'}\n",
    "    cfgpath = os.path.dirname(cfgfile)\n",
    "    config_required = {\n",
    "        'Main': {'credentials': os.path.join(cfgpath, 'credentials/'), \n",
    "                 'teamdriveID': '',\n",
    "                 'teamdrivename': '',\n",
    "                 'folderID': '',\n",
    "                 'foldername': '',\n",
    "                 },\n",
    "        }\n",
    "\n",
    "    config = configuration.get_config(cfgfile)\n",
    "\n",
    "    update_config = False\n",
    "\n",
    "    for section, values in config_required.items():\n",
    "        if not config.has_section(section):\n",
    "            logger.warn('section: {} not found in {}'.format(section, cfgfile))\n",
    "            logger.debug('adding section {}'.format(section))\n",
    "            config.add_section(section)\n",
    "            update_config = True\n",
    "        for option, value in values.items():\n",
    "            if not config.has_option(section, option):\n",
    "                logger.warn('option: {} not found in {}'.format(option, cfgfile))\n",
    "                logger.debug('adding option {}: {}'.format(option, value))\n",
    "\n",
    "                config.set(section, option, value)\n",
    "                update_config = True\n",
    "\n",
    "\n",
    "    # for section, options in config_required.items():\n",
    "\n",
    "    if update_config:\n",
    "        try:\n",
    "            logger.debug('updating configuration file at: {}'.format(cfgfile))\n",
    "            configuration.create_config(cfgfile, config)\n",
    "        except Exception as e:\n",
    "            logger.error(e)\n",
    "            \n",
    "    return(config)"
   ]
  },
  {
   "cell_type": "code",
   "execution_count": 30,
   "metadata": {
    "collapsed": true,
    "deletable": true,
    "editable": true
   },
   "outputs": [],
   "source": [
    "def getTeamDrive(myDrive):\n",
    "    '''\n",
    "    menu driven interaction for choosing a writeable team drive\n",
    "    '''\n",
    "    #available and writeable team drives\n",
    "    logger = logging.getLogger(__name__)\n",
    "    try:\n",
    "        teamdrives_all = myDrive.listTeamDrives()\n",
    "    except Exception as e:\n",
    "        logger.error(e)\n",
    "    \n",
    "    if len(teamdrives_all) < 1:\n",
    "        logger.warn('no writeable team drives found for this user')\n",
    "        return(None)\n",
    "    \n",
    "    teamdrives_writeable = {}\n",
    "    for drive in teamdrives_all:\n",
    "        if drive['capabilities']['canAddChildren']:\n",
    "            teamdrives_writeable[drive['name']] = drive\n",
    "    \n",
    "    teamdrive = None\n",
    "    \n",
    "    try:\n",
    "        teamdrive_name = prompts.prompt_for_choice(choices=teamdrives_writeable, default=None)\n",
    "        teamdrive=teamdrives_writeable[teamdrive_name]\n",
    "    except prompts.TooManyInvalidReplies as e:\n",
    "        logger.warning('user failed to make a choice')\n",
    "    \n",
    "    return(teamdrive)"
   ]
  },
  {
   "cell_type": "code",
   "execution_count": 31,
   "metadata": {
    "collapsed": true,
    "deletable": true,
    "editable": true
   },
   "outputs": [],
   "source": [
    "def getPortfolioFolder(myDrive):\n",
    "    '''\n",
    "    menu driven interaction to locate and choose portfolio folder on team drive\n",
    "    \n",
    "    returns:\n",
    "        folder (dictionary) - google drive object properties dictionary\n",
    "    '''\n",
    "    logger = logging.getLogger(__name__)\n",
    "    logger.info('starting search for portfolio folder in teamdrive: {}; {}'.format(teamdriveName, teamdriveID))\n",
    "    \n",
    "    foldersearch = ''\n",
    "    attempt = 5\n",
    "    while (len(foldersearch) <= 0) and (attempt > 0):\n",
    "        attempt -= 1\n",
    "        foldersearch = prompts.prompt_for_input(question='Please enter a portion of the portfolio folder name (case insensitive): ',\n",
    "                                                default=None, strip=True)\n",
    "        if len(foldersearch) <= 0:\n",
    "            print 'Nothing entered. {} attempts remain.'.format(attempt)\n",
    "            \n",
    "        searchresult = myDrive.search(name=foldersearch, fuzzy=True, teamdrive = teamdriveID, mimeType='folder')\n",
    "        if len(searchresult['files']) <= 0:\n",
    "            print 'No folders contained \"{}\"'.format(foldersearch)\n",
    "            print 'Please try entering only part of the folder name'\n",
    "            foldersearch = ''\n",
    "            \n",
    "    \n",
    "    \n",
    "    if foldersearch <= 0:\n",
    "        logger.warn('user entered 0 length string for folder search')\n",
    "        return(None)\n",
    "    \n",
    "    \n",
    "    foldernames = []\n",
    "    for each in searchresult['files']:\n",
    "        foldernames.append(each['name'])\n",
    "    \n",
    "    try:\n",
    "        foldername = prompts.prompt_for_choice(choices=foldernames)\n",
    "    except prompts.TooManyInvalidReplies as e:\n",
    "        logger.warning('user failed to make a choice')\n",
    "        return(None)\n",
    "    \n",
    "    return(searchresult['files'][foldernames.index(foldername)])\n",
    "    "
   ]
  },
  {
   "cell_type": "code",
   "execution_count": 32,
   "metadata": {
    "collapsed": true,
    "deletable": true,
    "editable": true
   },
   "outputs": [],
   "source": [
    "def getPathfromList(list_path=['~/'], message='Choose from the paths below', default=None):\n",
    "    '''\n",
    "    menu driven interaction to select path \n",
    "    accepts:\n",
    "        list_path (list) - list of paths to display\n",
    "        messager (string) - message to display\n",
    "        default (string) - default choice (must be one of the items in the list otherwise defaults to None)\n",
    "    \n",
    "    returns:\n",
    "        searchPath (string) - valid and existing path\n",
    "    '''\n",
    "    logger = logging.getLogger(__name__)\n",
    "    logger.debug('path list: {}'.format(list_path))\n",
    "    searchPath = None\n",
    "    list_path = sorted(list_path)\n",
    "    list_path.append('OTHER')\n",
    "    \n",
    "    if default not in list_path:\n",
    "        logging.warn('default ({}) not in list; setting default = None'.format(default))\n",
    "        default = None\n",
    "    \n",
    "    if message:\n",
    "        print message\n",
    "    searchPath = prompts.prompt_for_choice(choices=list_path, default=default)\n",
    "    logger.debug('searchPath = {}'.format(searchPath))\n",
    "    \n",
    "    if not searchPath is 'OTHER':\n",
    "        searchPath = os.path.expanduser(searchPath)\n",
    "    else:\n",
    "        attempt = 5\n",
    "        searchPath = None\n",
    "        while not searchPath and attempt > 0:\n",
    "            logger.debug('attempts remaining: {}'.format(attempt))\n",
    "            attempt -= 1\n",
    "            searchPath = prompts.prompt_for_input('Please type the complete path to use: ')\n",
    "            logger.debug('searchPath = {}'.format(searchPath))         \n",
    "    \n",
    "    if len(searchPath) < 1:\n",
    "        searchPath = None\n",
    "    return (searchPath) "
   ]
  },
  {
   "cell_type": "code",
   "execution_count": 33,
   "metadata": {
    "collapsed": true,
    "deletable": true,
    "editable": true
   },
   "outputs": [],
   "source": [
    "def getFiles(path='~/', pattern='.*', ignorecase=True):\n",
    "    '''\n",
    "    search path for files matching pattern (regular expression)\n",
    "    accepts:\n",
    "        path (string) - path to search\n",
    "        pattern (string) - regular expression to search for in file names\n",
    "        ignorecase (bool) - defaults to True, ignore file name case'''\n",
    "    logger = logging.getLogger(__name__)\n",
    "    \n",
    "    path = os.path.expanduser(path+'/*')\n",
    "    logger.debug('Path: {}, glob pattern: {}, ignorecase: {}'.format(path, pattern, ignorecase))\n",
    "    \n",
    "    flags = re.IGNORECASE\n",
    "    files = []\n",
    "        \n",
    "    if ignorecase:\n",
    "        for eachfile in [f for f in glob(path) if re.match(pattern, f, flags=flags)]:\n",
    "            files.append(eachfile)\n",
    "    \n",
    "    if not ignorecase:\n",
    "        for eachfile in [f for f in glob(path) if re.match(pattern, f)]:\n",
    "            files.append(eachfile)        \n",
    "    \n",
    "    return(files)"
   ]
  },
  {
   "cell_type": "code",
   "execution_count": 34,
   "metadata": {
    "collapsed": true,
    "deletable": true,
    "editable": true
   },
   "outputs": [],
   "source": [
    "def chooseFile(path='~/', pattern='.*', ignorecase=True, message='Please choose a file from the list'):\n",
    "    '''\n",
    "    menu interaction for choose a file in the specified path from the file glob created using a regex pattern\n",
    "    accepts:\n",
    "        path (string) - path to search\n",
    "        pattern (string) - regular expression to search for in file names\n",
    "        ignorecase (bool) - defaults to True, ignore file name case\n",
    "        message(string) - message to show\n",
    "    returns:\n",
    "        selection (string) - selected file'''\n",
    "    \n",
    "    logger = logging.getLogger(__name__)\n",
    "    filelist = getFiles(path=path, pattern=pattern, ignorecase=ignorecase)\n",
    "    logger.debug('filelist: {}'.format(filelist))\n",
    "    print message\n",
    "    selection = prompts.prompt_for_choice(choices=filelist)\n",
    "    return(selection)"
   ]
  },
  {
   "cell_type": "code",
   "execution_count": 35,
   "metadata": {
    "collapsed": true,
    "deletable": true,
    "editable": true
   },
   "outputs": [],
   "source": [
    "def fileToList(inputfile):\n",
    "    logger = logging.getLogger(__name__)\n",
    "    logger.debug('inputfile = {}'.format(inputfile))\n",
    "    outputlist = []\n",
    "    \n",
    "    try:\n",
    "        with open(inputfile, 'r') as fhandle:\n",
    "            logger.debug('reading file: {}'.format(inputfile))\n",
    "            for line in fhandle:\n",
    "                outputlist.append(line.strip('\\n'))\n",
    "    except IOError as e:\n",
    "        logger.debug(e)\n",
    "    return(outputlist)"
   ]
  },
  {
   "cell_type": "code",
   "execution_count": 36,
   "metadata": {
    "collapsed": true,
    "deletable": true,
    "editable": true
   },
   "outputs": [],
   "source": [
    "def mapHeaders(file_csv, expected_headers=[]):\n",
    "    '''map an expected list of header values to their position in a csv\n",
    "    accepts:\n",
    "        file_csv (csv.reader object) \n",
    "        expected_headers (list) - list of headers to search for, ignoring all others\n",
    "    '''\n",
    "    logger = logging.getLogger(__name__)\n",
    "    logger.debug('mapping headers')\n",
    "    \n",
    "    missing_headers = []\n",
    "    headerMap = {} \n",
    "    \n",
    "    try:\n",
    "        csvHeader = file_csv[0]\n",
    "    except IndexError as e:\n",
    "        logging.error('csv empty: {}'.format(e))\n",
    "        return(None)\n",
    "    \n",
    "    for each in expected_headers:\n",
    "        if each not in csvHeader:\n",
    "            missing_headers.append(each)\n",
    "    \n",
    "    headerMap['missingheaders'] = missing_headers\n",
    "    \n",
    "    headerMap['headers'] = {}\n",
    "\n",
    "    if len(missing_headers) > 0:\n",
    "        logging.warn('missing headers: {}'.format(missing_headers))\n",
    "    for index, value in enumerate(csvHeader):\n",
    "        if value in expected_headers:\n",
    "            headerMap['headers'][value] = index\n",
    "    logger.debug('successfully maped headers')\n",
    "    return(headerMap)"
   ]
  },
  {
   "cell_type": "code",
   "execution_count": 38,
   "metadata": {
    "collapsed": false,
    "deletable": true,
    "editable": true
   },
   "outputs": [
    {
     "name": "stdout",
     "output_type": "stream",
     "text": [
      "\n",
      "\n",
      "\n",
      "\n",
      "You *may* be directed to a google web page that asks you to authorize this applicaiton.\n",
      "Please choose an ASH account and authorize this applicaiton.\n",
      "When you are done, please close the newly created tab in your web browser and return to this window.\n",
      "\n",
      " Would you like to proceed? [Y/n] \n"
     ]
    },
    {
     "name": "stderr",
     "output_type": "stream",
     "text": [
      "\n"
     ]
    },
    {
     "name": "stdout",
     "output_type": "stream",
     "text": [
      "Please choose which folder contains the Student Export File.\n",
      "\n",
      "  1. ~/Desktop\n",
      "  2. ~/Downloads (default choice)\n",
      "  3. OTHER\n",
      " \n",
      " Enter your choice as a number or unique substring (Control-C aborts): 2\n"
     ]
    },
    {
     "name": "stderr",
     "output_type": "stream",
     "text": [
      "\n"
     ]
    },
    {
     "name": "stdout",
     "output_type": "stream",
     "text": [
      "Please choose a file from the list\n",
      "\n",
      "  1. /Users/aaronciuffo/Downloads/student.export (1).text\n",
      "  2. /Users/aaronciuffo/Downloads/student.export (2).text\n",
      "  3. /Users/aaronciuffo/Downloads/student.export (3).text\n",
      "  4. /Users/aaronciuffo/Downloads/student.export (4).text\n",
      "  5. /Users/aaronciuffo/Downloads/student.export.text\n",
      "  6. /Users/aaronciuffo/Downloads/student_export.text\n",
      "  7. /Users/aaronciuffo/Downloads/Student_Export.txt\n",
      " \n",
      " Enter your choice as a number or unique substring (Control-C aborts): 4\n"
     ]
    },
    {
     "name": "stderr",
     "output_type": "stream",
     "text": [
      "\n"
     ]
    },
    {
     "name": "stdout",
     "output_type": "stream",
     "text": [
      "\n",
      "Curent Configuration:\n",
      "[Main]\n",
      "credentials = ~/.config/portfolio_creator/credentials/\n",
      "teamdrivename = IT Blabla\n",
      "teamdriveid = 0ACLfU8KeD_BHUk9PVA\n",
      "foldername = Portfolios\n",
      "folderid = 1-D7UNBes_skfkQ6oBettiBICiBcZmbvn\n",
      "studentexport = /Users/aaronciuffo/Downloads/student.export (4).text\n",
      "\n",
      " Continue with the configuration above? [y/n] \n"
     ]
    },
    {
     "name": "stderr",
     "output_type": "stream",
     "text": [
      "\n",
      " Error: Please enter 'yes' or 'no' (there's no default choice).\n"
     ]
    },
    {
     "name": "stdout",
     "output_type": "stream",
     "text": [
      "\n",
      " Continue with the configuration above? [y/n] y\n"
     ]
    },
    {
     "name": "stderr",
     "output_type": "stream",
     "text": [
      "\n"
     ]
    }
   ],
   "source": [
    "version = '00.00 - 18.08.13'\n",
    "appName = 'portfolio_creator'\n",
    "\n",
    "cfgfile = appName+'.ini'\n",
    "cfgpath = os.path.join('~/.config/', appName)\n",
    "cfgfile = os.path.expanduser(os.path.join(cfgpath, cfgfile))\n",
    "\n",
    "studentexport_list = ['~/Downloads', '~/Desktop']\n",
    "studentexport = None\n",
    "studentexport_path = None\n",
    "\n",
    "\n",
    "downloadlink = 'https://foo.foof.foo'\n",
    "\n",
    "\n",
    "updateConfig = False\n",
    "\n",
    "\n",
    "logger = logging.getLogger(__name__)\n",
    "setup_logging(default_level=logging.WARN)\n",
    "logging.info('===Starting {} Log==='.format(appName))\n",
    "\n",
    "myConfig = getConfiguration(cfgfile)\n",
    "\n",
    "teamdriveName = '**UNKNOWN**'\n",
    "\n",
    "####### set all config options \n",
    "if myConfig.has_option('Main', 'credentials'):\n",
    "    credential_store = os.path.expanduser(myConfig.get('Main', 'credentials'))\n",
    "else:\n",
    "    credential_store = os.path.expanduser(os.path.join(cfgpath, 'credentials'))\n",
    "    updateConfig = True\n",
    "\n",
    "if myConfig.has_option('Main', 'teamdriveid'):\n",
    "    teamdriveID = myConfig.get('Main', 'teamdriveid')\n",
    "else:\n",
    "    teamdriveID = None\n",
    "    \n",
    "if myConfig.has_option('Main', 'teamdrivename'):\n",
    "    teamdriveName = myConfig.get('Main', 'teamdrivename')\n",
    "else:\n",
    "    teamdriveName = None\n",
    "    \n",
    "if myConfig.has_option('Main', 'folderid'):\n",
    "    folderID = myConfig.get('Main', 'folderid')\n",
    "else:\n",
    "    folderID = None\n",
    "\n",
    "if myConfig.has_option('Main', 'foldername'):\n",
    "    folderName = myConfig.get('Main', 'foldername')\n",
    "else:\n",
    "    folderName = None\n",
    "\n",
    "if myConfig.has_option('Main', 'gradefolders'):\n",
    "    gradefolders = myConfig.get('Main', 'gradefolders')\n",
    "else:\n",
    "    gradefolders = './gradefolders.txt'\n",
    "\n",
    "\n",
    "    \n",
    "if logging.getLogger().getEffectiveLevel() <= 10:\n",
    "    config_dict = {}\n",
    "    for section in myConfig.sections():\n",
    "        config_dict[section] = {}\n",
    "        for option in myConfig.options(section):\n",
    "            config_dict[section][option] = myConfig.get(section, option)\n",
    "\n",
    "    logger.debug('current configuration:')\n",
    "    logger.debug('\\n{}'.format(config_dict))\n",
    "\n",
    "# google drive authorization\n",
    "logging.info('checking google credentials')\n",
    "#### Add instructions before this shoots user over to a web authorization \n",
    "print '\\n'*3\n",
    "print 'You *may* be directed to a google web page that asks you to authorize this applicaiton.'\n",
    "print 'Please choose an ASH account and authorize this applicaiton.'\n",
    "print 'When you are done, please close the newly created tab in your web browser and return to this window.'\n",
    "if not prompts.prompt_for_confirmation(question='Would you like to proceed?', default='y'):\n",
    "    print 'Exiting'\n",
    "    exit(0)\n",
    "    \n",
    "credential_store = os.path.expanduser(myConfig.get('Main', 'credentials'))\n",
    "\n",
    "# attempt to authorize using stored credentials or generate new credentials as needed\n",
    "try:\n",
    "    credentials = getCredentials(credential_store)\n",
    "except Exception as e:\n",
    "    logging.critical(e)\n",
    "\n",
    "# configure google drive object\n",
    "myDrive = googledrive(credentials)\n",
    "\n",
    "if not teamdriveID:\n",
    "    logger.warn('Team Drive ID missing')\n",
    "    try:\n",
    "        teamdrive = getTeamDrive(myDrive)\n",
    "    except GDriveError as e:\n",
    "        logging.error('Error accessing team drives: e')\n",
    "        exit(0)\n",
    "        \n",
    "    if not teamdrive:\n",
    "        logger.error('no team drives found')\n",
    "        logger.error('userinfo: {}'.format(myDrive.userinfo['emailAddress']))\n",
    "        print('No Team Drives located; cannot proceed.')\n",
    "        print('You are authenticated as: {}'.format(myDrive.userinfo['emailAddress']))\n",
    "        logger.error('exiting')\n",
    "        exit(0)\n",
    "        \n",
    "    try:\n",
    "        teamdriveID = teamdrive['id']\n",
    "        teamdriveName = teamdrive['name']\n",
    "    except (KeyError, TypeError) as e:\n",
    "        logger.error('no valid team drive information found: {}'.format(e))\n",
    "        logger.error('userinfo: {}'.format(myDrive.userinfo['emailAddress']))\n",
    "        print 'No Team Drive was found. Do you have write access to a Team Drive with this account?'\n",
    "        print 'You are authenticated as: {}'.format(myDrive.userinfo['emailAddress'])\n",
    "        logger.error('exiting')\n",
    "        exit(0)\n",
    "        \n",
    "    print 'Using Team Drive: {}'.format(teamdriveName)    \n",
    "    myConfig.set('Main', 'teamdriveid', teamdriveID)\n",
    "    myConfig.set('Main', 'teamdriveName', teamdriveName)\n",
    "    updateConfig = True\n",
    "    \n",
    "if not folderID:\n",
    "    logger.warn('Folder ID missing')\n",
    "    try:\n",
    "        folder = getPortfolioFolder(myDrive)\n",
    "    except GDriveError as e:\n",
    "        logger.error('Could not search for folder: {}'.format(e))\n",
    "        print ('There was a problem searching Team Drive for a folder')\n",
    "        print ('You are authenticated as: {}'.format(myDrive.userinfo['emailAddress']))\n",
    "        print ('If this is not correct do...')\n",
    "    try:\n",
    "        folderID = folder['id']\n",
    "        folderName = folder['name']\n",
    "    except (KeyError, TypeError) as e:\n",
    "        logger.error('no valid folder information found {}'.format(e))\n",
    "        logger.error('exiting')\n",
    "        exit(0)\n",
    "    \n",
    "    print 'Using Folder: {} on Team Drive: {}'.format(folderName, teamdriveName)\n",
    "    myConfig.set('Main', 'foldername', folderName)\n",
    "    myConfig.set('Main', 'folderid', folderID)\n",
    "    updateConfig=True\n",
    "\n",
    "if not os.path.exists(gradefolders):\n",
    "    logger.error('failed to locate {}'.format(gradefolders))\n",
    "    logger.error('exiting')\n",
    "    print 'gradefolders.txt file is missing. Please reinstall the application.'\n",
    "    print 'download link: {}'.format(downloadlink)\n",
    "    exit(0)\n",
    "\n",
    "# get the gradefolder file\n",
    "gradefolder_list = fileToList(gradefolders)\n",
    "\n",
    "# check validity of gradefolder\n",
    "if len(gradefolder_list) < 1:\n",
    "    print 'grade folder file is corrupt. Please reinstall the application'\n",
    "    exit(0)\n",
    "\n",
    "\n",
    "if updateConfig:\n",
    "    configuration.create_config(cfgfile, myConfig)\n",
    "\n",
    "\n",
    "# # get and validate path for student_export folder\n",
    "attempt = 5\n",
    "while not studentexport and (attempt > 0):\n",
    "    logger.debug('remaining attempts to locate student export: {}'.format(attempt))\n",
    "    attempt -= 1\n",
    "    if not studentexport:\n",
    "        studentexport_path = getPathfromList(studentexport_list, \n",
    "                                             message='Please choose which folder contains the Student Export File.',\n",
    "                                             default=studentexport_list[0])\n",
    "    \n",
    "    # move this pattern into the configuration file? \n",
    "    studentexport = chooseFile(path=studentexport_path, pattern='.*student.*export.*')\n",
    "    logger.debug('student export file chosen: {}'.format(studentexport))\n",
    "    if not os.access(studentexport, os.R_OK):\n",
    "        print 'Could not read file: {}. Please choose another file'.format(studentexport)\n",
    "        logger.error('file is unreadable: {}'.format(studentexport))\n",
    "        studentexport = None\n",
    "\n",
    "if not studentexport:\n",
    "    logger.error('no student export file; exiting')\n",
    "    print 'Cannot proceed without a student export file. Exiting'\n",
    "    exit(0)\n",
    "else:\n",
    "    myConfig.set('Main', 'studentexport', studentexport)\n",
    "    studentexport_list = fileToList(studentexport)\n",
    "        \n",
    "logger.debug('Student export file: {}'.format(studentexport))\n",
    "\n",
    "studentexport_csv = []\n",
    "try: \n",
    "    with open(studentexport, 'rU') as csvfile:\n",
    "        csvreader = csv.reader(csvfile)\n",
    "        for row in csvreader:\n",
    "            studentexport_csv.append(row)\n",
    "except (OSError, IOError) as e:\n",
    "    logging.critical('error reading file: {}\\n{}'.format(studentexport,e))\n",
    "    print 'Could not read file: {}; exiting.'.format(studentexport)\n",
    "    exit(0)\n",
    "\n",
    "# parse and check validity of student export file\n",
    "expected_headers = ['ClassOf', 'Student_Number', 'LastFirst']\n",
    "headerMap = mapHeaders(file_csv=studentexport_csv, expected_headers=expected_headers)\n",
    "\n",
    "if not headerMap or (len(headerMap['headers']) != len(expected_headers)):\n",
    "    logging.error('cannot continue without valid header map; exiting')\n",
    "    print('file: {} appears to not contain the expected header row (in any order): {}'.format(studentexport, expected_headers))\n",
    "    if headerMap['missingheaders']:\n",
    "        print('your file appears to be missing the field(s): {}'.format(headerMap['missingheaders']))\n",
    "    print('please try to download a new student.export file before trying again; exiting')\n",
    "#     exit(0)\n",
    "\n",
    "logger.debug('asking to proceed with current configuration')\n",
    "print '\\nCurent Configuration:'\n",
    "for section in myConfig.sections():\n",
    "    print '[{}]'.format(section)\n",
    "    for option in myConfig.options(section):\n",
    "        print '{} = {}'.format(option, myConfig.get(section, option))\n",
    "if not prompts.prompt_for_confirmation('Continue with the configuration above?'):\n",
    "    logger.debug('user chose to exit')\n",
    "    exit(0)"
   ]
  },
  {
   "cell_type": "code",
   "execution_count": 39,
   "metadata": {
    "collapsed": true,
    "deletable": true,
    "editable": true
   },
   "outputs": [],
   "source": [
    "def checkFolder(folderID, myDrive):\n",
    "    '''\n",
    "    Checks properties of a folder id\n",
    "\n",
    "    returns:\n",
    "        tuple(isFolder (bool), writeable(bool), properties(dict)) - false if no match\n",
    "    \n",
    "    '''\n",
    "    logger = logging.getLogger(__name__)\n",
    "    logger.debug('checking folder id: {}'.format(folderID))\n",
    "    props = None\n",
    "    isFolder = False\n",
    "    writeable = False\n",
    "    try:\n",
    "        logger.debug('checking properties for ID: {}'.format(folderID))\n",
    "        props = myDrive.getprops(folderID, 'capabilities, mimeType, name')\n",
    "    except GDriveError as e:\n",
    "        logger.error('failed to get properties for {}; {}'.format(folderID, e))\n",
    "        logger.error('please try again. if this error persists, please try reconfiguring the folder')\n",
    "        logger.error('cannot continue; exiting')\n",
    "    \n",
    "    try:\n",
    "        if props['mimeType'] == myDrive.mimeTypes['folder']:\n",
    "            isFolder = True\n",
    "            logger.debug('this ID is a folder')\n",
    "        if props['capabilities']['canAddChildren']:\n",
    "            writeable = True\n",
    "            logger.debug('this ID is a writable folder')\n",
    "        else:\n",
    "            logger.debug('this ID is not a writable folder')\n",
    "    except (KeyError, TypeError) as e:\n",
    "        pass\n",
    "    \n",
    "    if not props:\n",
    "        logger.warn('this ID is not a folder')\n",
    "                \n",
    "    return(isFolder, writeable, props)"
   ]
  },
  {
   "cell_type": "code",
   "execution_count": null,
   "metadata": {
    "collapsed": true,
    "deletable": true,
    "editable": true
   },
   "outputs": [],
   "source": []
  },
  {
   "cell_type": "code",
   "execution_count": 109,
   "metadata": {
    "collapsed": false,
    "deletable": true,
    "editable": true
   },
   "outputs": [],
   "source": [
    "def createFolders(myDrive, parentFolder, teamdriveID, studentexport_csv, header_map):\n",
    "    '''\n",
    "    create folders on google drive if they do not exist\n",
    "    \n",
    "    accepts:\n",
    "        myDrive(googleDrive object)\n",
    "        folderid (string) - folder id string\n",
    "        folders (list) - list of folder names\n",
    "    \n",
    "    returns:\n",
    "        folderinfo (dict) - {folder name: folder url, or None for failures}\n",
    "    '''\n",
    "    logger = logging.getLogger(__name__)\n",
    "    logger.debug('creating folders at gdrive path: {}'.format(folderID))\n",
    "    \n",
    "    #TO DO: wtf is this?\n",
    "    myDrive.getprops\n",
    "    \n",
    "    studentFolders = {}\n",
    "    classOfFolders = {}\n",
    "    classOf_string = 'Class Of-'\n",
    "    \n",
    "    \n",
    "    # Define progress bar widgets for consistent look and feel\n",
    "    widgets = ['Checking: ', Percentage(), ' ',\n",
    "               Bar(marker='=',left='[',right=']'), \n",
    "               ' Processed ', Counter(),\n",
    "               ' ', ETA()]\n",
    "\n",
    "    \n",
    "    # check that google drive parent folder exists and is a folder\n",
    "    logger.debug('checking that portfolio folder exists and is writeable: {}'.format(parentFolder))\n",
    "    folder_check = checkFolder(parentFolder, myDrive)\n",
    "    if all(folder_check):\n",
    "        logger.debug('folder is OK')\n",
    "    else:\n",
    "        if not folder_check[1]:\n",
    "            print 'The portfolio folder you selected is not writeable'\n",
    "            logger.error('{} not writeable'.format(parentFolder))\n",
    "            return(None)\n",
    "        if folder_check[2]['mimeType'] != myDrive.mimeTypes['folder']:\n",
    "            print 'It appears you have not selected a valid folder. Please consider reconfiguring.'\n",
    "            logger.error('{} not a folder'.format(parentFolder))\n",
    "            return(None)\n",
    "    \n",
    "    # gather all unique and classOf rows from csv and build dictionaries\n",
    "    logger.debug('gathering \"Class Of\" folders from student export file')\n",
    "  \n",
    "    # build dictionaries \n",
    "    for student in studentexport_csv[1:]:\n",
    "        classOf = student[headerMap['headers']['ClassOf']]\n",
    "        studentNumber = student[headerMap['headers']['Student_Number']]\n",
    "        \n",
    "        classOfFolders[classOf] = {}\n",
    "        classOfFolders[classOf]['name'] = classOf_string + classOf\n",
    "    \n",
    "    logger.debug('{} \"Class Of\" folders found in student export file'.format(len(classOfFolders)))\n",
    "    \n",
    "    # check for existence of Class Of folders and create if they are missing\n",
    "    logger.debug('checking for existing \"Class Of\" folders in google drive')\n",
    "    \n",
    "    # init progress bar for class of folders \n",
    "    print 'Checking for or creating {} \"Class Of-\" folders in portfolio folder'.format(len(classOfFolders))\n",
    "    pbar = ProgressBar(widgets=widgets, maxval=len(classOfFolders))\n",
    "    pbar.start()\n",
    "    pbar_index = 0\n",
    "    \n",
    "    for eachClass in classOfFolders.keys():\n",
    "        # update the progress bar\n",
    "        pbar.update(pbar_index)\n",
    "        pbar_index += 1\n",
    "        \n",
    "        # assume folder needs to be created\n",
    "        createfolder=True\n",
    "        folder_name = classOfFolders[eachClass]['name']\n",
    "                \n",
    "        result = {}\n",
    "        try:\n",
    "            result = myDrive.search(name=folder_name, mimeType='folder', \n",
    "                                   teamdrive=teamdriveID, trashed=False,\n",
    "                                   fields='name, createdTime, mimeType, parents, properties, id',\n",
    "                                   orderBy='createdTime')     \n",
    "        except GDriveError as e:\n",
    "            logger.error('failed to find folder: {}'.format(e))\n",
    "            \n",
    "        # check for a valid files return, use the first entry\n",
    "        if result.has_key('files'):\n",
    "            if len(result['files']) > 0:\n",
    "                logger.debug('folder found; checking if valid and wirteable')\n",
    "                if all(checkFolder(result['files'][0]['id'], myDrive)):\n",
    "                    logger.debug('folder OK')\n",
    "                    classOfFolders[eachClass] = result['files'][0]\n",
    "                    createfolder=False\n",
    "            if len(result['files']) > 1:\n",
    "                logger.debug('{} {} folders found. Using the oldest.'.format(len(result['files']), folder_name))\n",
    "                print 'there are multiple folders with the name {}; consider deleting the uneeded folders.'.format(folder_name)\n",
    "                    \n",
    "        if createfolder:\n",
    "            logger.debug('creating folder: {}'.format(folder_name))\n",
    "            try:\n",
    "                result = myDrive.add(name=folder_name, parents=parentFolder, mimeType='folder')\n",
    "            except GDriveError as e:\n",
    "                logger.error('failed to create folder {} with error {}'.format(folder_name, e))\n",
    "                classOfFolders[eachClass] = None\n",
    "                continue\n",
    "            \n",
    "            # check for a result from the creation and record it\n",
    "            if any(result):\n",
    "                classOfFolders[eachClass] = result\n",
    "            else:\n",
    "                classOfFolders[eachClass] = None\n",
    "                \n",
    "                \n",
    "#         # record the information from the created folder\n",
    "#         if len(result['files']) > 0:\n",
    "#             classOfFolders[eachClass] = result['files'][0]\n",
    "#         else:\n",
    "#             classOfFolders[eachClass] = None\n",
    "\n",
    "    # finish updating the pbar for Class Of- Folders\n",
    "    pbar.finish()\n",
    "    print 'Completed\\n'\n",
    "\n",
    "    # create student folders within the class of folders\n",
    "    # init progress bar for class of folders \n",
    "    print 'Checking for or creating {} student folders in \"Class Of-\" folders'.format(len(studentexport_csv)-1)\n",
    "    pbar = ProgressBar(widgets=widgets, maxval=len(studentexport_csv)-1)\n",
    "    pbar.start()\n",
    "    pbar_index = 0\n",
    "    \n",
    "    for student in studentexport_csv[1:]:\n",
    "        # update the progress bar\n",
    "        pbar.update(pbar_index)\n",
    "        pbar_index += 1\n",
    "        # start off assuming the folder needs to be created\n",
    "        create_folder = True\n",
    "        \n",
    "        classOf = student[headerMap['headers']['ClassOf']]\n",
    "        student_number = student[headerMap['headers']['Student_Number']]\n",
    "        folder_name = student[headerMap['headers']['LastFirst']] + ' - ' + student_number\n",
    "        studentFolders[student_number] = {}\n",
    "\n",
    "        if classOfFolders[classOf]:\n",
    "            classOf_id = classOfFolders[classOf]['id']\n",
    "        else:\n",
    "            logger.error('missing data for parent folder: Class Of-{}; skipping student'.format(classOf))\n",
    "            studentFolders[student_number] = None\n",
    "            continue\n",
    "        \n",
    "        \n",
    "        # search for an existing folder\n",
    "        logger.debug('searching for folder {} with in Class Of-{}'.format(folder_name, classOf))\n",
    "        try:\n",
    "            result = myDrive.search(name=folder_name, parents=classOfFolders[classOf]['id'], \n",
    "                                    mimeType='folder',\n",
    "                                    teamdrive=teamdriveID,\n",
    "                                    fields='webViewLink, id, mimeType, name, parents')\n",
    "        except GDriveError as e:\n",
    "            logger.error('failed to search for folder {} with error {}'.format(folder_name, e))\n",
    "            studentFolders[student_number] = None\n",
    "            continue\n",
    "\n",
    "        # check that a valid response was recieved, or skip over entry \n",
    "        try:\n",
    "            if result.has_key('files'):\n",
    "                pass\n",
    "        except AttributeError as e:\n",
    "            logger.warn('no valid information was returned for student: {}; see previous errors'.format(folder_name))\n",
    "            studentFolders[student_number] = None\n",
    "            continue\n",
    "            \n",
    "        # check that folder exists and is OK\n",
    "        if len(result['files']) > 0:\n",
    "            logger.debug('folder exists, taking no action')\n",
    "            studentFolders[student_number] = result['files'][0]\n",
    "            create_folder = False\n",
    "        if len(result['files']) > 1:\n",
    "            print 'There are multiple folders for student: {}; please consolodate them'.format(folder_name)\n",
    "            create_folder = False\n",
    "            \n",
    "        \n",
    "        if create_folder:\n",
    "            logger.debug('creating folder: {}'.format(folder_name))\n",
    "            try:\n",
    "                result = myDrive.add(name=folder_name, parents=classOfFolders[classOf]['id'], mimeType='folder',\n",
    "                                    fields='name, webViewLink, id, mimeType')\n",
    "            except GDriveError as e:\n",
    "                logger.error('error creating folder {}: {}'.format(folder_name, e))\n",
    "                studentFolders[student_number] = None\n",
    "            \n",
    "            # check the result is OK and record it\n",
    "            if any(result):\n",
    "                studentFolders[student_number] = result\n",
    "            else:\n",
    "                studentFolders[student_number] = None\n",
    "    # finish updating the pbar for Class Of- Folders\n",
    "    pbar.finish()\n",
    "    print 'Completed\\n'\n",
    "    \n",
    "    return(studentFolders)"
   ]
  },
  {
   "cell_type": "code",
   "execution_count": 110,
   "metadata": {
    "collapsed": false,
    "deletable": true,
    "editable": true
   },
   "outputs": [
    {
     "name": "stderr",
     "output_type": "stream",
     "text": [
      "Checking:   0% [                                   ] Processed 0 ETA:  --:--:--\r"
     ]
    },
    {
     "name": "stdout",
     "output_type": "stream",
     "text": [
      "Checking for or creating 3 \"Class Of-\" folders in portfolio folder\n"
     ]
    },
    {
     "name": "stderr",
     "output_type": "stream",
     "text": [
      "Checking: 100% [====================================] Processed 3 Time: 0:00:01\n",
      "Checking:   0% [                                   ] Processed 0 ETA:  --:--:--\r"
     ]
    },
    {
     "name": "stdout",
     "output_type": "stream",
     "text": [
      "Completed\n",
      "\n",
      "Checking for or creating 14 student folders in \"Class Of-\" folders\n"
     ]
    },
    {
     "name": "stderr",
     "output_type": "stream",
     "text": [
      "Checking: 100% [===================================] Processed 14 Time: 0:00:04\r"
     ]
    },
    {
     "name": "stdout",
     "output_type": "stream",
     "text": [
      "Completed\n",
      "\n"
     ]
    },
    {
     "name": "stderr",
     "output_type": "stream",
     "text": [
      "\n"
     ]
    }
   ],
   "source": [
    "foo = createFolders(myDrive=myDrive, parentFolder=folderID, teamdriveID=teamdriveID, studentexport_csv=studentexport_csv, header_map=headerMap )"
   ]
  },
  {
   "cell_type": "code",
   "execution_count": 42,
   "metadata": {
    "collapsed": false,
    "deletable": true,
    "editable": true
   },
   "outputs": [
    {
     "data": {
      "text/plain": [
       "{'000000': {u'id': u'1n46pSRak26sPqoXZLXlGYKMY12uEv4g7',\n",
       "  u'mimeType': u'application/vnd.google-apps.folder',\n",
       "  u'name': u'Sue, Sally - 000000',\n",
       "  u'parents': [u'1WIGcKU0w9JDEYfADHSijduGuL2Yf06Nc'],\n",
       "  u'webViewLink': u'https://drive.google.com/drive/folders/1n46pSRak26sPqoXZLXlGYKMY12uEv4g7'},\n",
       " '001776': {u'id': u'1DOlchPt0BjCGzTKIramTxImV0jXeICvj',\n",
       "  u'mimeType': u'application/vnd.google-apps.folder',\n",
       "  u'name': u'Washington, George - 001776',\n",
       "  u'parents': [u'1XoAHGRJGbfC3wgaS6XgT6-SEYM7N-_2Q'],\n",
       "  u'webViewLink': u'https://drive.google.com/drive/folders/1DOlchPt0BjCGzTKIramTxImV0jXeICvj'},\n",
       " '503531': {u'id': u'1MnUSQgX8cJFcT-VaxNHm1qYYwzARkSSO',\n",
       "  u'mimeType': u'application/vnd.google-apps.folder',\n",
       "  u'name': u'Berland, Amelie - 503531',\n",
       "  u'parents': [u'1uP2rGlS5QAeh6ApaifMDb34sxZ6sN8WM'],\n",
       "  u'webViewLink': u'https://drive.google.com/drive/folders/1MnUSQgX8cJFcT-VaxNHm1qYYwzARkSSO'},\n",
       " '503868': {u'id': u'1MOx1XiR5xOebS2aP_6T8BYnhmbhhKV8Q',\n",
       "  u'mimeType': u'application/vnd.google-apps.folder',\n",
       "  u'name': u'Abohaimed, Saud - 503868',\n",
       "  u'parents': [u'1uP2rGlS5QAeh6ApaifMDb34sxZ6sN8WM'],\n",
       "  u'webViewLink': u'https://drive.google.com/drive/folders/1MOx1XiR5xOebS2aP_6T8BYnhmbhhKV8Q'},\n",
       " '503955': {u'id': u'1aCpoXisr4znJCch_YfxH1KRGaUEbiZYI',\n",
       "  u'mimeType': u'application/vnd.google-apps.folder',\n",
       "  u'name': u'Borg, William - 503955',\n",
       "  u'parents': [u'1uP2rGlS5QAeh6ApaifMDb34sxZ6sN8WM'],\n",
       "  u'webViewLink': u'https://drive.google.com/drive/folders/1aCpoXisr4znJCch_YfxH1KRGaUEbiZYI'},\n",
       " '504361': {u'id': u'1kt6_f2nJJ-AYmIfE1mplAJ0dcPzzqUKW',\n",
       "  u'mimeType': u'application/vnd.google-apps.folder',\n",
       "  u'name': u'Al Baddah, Nouf - 504361',\n",
       "  u'parents': [u'1uP2rGlS5QAeh6ApaifMDb34sxZ6sN8WM'],\n",
       "  u'webViewLink': u'https://drive.google.com/drive/folders/1kt6_f2nJJ-AYmIfE1mplAJ0dcPzzqUKW'},\n",
       " '504362': {u'id': u'1Lhh85OUpV4-757B_DuoAkqXlI5EiIZFG',\n",
       "  u'mimeType': u'application/vnd.google-apps.folder',\n",
       "  u'name': u'Bigge, Nathaniel - 504362',\n",
       "  u'parents': [u'1uP2rGlS5QAeh6ApaifMDb34sxZ6sN8WM'],\n",
       "  u'webViewLink': u'https://drive.google.com/drive/folders/1Lhh85OUpV4-757B_DuoAkqXlI5EiIZFG'},\n",
       " '504363': {u'id': u'1U1cftQRg_xemk1RsLCVVzfRnlMo5zUU6',\n",
       "  u'mimeType': u'application/vnd.google-apps.folder',\n",
       "  u'name': u'Bogdaneris, Hugo - 504363',\n",
       "  u'parents': [u'1uP2rGlS5QAeh6ApaifMDb34sxZ6sN8WM'],\n",
       "  u'webViewLink': u'https://drive.google.com/drive/folders/1U1cftQRg_xemk1RsLCVVzfRnlMo5zUU6'},\n",
       " '504642': {u'id': u'1-aYdtozfRtwPY9MIK2W9KtWC0Jb7Q9LL',\n",
       "  u'mimeType': u'application/vnd.google-apps.folder',\n",
       "  u'name': u'Alonso, Aldo - 504642',\n",
       "  u'parents': [u'1uP2rGlS5QAeh6ApaifMDb34sxZ6sN8WM'],\n",
       "  u'webViewLink': u'https://drive.google.com/drive/folders/1-aYdtozfRtwPY9MIK2W9KtWC0Jb7Q9LL'},\n",
       " '504647': {u'id': u'1xf869xIxygjp56UgqTIyd3dIRahy3NbW',\n",
       "  u'mimeType': u'application/vnd.google-apps.folder',\n",
       "  u'name': u'Bartsch, Henry - 504647',\n",
       "  u'parents': [u'1uP2rGlS5QAeh6ApaifMDb34sxZ6sN8WM'],\n",
       "  u'webViewLink': u'https://drive.google.com/drive/folders/1xf869xIxygjp56UgqTIyd3dIRahy3NbW'},\n",
       " '504857': {u'id': u'16ny1aXjcHkK127lvnnJyUGC5Ox3PKcQq',\n",
       "  u'mimeType': u'application/vnd.google-apps.folder',\n",
       "  u'name': u'Alruwaili, Joury - 504857',\n",
       "  u'parents': [u'1uP2rGlS5QAeh6ApaifMDb34sxZ6sN8WM'],\n",
       "  u'webViewLink': u'https://drive.google.com/drive/folders/16ny1aXjcHkK127lvnnJyUGC5Ox3PKcQq'},\n",
       " '504866': {u'id': u'12G1Lzj-jUBzeL4j26CoTuuvDqJR6t6fO',\n",
       "  u'mimeType': u'application/vnd.google-apps.folder',\n",
       "  u'name': u'Benson, Logan - 504866',\n",
       "  u'parents': [u'1uP2rGlS5QAeh6ApaifMDb34sxZ6sN8WM'],\n",
       "  u'webViewLink': u'https://drive.google.com/drive/folders/12G1Lzj-jUBzeL4j26CoTuuvDqJR6t6fO'},\n",
       " '504868': {u'id': u'1oXye0Xad6-FU2Pj-yFw2idr4tBLUVPMc',\n",
       "  u'mimeType': u'application/vnd.google-apps.folder',\n",
       "  u'name': u'Bishop, Josie - 504868',\n",
       "  u'parents': [u'1uP2rGlS5QAeh6ApaifMDb34sxZ6sN8WM'],\n",
       "  u'webViewLink': u'https://drive.google.com/drive/folders/1oXye0Xad6-FU2Pj-yFw2idr4tBLUVPMc'},\n",
       " '505096': {u'id': u'1DUhbowJ3MUQlGmqoFYK55PLl4PPgNxMX',\n",
       "  u'mimeType': u'application/vnd.google-apps.folder',\n",
       "  u'name': u'Alotaibi, Hessa - 505096',\n",
       "  u'parents': [u'1uP2rGlS5QAeh6ApaifMDb34sxZ6sN8WM'],\n",
       "  u'webViewLink': u'https://drive.google.com/drive/folders/1DUhbowJ3MUQlGmqoFYK55PLl4PPgNxMX'}}"
      ]
     },
     "execution_count": 42,
     "metadata": {},
     "output_type": "execute_result"
    }
   ],
   "source": [
    "foo"
   ]
  },
  {
   "cell_type": "code",
   "execution_count": 73,
   "metadata": {
    "collapsed": false,
    "deletable": true,
    "editable": true
   },
   "outputs": [],
   "source": [
    "import progressbar"
   ]
  },
  {
   "cell_type": "code",
   "execution_count": 82,
   "metadata": {
    "collapsed": false,
    "deletable": true,
    "editable": true
   },
   "outputs": [
    {
     "name": "stderr",
     "output_type": "stream",
     "text": [
      "  1% |                                            | ETA:  0:00:11 ETA:  0:00:11\r"
     ]
    },
    {
     "name": "stdout",
     "output_type": "stream",
     "text": [
      "Running: Example 18\n"
     ]
    },
    {
     "name": "stderr",
     "output_type": "stream",
     "text": [
      " 89% |#######################################     | ETA:  0:00:05 ETA:  0:00:46\r"
     ]
    },
    {
     "name": "stdout",
     "output_type": "stream",
     "text": [
      "\n",
      "Skipping example.\n",
      "\n"
     ]
    }
   ],
   "source": [
    "example18()"
   ]
  },
  {
   "cell_type": "code",
   "execution_count": 67,
   "metadata": {
    "collapsed": false,
    "deletable": true,
    "editable": true
   },
   "outputs": [
    {
     "name": "stderr",
     "output_type": "stream",
     "text": [
      "  5%|###                                                                      |\r"
     ]
    },
    {
     "name": "stdout",
     "output_type": "stream",
     "text": [
      "Running: Example 0\n"
     ]
    },
    {
     "name": "stderr",
     "output_type": "stream",
     "text": [
      "100%|#########################################################################|\n",
      "Test:  11% |\\\\\\\\                                    | ETA:  0:00:01   5.73 MB/s\r"
     ]
    },
    {
     "name": "stdout",
     "output_type": "stream",
     "text": [
      "\n",
      "Running: Example 1\n"
     ]
    },
    {
     "name": "stderr",
     "output_type": "stream",
     "text": [
      "Test: 100% |||||||||||||||||||||||||||||||||||||||||| Time: 0:00:01   6.39 MB/s\n",
      "  2.69 MB/s <<<|##                                      |>>>   5% ETA:  0:00:03\r"
     ]
    },
    {
     "name": "stdout",
     "output_type": "stream",
     "text": [
      "\n",
      "Running: Example 2\n"
     ]
    },
    {
     "name": "stderr",
     "output_type": "stream",
     "text": [
      "  3.56 MB/s <<<|########################################|>>> 100% Time: 0:00:02\n",
      "|>>>                           | ETA:  0:00:01 |                           <<<|\r"
     ]
    },
    {
     "name": "stdout",
     "output_type": "stream",
     "text": [
      "\n",
      "Running: Example 3\n"
     ]
    },
    {
     "name": "stderr",
     "output_type": "stream",
     "text": [
      "|>>>>>>>>>>>>>>>>>>>>>>>>>>>>>>| Time: 0:00:01 |<<<<<<<<<<<<<<<<<<<<<<<<<<<<<<|\n",
      "Test:   0% [                                       ] ETA:  --:--:--   0.00  B/s\r"
     ]
    },
    {
     "name": "stdout",
     "output_type": "stream",
     "text": [
      "\n",
      "Running: Example 4\n"
     ]
    },
    {
     "name": "stderr",
     "output_type": "stream",
     "text": [
      "Test: 100% [0000000000000000000000000000000000000000] Time: 0:00:01 272.33  B/s\n",
      "0 of 17                                                                        \r"
     ]
    },
    {
     "name": "stdout",
     "output_type": "stream",
     "text": [
      "\n",
      "Running: Example 5\n"
     ]
    },
    {
     "name": "stderr",
     "output_type": "stream",
     "text": [
      "17 of 17                                                                       \n",
      " 17% |############                                                            |\r"
     ]
    },
    {
     "name": "stdout",
     "output_type": "stream",
     "text": [
      "\n",
      "Running: Example 6\n"
     ]
    },
    {
     "name": "stderr",
     "output_type": "stream",
     "text": [
      "100% |########################################################################|\n",
      " 21% |###############                                                         |\r"
     ]
    },
    {
     "name": "stdout",
     "output_type": "stream",
     "text": [
      "\n",
      "Running: Example 7\n"
     ]
    },
    {
     "name": "stderr",
     "output_type": "stream",
     "text": [
      "100% |########################################################################|\n",
      " 20% |##############                                                          |\r"
     ]
    },
    {
     "name": "stdout",
     "output_type": "stream",
     "text": [
      "\n",
      "Running: Example 8\n"
     ]
    },
    {
     "name": "stderr",
     "output_type": "stream",
     "text": [
      "100% |########################################################################|\n",
      "Working: -                                                                     \r"
     ]
    },
    {
     "name": "stdout",
     "output_type": "stream",
     "text": [
      "\n",
      "Running: Example 9\n"
     ]
    },
    {
     "name": "stderr",
     "output_type": "stream",
     "text": [
      "Working: |                                                                     \n",
      "Processed: 1 lines (Elapsed Time: 0:00:00)                                     \r"
     ]
    },
    {
     "name": "stdout",
     "output_type": "stream",
     "text": [
      "\n",
      "Running: Example 10\n"
     ]
    },
    {
     "name": "stderr",
     "output_type": "stream",
     "text": [
      "Processed: 149 lines (Elapsed Time: 0:00:15)                                   \n",
      "Processed: 1 lines (in: 0:00:00)                                               \r"
     ]
    },
    {
     "name": "stdout",
     "output_type": "stream",
     "text": [
      "\n",
      "Running: Example 11\n"
     ]
    },
    {
     "name": "stderr",
     "output_type": "stream",
     "text": [
      "Processed: 149 lines (in: 0:00:15)                                             \n",
      "Balloon: .                                                                     \r"
     ]
    },
    {
     "name": "stdout",
     "output_type": "stream",
     "text": [
      "\n",
      "Running: Example 12\n"
     ]
    },
    {
     "name": "stderr",
     "output_type": "stream",
     "text": [
      "Balloon: .                                                                     \n",
      "Arrows: �                                                                      \r"
     ]
    },
    {
     "name": "stdout",
     "output_type": "stream",
     "text": [
      "\n",
      "Running: Example 13\n"
     ]
    },
    {
     "name": "stderr",
     "output_type": "stream",
     "text": [
      "Arrows: �                                                                      \n",
      "Arrows: �                                                                      \r"
     ]
    },
    {
     "name": "stdout",
     "output_type": "stream",
     "text": [
      "\n",
      "Running: Example 14\n"
     ]
    },
    {
     "name": "stderr",
     "output_type": "stream",
     "text": [
      "Arrows: �                                                                      \n",
      "Wheels: �                                                                      \r"
     ]
    },
    {
     "name": "stdout",
     "output_type": "stream",
     "text": [
      "\n",
      "Running: Example 15\n"
     ]
    },
    {
     "name": "stderr",
     "output_type": "stream",
     "text": [
      "Wheels: �                                                                      \n",
      "Bouncer: value 3 - |  #                                                       |\r"
     ]
    },
    {
     "name": "stdout",
     "output_type": "stream",
     "text": [
      "\n",
      "Running: Example 16\n"
     ]
    },
    {
     "name": "stderr",
     "output_type": "stream",
     "text": [
      "Bouncer: value 179 - |########################################################|\n",
      "Animated Bouncer: value 3 - |  \\                                              |\r"
     ]
    },
    {
     "name": "stdout",
     "output_type": "stream",
     "text": [
      "\n",
      "Running: Example 17\n"
     ]
    },
    {
     "name": "stderr",
     "output_type": "stream",
     "text": [
      "Animated Bouncer: value 179 - |||||||||||||||||||||||||||||||||||||||||||||||||\n",
      "  1% |                                            | ETA:  0:00:11 ETA:  0:00:11\r"
     ]
    },
    {
     "name": "stdout",
     "output_type": "stream",
     "text": [
      "\n",
      "Running: Example 18\n"
     ]
    },
    {
     "name": "stderr",
     "output_type": "stream",
     "text": [
      "100% |                                                                        |\r"
     ]
    },
    {
     "name": "stdout",
     "output_type": "stream",
     "text": [
      "\n",
      "Skipping example.\n",
      "\n",
      "Running: Example 19\n",
      "\n",
      "Running: Example 20\n"
     ]
    },
    {
     "name": "stderr",
     "output_type": "stream",
     "text": [
      "\n"
     ]
    },
    {
     "ename": "TypeError",
     "evalue": "%d format: a number is required, not float",
     "output_type": "error",
     "traceback": [
      "\u001b[0;31m---------------------------------------------------------------------------\u001b[0m",
      "\u001b[0;31mTypeError\u001b[0m                                 Traceback (most recent call last)",
      "\u001b[0;32m<ipython-input-67-75d26715b10d>\u001b[0m in \u001b[0;36m<module>\u001b[0;34m()\u001b[0m\n\u001b[1;32m    219\u001b[0m \u001b[0;32mif\u001b[0m \u001b[0m__name__\u001b[0m \u001b[0;34m==\u001b[0m \u001b[0;34m'__main__'\u001b[0m\u001b[0;34m:\u001b[0m\u001b[0;34m\u001b[0m\u001b[0m\n\u001b[1;32m    220\u001b[0m     \u001b[0;32mtry\u001b[0m\u001b[0;34m:\u001b[0m\u001b[0;34m\u001b[0m\u001b[0m\n\u001b[0;32m--> 221\u001b[0;31m         \u001b[0;32mfor\u001b[0m \u001b[0mexample\u001b[0m \u001b[0;32min\u001b[0m \u001b[0mexamples\u001b[0m\u001b[0;34m:\u001b[0m \u001b[0mexample\u001b[0m\u001b[0;34m(\u001b[0m\u001b[0;34m)\u001b[0m\u001b[0;34m\u001b[0m\u001b[0m\n\u001b[0m\u001b[1;32m    222\u001b[0m     \u001b[0;32mexcept\u001b[0m \u001b[0mKeyboardInterrupt\u001b[0m\u001b[0;34m:\u001b[0m\u001b[0;34m\u001b[0m\u001b[0m\n\u001b[1;32m    223\u001b[0m         \u001b[0msys\u001b[0m\u001b[0;34m.\u001b[0m\u001b[0mstdout\u001b[0m\u001b[0;34m.\u001b[0m\u001b[0mwrite\u001b[0m\u001b[0;34m(\u001b[0m\u001b[0;34m'\\nQuitting examples.\\n'\u001b[0m\u001b[0;34m)\u001b[0m\u001b[0;34m\u001b[0m\u001b[0m\n",
      "\u001b[0;32m<ipython-input-67-75d26715b10d>\u001b[0m in \u001b[0;36mwrapped\u001b[0;34m()\u001b[0m\n\u001b[1;32m     12\u001b[0m         \u001b[0;32mtry\u001b[0m\u001b[0;34m:\u001b[0m\u001b[0;34m\u001b[0m\u001b[0m\n\u001b[1;32m     13\u001b[0m             \u001b[0msys\u001b[0m\u001b[0;34m.\u001b[0m\u001b[0mstdout\u001b[0m\u001b[0;34m.\u001b[0m\u001b[0mwrite\u001b[0m\u001b[0;34m(\u001b[0m\u001b[0;34m'Running: %s\\n'\u001b[0m \u001b[0;34m%\u001b[0m \u001b[0mname\u001b[0m\u001b[0;34m)\u001b[0m\u001b[0;34m\u001b[0m\u001b[0m\n\u001b[0;32m---> 14\u001b[0;31m             \u001b[0mfn\u001b[0m\u001b[0;34m(\u001b[0m\u001b[0;34m)\u001b[0m\u001b[0;34m\u001b[0m\u001b[0m\n\u001b[0m\u001b[1;32m     15\u001b[0m             \u001b[0msys\u001b[0m\u001b[0;34m.\u001b[0m\u001b[0mstdout\u001b[0m\u001b[0;34m.\u001b[0m\u001b[0mwrite\u001b[0m\u001b[0;34m(\u001b[0m\u001b[0;34m'\\n'\u001b[0m\u001b[0;34m)\u001b[0m\u001b[0;34m\u001b[0m\u001b[0m\n\u001b[1;32m     16\u001b[0m         \u001b[0;32mexcept\u001b[0m \u001b[0mKeyboardInterrupt\u001b[0m\u001b[0;34m:\u001b[0m\u001b[0;34m\u001b[0m\u001b[0m\n",
      "\u001b[0;32m<ipython-input-67-75d26715b10d>\u001b[0m in \u001b[0;36mexample20\u001b[0;34m()\u001b[0m\n\u001b[1;32m    209\u001b[0m                ' ', AdaptiveETA()]\n\u001b[1;32m    210\u001b[0m     \u001b[0mpbar\u001b[0m \u001b[0;34m=\u001b[0m \u001b[0mProgressBar\u001b[0m\u001b[0;34m(\u001b[0m\u001b[0mwidgets\u001b[0m\u001b[0;34m=\u001b[0m\u001b[0mwidgets\u001b[0m\u001b[0;34m,\u001b[0m \u001b[0mmaxval\u001b[0m\u001b[0;34m=\u001b[0m\u001b[0mUnknownLength\u001b[0m\u001b[0;34m)\u001b[0m\u001b[0;34m\u001b[0m\u001b[0m\n\u001b[0;32m--> 211\u001b[0;31m     \u001b[0mpbar\u001b[0m\u001b[0;34m.\u001b[0m\u001b[0mstart\u001b[0m\u001b[0;34m(\u001b[0m\u001b[0;34m)\u001b[0m\u001b[0;34m\u001b[0m\u001b[0m\n\u001b[0m\u001b[1;32m    212\u001b[0m     \u001b[0;32mfor\u001b[0m \u001b[0mi\u001b[0m \u001b[0;32min\u001b[0m \u001b[0mrange\u001b[0m\u001b[0;34m(\u001b[0m\u001b[0;36m20\u001b[0m\u001b[0;34m)\u001b[0m\u001b[0;34m:\u001b[0m\u001b[0;34m\u001b[0m\u001b[0m\n\u001b[1;32m    213\u001b[0m         \u001b[0mtime\u001b[0m\u001b[0;34m.\u001b[0m\u001b[0msleep\u001b[0m\u001b[0;34m(\u001b[0m\u001b[0;36m0.5\u001b[0m\u001b[0;34m)\u001b[0m\u001b[0;34m\u001b[0m\u001b[0m\n",
      "\u001b[0;32m/Users/aaronciuffo/Virtualenvs/python2/lib/python2.7/site-packages/progressbar/progressbar.pyc\u001b[0m in \u001b[0;36mstart\u001b[0;34m(self)\u001b[0m\n\u001b[1;32m    289\u001b[0m \u001b[0;34m\u001b[0m\u001b[0m\n\u001b[1;32m    290\u001b[0m         \u001b[0mself\u001b[0m\u001b[0;34m.\u001b[0m\u001b[0mstart_time\u001b[0m \u001b[0;34m=\u001b[0m \u001b[0mself\u001b[0m\u001b[0;34m.\u001b[0m\u001b[0mlast_update_time\u001b[0m \u001b[0;34m=\u001b[0m \u001b[0mtime\u001b[0m\u001b[0;34m.\u001b[0m\u001b[0mtime\u001b[0m\u001b[0;34m(\u001b[0m\u001b[0;34m)\u001b[0m\u001b[0;34m\u001b[0m\u001b[0m\n\u001b[0;32m--> 291\u001b[0;31m         \u001b[0mself\u001b[0m\u001b[0;34m.\u001b[0m\u001b[0mupdate\u001b[0m\u001b[0;34m(\u001b[0m\u001b[0;36m0\u001b[0m\u001b[0;34m)\u001b[0m\u001b[0;34m\u001b[0m\u001b[0m\n\u001b[0m\u001b[1;32m    292\u001b[0m \u001b[0;34m\u001b[0m\u001b[0m\n\u001b[1;32m    293\u001b[0m         \u001b[0;32mreturn\u001b[0m \u001b[0mself\u001b[0m\u001b[0;34m\u001b[0m\u001b[0m\n",
      "\u001b[0;32m/Users/aaronciuffo/Virtualenvs/python2/lib/python2.7/site-packages/progressbar/progressbar.pyc\u001b[0m in \u001b[0;36mupdate\u001b[0;34m(self, value)\u001b[0m\n\u001b[1;32m    260\u001b[0m         \u001b[0mself\u001b[0m\u001b[0;34m.\u001b[0m\u001b[0mseconds_elapsed\u001b[0m \u001b[0;34m=\u001b[0m \u001b[0mnow\u001b[0m \u001b[0;34m-\u001b[0m \u001b[0mself\u001b[0m\u001b[0;34m.\u001b[0m\u001b[0mstart_time\u001b[0m\u001b[0;34m\u001b[0m\u001b[0m\n\u001b[1;32m    261\u001b[0m         \u001b[0mself\u001b[0m\u001b[0;34m.\u001b[0m\u001b[0mnext_update\u001b[0m \u001b[0;34m=\u001b[0m \u001b[0mself\u001b[0m\u001b[0;34m.\u001b[0m\u001b[0mcurrval\u001b[0m \u001b[0;34m+\u001b[0m \u001b[0mself\u001b[0m\u001b[0;34m.\u001b[0m\u001b[0mupdate_interval\u001b[0m\u001b[0;34m\u001b[0m\u001b[0m\n\u001b[0;32m--> 262\u001b[0;31m         \u001b[0mself\u001b[0m\u001b[0;34m.\u001b[0m\u001b[0mfd\u001b[0m\u001b[0;34m.\u001b[0m\u001b[0mwrite\u001b[0m\u001b[0;34m(\u001b[0m\u001b[0mself\u001b[0m\u001b[0;34m.\u001b[0m\u001b[0m_format_line\u001b[0m\u001b[0;34m(\u001b[0m\u001b[0;34m)\u001b[0m \u001b[0;34m+\u001b[0m \u001b[0;34m'\\r'\u001b[0m\u001b[0;34m)\u001b[0m\u001b[0;34m\u001b[0m\u001b[0m\n\u001b[0m\u001b[1;32m    263\u001b[0m         \u001b[0mself\u001b[0m\u001b[0;34m.\u001b[0m\u001b[0mfd\u001b[0m\u001b[0;34m.\u001b[0m\u001b[0mflush\u001b[0m\u001b[0;34m(\u001b[0m\u001b[0;34m)\u001b[0m\u001b[0;34m\u001b[0m\u001b[0m\n\u001b[1;32m    264\u001b[0m         \u001b[0mself\u001b[0m\u001b[0;34m.\u001b[0m\u001b[0mlast_update_time\u001b[0m \u001b[0;34m=\u001b[0m \u001b[0mnow\u001b[0m\u001b[0;34m\u001b[0m\u001b[0m\n",
      "\u001b[0;32m/Users/aaronciuffo/Virtualenvs/python2/lib/python2.7/site-packages/progressbar/progressbar.pyc\u001b[0m in \u001b[0;36m_format_line\u001b[0;34m(self)\u001b[0m\n\u001b[1;32m    220\u001b[0m         \u001b[0;34m\"\"\"Joins the widgets and justifies the line.\"\"\"\u001b[0m\u001b[0;34m\u001b[0m\u001b[0m\n\u001b[1;32m    221\u001b[0m \u001b[0;34m\u001b[0m\u001b[0m\n\u001b[0;32m--> 222\u001b[0;31m         \u001b[0mwidgets\u001b[0m \u001b[0;34m=\u001b[0m \u001b[0;34m''\u001b[0m\u001b[0;34m.\u001b[0m\u001b[0mjoin\u001b[0m\u001b[0;34m(\u001b[0m\u001b[0mself\u001b[0m\u001b[0;34m.\u001b[0m\u001b[0m_format_widgets\u001b[0m\u001b[0;34m(\u001b[0m\u001b[0;34m)\u001b[0m\u001b[0;34m)\u001b[0m\u001b[0;34m\u001b[0m\u001b[0m\n\u001b[0m\u001b[1;32m    223\u001b[0m \u001b[0;34m\u001b[0m\u001b[0m\n\u001b[1;32m    224\u001b[0m         \u001b[0;32mif\u001b[0m \u001b[0mself\u001b[0m\u001b[0;34m.\u001b[0m\u001b[0mleft_justify\u001b[0m\u001b[0;34m:\u001b[0m \u001b[0;32mreturn\u001b[0m \u001b[0mwidgets\u001b[0m\u001b[0;34m.\u001b[0m\u001b[0mljust\u001b[0m\u001b[0;34m(\u001b[0m\u001b[0mself\u001b[0m\u001b[0;34m.\u001b[0m\u001b[0mterm_width\u001b[0m\u001b[0;34m)\u001b[0m\u001b[0;34m\u001b[0m\u001b[0m\n",
      "\u001b[0;32m/Users/aaronciuffo/Virtualenvs/python2/lib/python2.7/site-packages/progressbar/progressbar.pyc\u001b[0m in \u001b[0;36m_format_widgets\u001b[0;34m(self)\u001b[0m\n\u001b[1;32m    200\u001b[0m                 \u001b[0mexpanding\u001b[0m\u001b[0;34m.\u001b[0m\u001b[0minsert\u001b[0m\u001b[0;34m(\u001b[0m\u001b[0;36m0\u001b[0m\u001b[0;34m,\u001b[0m \u001b[0mindex\u001b[0m\u001b[0;34m)\u001b[0m\u001b[0;34m\u001b[0m\u001b[0m\n\u001b[1;32m    201\u001b[0m             \u001b[0;32melse\u001b[0m\u001b[0;34m:\u001b[0m\u001b[0;34m\u001b[0m\u001b[0m\n\u001b[0;32m--> 202\u001b[0;31m                 \u001b[0mwidget\u001b[0m \u001b[0;34m=\u001b[0m \u001b[0mwidgets\u001b[0m\u001b[0;34m.\u001b[0m\u001b[0mformat_updatable\u001b[0m\u001b[0;34m(\u001b[0m\u001b[0mwidget\u001b[0m\u001b[0;34m,\u001b[0m \u001b[0mself\u001b[0m\u001b[0;34m)\u001b[0m\u001b[0;34m\u001b[0m\u001b[0m\n\u001b[0m\u001b[1;32m    203\u001b[0m                 \u001b[0mresult\u001b[0m\u001b[0;34m.\u001b[0m\u001b[0mappend\u001b[0m\u001b[0;34m(\u001b[0m\u001b[0mwidget\u001b[0m\u001b[0;34m)\u001b[0m\u001b[0;34m\u001b[0m\u001b[0m\n\u001b[1;32m    204\u001b[0m                 \u001b[0mwidth\u001b[0m \u001b[0;34m-=\u001b[0m \u001b[0mlen\u001b[0m\u001b[0;34m(\u001b[0m\u001b[0mwidget\u001b[0m\u001b[0;34m)\u001b[0m\u001b[0;34m\u001b[0m\u001b[0m\n",
      "\u001b[0;32m/Users/aaronciuffo/Virtualenvs/python2/lib/python2.7/site-packages/progressbar/widgets.pyc\u001b[0m in \u001b[0;36mformat_updatable\u001b[0;34m(updatable, pbar)\u001b[0m\n\u001b[1;32m     37\u001b[0m \u001b[0;34m\u001b[0m\u001b[0m\n\u001b[1;32m     38\u001b[0m \u001b[0;32mdef\u001b[0m \u001b[0mformat_updatable\u001b[0m\u001b[0;34m(\u001b[0m\u001b[0mupdatable\u001b[0m\u001b[0;34m,\u001b[0m \u001b[0mpbar\u001b[0m\u001b[0;34m)\u001b[0m\u001b[0;34m:\u001b[0m\u001b[0;34m\u001b[0m\u001b[0m\n\u001b[0;32m---> 39\u001b[0;31m     \u001b[0;32mif\u001b[0m \u001b[0mhasattr\u001b[0m\u001b[0;34m(\u001b[0m\u001b[0mupdatable\u001b[0m\u001b[0;34m,\u001b[0m \u001b[0;34m'update'\u001b[0m\u001b[0;34m)\u001b[0m\u001b[0;34m:\u001b[0m \u001b[0;32mreturn\u001b[0m \u001b[0mupdatable\u001b[0m\u001b[0;34m.\u001b[0m\u001b[0mupdate\u001b[0m\u001b[0;34m(\u001b[0m\u001b[0mpbar\u001b[0m\u001b[0;34m)\u001b[0m\u001b[0;34m\u001b[0m\u001b[0m\n\u001b[0m\u001b[1;32m     40\u001b[0m     \u001b[0;32melse\u001b[0m\u001b[0;34m:\u001b[0m \u001b[0;32mreturn\u001b[0m \u001b[0mupdatable\u001b[0m\u001b[0;34m\u001b[0m\u001b[0m\n\u001b[1;32m     41\u001b[0m \u001b[0;34m\u001b[0m\u001b[0m\n",
      "\u001b[0;32m/Users/aaronciuffo/Virtualenvs/python2/lib/python2.7/site-packages/progressbar/widgets.pyc\u001b[0m in \u001b[0;36mupdate\u001b[0;34m(self, pbar)\u001b[0m\n\u001b[1;32m    228\u001b[0m \u001b[0;34m\u001b[0m\u001b[0m\n\u001b[1;32m    229\u001b[0m     \u001b[0;32mdef\u001b[0m \u001b[0mupdate\u001b[0m\u001b[0;34m(\u001b[0m\u001b[0mself\u001b[0m\u001b[0;34m,\u001b[0m \u001b[0mpbar\u001b[0m\u001b[0;34m)\u001b[0m\u001b[0;34m:\u001b[0m\u001b[0;34m\u001b[0m\u001b[0m\n\u001b[0;32m--> 230\u001b[0;31m         \u001b[0;32mreturn\u001b[0m \u001b[0;34m'%3d%%'\u001b[0m \u001b[0;34m%\u001b[0m \u001b[0mpbar\u001b[0m\u001b[0;34m.\u001b[0m\u001b[0mpercentage\u001b[0m\u001b[0;34m(\u001b[0m\u001b[0;34m)\u001b[0m\u001b[0;34m\u001b[0m\u001b[0m\n\u001b[0m\u001b[1;32m    231\u001b[0m \u001b[0;34m\u001b[0m\u001b[0m\n\u001b[1;32m    232\u001b[0m \u001b[0;34m\u001b[0m\u001b[0m\n",
      "\u001b[0;31mTypeError\u001b[0m: %d format: a number is required, not float"
     ]
    }
   ],
   "source": [
    "import sys\n",
    "import time\n",
    "\n",
    "from progressbar import AnimatedMarker, Bar, BouncingBar, Counter, ETA, \\\n",
    "    AdaptiveETA, FileTransferSpeed, FormatLabel, Percentage, \\\n",
    "    ProgressBar, ReverseBar, RotatingMarker, \\\n",
    "    SimpleProgress, Timer, UnknownLength\n",
    "\n",
    "examples = []\n",
    "def example(fn):\n",
    "    try: name = 'Example %d' % int(fn.__name__[7:])\n",
    "    except: name = fn.__name__\n",
    "\n",
    "    def wrapped():\n",
    "        try:\n",
    "            sys.stdout.write('Running: %s\\n' % name)\n",
    "            fn()\n",
    "            sys.stdout.write('\\n')\n",
    "        except KeyboardInterrupt:\n",
    "            sys.stdout.write('\\nSkipping example.\\n\\n')\n",
    "\n",
    "    examples.append(wrapped)\n",
    "    return wrapped\n",
    "\n",
    "@example\n",
    "def example0():\n",
    "    pbar = ProgressBar(widgets=[Percentage(), Bar()], maxval=300).start()\n",
    "    for i in range(300):\n",
    "        time.sleep(0.01)\n",
    "        pbar.update(i+1)\n",
    "    pbar.finish()\n",
    "\n",
    "@example\n",
    "def example1():\n",
    "    widgets = ['Test: ', Percentage(), ' ', Bar(marker=RotatingMarker()),\n",
    "               ' ', ETA(), ' ', FileTransferSpeed()]\n",
    "    pbar = ProgressBar(widgets=widgets, maxval=10000000).start()\n",
    "    for i in range(1000000):\n",
    "        # do something\n",
    "        pbar.update(10*i+1)\n",
    "    pbar.finish()\n",
    "\n",
    "@example\n",
    "def example2():\n",
    "    class CrazyFileTransferSpeed(FileTransferSpeed):\n",
    "        \"\"\"It's bigger between 45 and 80 percent.\"\"\"\n",
    "        def update(self, pbar):\n",
    "            if 45 < pbar.percentage() < 80:\n",
    "                return 'Bigger Now ' + FileTransferSpeed.update(self,pbar)\n",
    "            else:\n",
    "                return FileTransferSpeed.update(self,pbar)\n",
    "\n",
    "    widgets = [CrazyFileTransferSpeed(),' <<<', Bar(), '>>> ',\n",
    "               Percentage(),' ', ETA()]\n",
    "    pbar = ProgressBar(widgets=widgets, maxval=10000000)\n",
    "    # maybe do something\n",
    "    pbar.start()\n",
    "    for i in range(2000000):\n",
    "        # do something\n",
    "        pbar.update(5*i+1)\n",
    "    pbar.finish()\n",
    "\n",
    "@example\n",
    "def example3():\n",
    "    widgets = [Bar('>'), ' ', ETA(), ' ', ReverseBar('<')]\n",
    "    pbar = ProgressBar(widgets=widgets, maxval=10000000).start()\n",
    "    for i in range(1000000):\n",
    "        # do something\n",
    "        pbar.update(10*i+1)\n",
    "    pbar.finish()\n",
    "\n",
    "@example\n",
    "def example4():\n",
    "    widgets = ['Test: ', Percentage(), ' ',\n",
    "               Bar(marker='0',left='[',right=']'),\n",
    "               ' ', ETA(), ' ', FileTransferSpeed()]\n",
    "    pbar = ProgressBar(widgets=widgets, maxval=500)\n",
    "    pbar.start()\n",
    "    for i in range(100,500+1,50):\n",
    "        time.sleep(0.2)\n",
    "        pbar.update(i)\n",
    "    pbar.finish()\n",
    "\n",
    "@example\n",
    "def example5():\n",
    "    pbar = ProgressBar(widgets=[SimpleProgress()], maxval=17).start()\n",
    "    for i in range(17):\n",
    "        time.sleep(0.2)\n",
    "        pbar.update(i + 1)\n",
    "    pbar.finish()\n",
    "\n",
    "@example\n",
    "def example6():\n",
    "    pbar = ProgressBar().start()\n",
    "    for i in range(100):\n",
    "        time.sleep(0.01)\n",
    "        pbar.update(i + 1)\n",
    "    pbar.finish()\n",
    "\n",
    "@example\n",
    "def example7():\n",
    "    pbar = ProgressBar()  # Progressbar can guess maxval automatically.\n",
    "    for i in pbar(range(80)):\n",
    "        time.sleep(0.01)\n",
    "\n",
    "@example\n",
    "def example8():\n",
    "    pbar = ProgressBar(maxval=80)  # Progressbar can't guess maxval.\n",
    "    for i in pbar((i for i in range(80))):\n",
    "        time.sleep(0.01)\n",
    "\n",
    "@example\n",
    "def example9():\n",
    "    pbar = ProgressBar(widgets=['Working: ', AnimatedMarker()])\n",
    "    for i in pbar((i for i in range(50))):\n",
    "        time.sleep(.08)\n",
    "\n",
    "@example\n",
    "def example10():\n",
    "    widgets = ['Processed: ', Counter(), ' lines (', Timer(), ')']\n",
    "    pbar = ProgressBar(widgets=widgets)\n",
    "    for i in pbar((i for i in range(150))):\n",
    "        time.sleep(0.1)\n",
    "\n",
    "@example\n",
    "def example11():\n",
    "    widgets = [FormatLabel('Processed: %(value)d lines (in: %(elapsed)s)')]\n",
    "    pbar = ProgressBar(widgets=widgets)\n",
    "    for i in pbar((i for i in range(150))):\n",
    "        time.sleep(0.1)\n",
    "\n",
    "@example\n",
    "def example12():\n",
    "    widgets = ['Balloon: ', AnimatedMarker(markers='.oO@* ')]\n",
    "    pbar = ProgressBar(widgets=widgets)\n",
    "    for i in pbar((i for i in range(24))):\n",
    "        time.sleep(0.3)\n",
    "\n",
    "@example\n",
    "def example13():\n",
    "    # You may need python 3.x to see this correctly\n",
    "    try:\n",
    "        widgets = ['Arrows: ', AnimatedMarker(markers='←↖↑↗→↘↓↙')]\n",
    "        pbar = ProgressBar(widgets=widgets)\n",
    "        for i in pbar((i for i in range(24))):\n",
    "            time.sleep(0.3)\n",
    "    except UnicodeError: sys.stdout.write('Unicode error: skipping example')\n",
    "\n",
    "@example\n",
    "def example14():\n",
    "    # You may need python 3.x to see this correctly\n",
    "    try:\n",
    "        widgets = ['Arrows: ', AnimatedMarker(markers='◢◣◤◥')]\n",
    "        pbar = ProgressBar(widgets=widgets)\n",
    "        for i in pbar((i for i in range(24))):\n",
    "            time.sleep(0.3)\n",
    "    except UnicodeError: sys.stdout.write('Unicode error: skipping example')\n",
    "\n",
    "@example\n",
    "def example15():\n",
    "    # You may need python 3.x to see this correctly\n",
    "    try:\n",
    "        widgets = ['Wheels: ', AnimatedMarker(markers='◐◓◑◒')]\n",
    "        pbar = ProgressBar(widgets=widgets)\n",
    "        for i in pbar((i for i in range(24))):\n",
    "            time.sleep(0.3)\n",
    "    except UnicodeError: sys.stdout.write('Unicode error: skipping example')\n",
    "\n",
    "@example\n",
    "def example16():\n",
    "    widgets = [FormatLabel('Bouncer: value %(value)d - '), BouncingBar()]\n",
    "    pbar = ProgressBar(widgets=widgets)\n",
    "    for i in pbar((i for i in range(180))):\n",
    "        time.sleep(0.05)\n",
    "\n",
    "@example\n",
    "def example17():\n",
    "    widgets = [FormatLabel('Animated Bouncer: value %(value)d - '),\n",
    "               BouncingBar(marker=RotatingMarker())]\n",
    "\n",
    "    pbar = ProgressBar(widgets=widgets)\n",
    "    for i in pbar((i for i in range(180))):\n",
    "        time.sleep(0.05)\n",
    "\n",
    "@example\n",
    "def example18():\n",
    "    widgets = [Percentage(),\n",
    "               ' ', Bar(),\n",
    "               ' ', ETA(),\n",
    "               ' ', AdaptiveETA()]\n",
    "    pbar = ProgressBar(widgets=widgets, maxval=500)\n",
    "    pbar.start()\n",
    "    for i in range(500):\n",
    "        time.sleep(0.01 + (i < 100) * 0.01 + (i > 400) * 0.9)\n",
    "        pbar.update(i + 1)\n",
    "    pbar.finish()\n",
    "\n",
    "@example\n",
    "def example19():\n",
    "  pbar = ProgressBar()\n",
    "  for i in pbar([]):\n",
    "    pass\n",
    "  pbar.finish()\n",
    "\n",
    "@example\n",
    "def example20():\n",
    "    \"\"\"Widgets that behave differently when length is unknown\"\"\"\n",
    "    widgets = ['[When length is unknown at first]',\n",
    "               ' Progress: ', SimpleProgress(),\n",
    "               ', Percent: ', Percentage(),\n",
    "               ' ', ETA(),\n",
    "               ' ', AdaptiveETA()]\n",
    "    pbar = ProgressBar(widgets=widgets, maxval=UnknownLength)\n",
    "    pbar.start()\n",
    "    for i in range(20):\n",
    "        time.sleep(0.5)\n",
    "        if i == 10:\n",
    "            pbar.maxval = 20\n",
    "        pbar.update(i + 1)\n",
    "    pbar.finish()\n",
    "\n",
    "if __name__ == '__main__':\n",
    "    try:\n",
    "        for example in examples: example()\n",
    "    except KeyboardInterrupt:\n",
    "        sys.stdout.write('\\nQuitting examples.\\n')"
   ]
  },
  {
   "cell_type": "code",
   "execution_count": 105,
   "metadata": {
    "collapsed": false,
    "deletable": true,
    "editable": true
   },
   "outputs": [
    {
     "name": "stderr",
     "output_type": "stream",
     "text": [
      "[========================================================================] 100%\n"
     ]
    }
   ],
   "source": [
    "rng=5\n",
    "bar = progressbar.ProgressBar(maxval=rng,\n",
    "    widgets=[progressbar.Bar('=', '[', ']'), ' ', progressbar.Percentage()])\n",
    "bar.start()\n",
    "for i in xrange(rng):\n",
    "    bar.update(i+1)\n",
    "    sleep(0.1)\n",
    "bar.finish()"
   ]
  },
  {
   "cell_type": "code",
   "execution_count": 106,
   "metadata": {
    "collapsed": false
   },
   "outputs": [
    {
     "ename": "SyntaxError",
     "evalue": "invalid syntax (<ipython-input-106-2e2864e6182b>, line 1)",
     "output_type": "error",
     "traceback": [
      "\u001b[0;36m  File \u001b[0;32m\"<ipython-input-106-2e2864e6182b>\"\u001b[0;36m, line \u001b[0;32m1\u001b[0m\n\u001b[0;31m    widgets=[progressbar.Bar('=', '[', ']'), ' ', progressbar.Percentage()])\u001b[0m\n\u001b[0m                                                                           ^\u001b[0m\n\u001b[0;31mSyntaxError\u001b[0m\u001b[0;31m:\u001b[0m invalid syntax\n"
     ]
    }
   ],
   "source": [
    "widgets=[progressbar.Bar('=', '[', ']'), ' ', progressbar.Percentage()])"
   ]
  }
 ],
 "metadata": {
  "kernelspec": {
   "display_name": "Python 2",
   "language": "python",
   "name": "python2"
  },
  "language_info": {
   "codemirror_mode": {
    "name": "ipython",
    "version": 2
   },
   "file_extension": ".py",
   "mimetype": "text/x-python",
   "name": "python",
   "nbconvert_exporter": "python",
   "pygments_lexer": "ipython2",
   "version": "2.7.13"
  }
 },
 "nbformat": 4,
 "nbformat_minor": 2
}

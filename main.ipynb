{
 "cells": [
  {
   "cell_type": "code",
   "execution_count": 2,
   "metadata": {
    "collapsed": true,
    "deletable": true,
    "editable": true
   },
   "outputs": [],
   "source": [
    "import logging\n",
    "import logging.config\n",
    "import os\n",
    "import json\n",
    "# import ConfigParser\n",
    "import sys\n",
    "import re\n",
    "\n",
    "from simpleMenu import Menu\n",
    "import configuration\n",
    "from gdrive.auth import getCredentials\n",
    "from gdrive.gdrive import googledrive, GDriveError\n",
    "\n",
    "from humanfriendly import prompts\n",
    "\n",
    "# get the current working directory\n",
    "# When launching a .command from the OS X Finder, the working directory is typically ~/; this is problematic\n",
    "# for locating resource files\n",
    "# I don't love this hack, but it works.\n",
    "try:\n",
    "    __file__\n",
    "    cwd = os.path.dirname(__file__)+'/'\n",
    "except NameError as e:\n",
    "    cwd = os.getcwd()"
   ]
  },
  {
   "cell_type": "code",
   "execution_count": 3,
   "metadata": {
    "collapsed": true,
    "deletable": true,
    "editable": true
   },
   "outputs": [],
   "source": [
    "from consolemenu import *\n",
    "from consolemenu.format import *\n",
    "from consolemenu.items import *"
   ]
  },
  {
   "cell_type": "code",
   "execution_count": 4,
   "metadata": {
    "collapsed": true,
    "deletable": true,
    "editable": true
   },
   "outputs": [],
   "source": [
    "def setup_logging(\n",
    "    default_path='logging.json',\n",
    "    default_level=logging.INFO,\n",
    "    env_key='LOG_CFG'\n",
    "):\n",
    "    \"\"\"Setup logging configuration\n",
    "\n",
    "    \"\"\"\n",
    "    path = default_path\n",
    "    value = os.getenv(env_key, None)\n",
    "    if value:\n",
    "        path = value\n",
    "    if os.path.exists(path):\n",
    "        with open(path, 'rt') as f:\n",
    "            config = json.load(f)\n",
    "        logging.config.dictConfig(config)\n",
    "        logging.getLogger().setLevel(default_level)\n",
    "    else:\n",
    "        logging.basicConfig(level=default_level)"
   ]
  },
  {
   "cell_type": "code",
   "execution_count": 5,
   "metadata": {
    "collapsed": true,
    "deletable": true,
    "editable": true
   },
   "outputs": [],
   "source": [
    "def fileSearch(path = None, search = None):\n",
    "        '''search for a file name string in a given path'''\n",
    "        if not search:\n",
    "            search = ''\n",
    "        logger = logging.getLogger(__name__)\n",
    "        logger.debug('searching path: {0} for \\\"{1}\\\"'.format(path, search))\n",
    "        try:\n",
    "            searchPath = os.path.expanduser(path)\n",
    "        except AttributeError as e:\n",
    "            logger.error('Error: no path specified')\n",
    "            searchPath = ''\n",
    "        mySearch = '*'+search+'*'\n",
    "        try:\n",
    "            allFiles = os.listdir(searchPath)\n",
    "        except OSError as e:\n",
    "            logger.error(e)\n",
    "            return(None)\n",
    "        \n",
    "        # list comprehension search with regex\n",
    "        #http://www.cademuir.eu/blog/2011/10/20/python-searching-for-a-string-within-a-list-list-comprehension/\n",
    "        regex = re.compile('.*('+search+').*')\n",
    "        return([m.group(0) for l in allFiles for m in [regex.search(l)] if m])"
   ]
  },
  {
   "cell_type": "code",
   "execution_count": 6,
   "metadata": {
    "collapsed": true,
    "deletable": true,
    "editable": true
   },
   "outputs": [],
   "source": [
    "def getConfiguration(cfgfile):\n",
    "    # required configuraiton options\n",
    "    # Section: {'option': 'default value'}\n",
    "    cfgpath = os.path.dirname(cfgfile)\n",
    "    config_required = {\n",
    "        'Main': {'credentials': os.path.join(cfgpath, 'credentials/'), \n",
    "                 'teamdriveID': '',\n",
    "                 'teamdrivename': '',\n",
    "                 'folderID': '',\n",
    "                 'foldername': '',\n",
    "                 },\n",
    "        }\n",
    "\n",
    "    config = configuration.get_config(cfgfile)\n",
    "\n",
    "    update_config = False\n",
    "\n",
    "    for section, values in config_required.items():\n",
    "        if not config.has_section(section):\n",
    "            logger.warn('section: {} not found in {}'.format(section, cfgfile))\n",
    "            logger.debug('adding section {}'.format(section))\n",
    "            config.add_section(section)\n",
    "            update_config = True\n",
    "        for option, value in values.items():\n",
    "            if not config.has_option(section, option):\n",
    "                logger.warn('option: {} not found in {}'.format(option, cfgfile))\n",
    "                logger.debug('adding option {}: {}'.format(option, value))\n",
    "\n",
    "                config.set(section, option, value)\n",
    "                update_config = True\n",
    "\n",
    "\n",
    "    # for section, options in config_required.items():\n",
    "\n",
    "    if update_config:\n",
    "        try:\n",
    "            logger.info('updating configuration file at: {}'.format(cfgfile))\n",
    "            configuration.create_config(cfgfile, config)\n",
    "        except Exception as e:\n",
    "            logger.error(e)\n",
    "            \n",
    "    return(config)"
   ]
  },
  {
   "cell_type": "code",
   "execution_count": 7,
   "metadata": {
    "collapsed": false
   },
   "outputs": [],
   "source": [
    "def getTeamDrive(myDrive):\n",
    "    '''\n",
    "    menu driven interaction for choosing a writeable team drive\n",
    "    '''\n",
    "    #available and writeable team drives\n",
    "    logger = logging.getLogger(__name__)\n",
    "    try:\n",
    "        teamdrives_all = myDrive.listTeamDrives()\n",
    "    except Exception as e:\n",
    "        logger.error(e)\n",
    "    \n",
    "    if len(teamdrives_all) < 1:\n",
    "        logger.warn('no writeable team drives found for this user')\n",
    "        return(None)\n",
    "    \n",
    "    teamdrives_writeable = {}\n",
    "    for drive in teamdrives_all:\n",
    "        if drive['capabilities']['canAddChildren']:\n",
    "            teamdrives_writeable[drive['name']] = drive\n",
    "    \n",
    "    teamdrive = None\n",
    "    \n",
    "    try:\n",
    "        teamdrive_name = prompts.prompt_for_choice(choices=teamdrives_writeable, default=None)\n",
    "        teamdrive=teamdrives_writeable[teamdrive_name]\n",
    "    except prompts.TooManyInvalidReplies as e:\n",
    "        logger.warning('user failed to make a choice')\n",
    "    \n",
    "    return(teamdrive)"
   ]
  },
  {
   "cell_type": "code",
   "execution_count": 83,
   "metadata": {
    "collapsed": false
   },
   "outputs": [],
   "source": [
    "def getPortfolioFolder(myDrive):\n",
    "    '''\n",
    "    menu driven interaction to locate and choose portfolio folder on team drive\n",
    "    \n",
    "    returns:\n",
    "        folder (dictionary) - google drive object properties dictionary\n",
    "    '''\n",
    "    logger = logging.getLogger(__name__)\n",
    "    logger.info('starting search for portfolio folder in teamdrive: {}; {}'.format(teamdriveName, teamdriveID))\n",
    "    \n",
    "    foldersearch = ''\n",
    "    attempt = 5\n",
    "    while (len(foldersearch) <= 0) and (attempt > 0):\n",
    "        attempt -= 1\n",
    "        foldersearch = prompts.prompt_for_input(question='Please enter a portion of the portfolio folder name (case insensitive): ',\n",
    "                                                default=None, strip=True)\n",
    "        if len(foldersearch) <= 0:\n",
    "            print 'Nothing entered. {} attempts remain.'.format(attempt)\n",
    "            \n",
    "        searchresult = myDrive.search(name=foldersearch, fuzzy=True, teamdrive = teamdriveID, mimeType='folder')\n",
    "        if len(searchresult['files']) <= 0:\n",
    "            print 'No folders contained \"{}\"'.format(foldersearch)\n",
    "            print 'Please try entering only part of the folder name'\n",
    "            foldersearch = ''\n",
    "            \n",
    "    \n",
    "    \n",
    "    if foldersearch <= 0:\n",
    "        logger.warn('user entered 0 length string for folder search')\n",
    "        return(None)\n",
    "    \n",
    "    \n",
    "    foldernames = []\n",
    "    for each in searchresult['files']:\n",
    "        foldernames.append(each['name'])\n",
    "    \n",
    "    try:\n",
    "        foldername = prompts.prompt_for_choice(choices=foldernames)\n",
    "    except prompts.TooManyInvalidReplies as e:\n",
    "        logger.warning('user failed to make a choice')\n",
    "        return(None)\n",
    "    \n",
    "    return(searchresult['files'][foldernames.index(foldername)])\n",
    "    "
   ]
  },
  {
   "cell_type": "code",
   "execution_count": 9,
   "metadata": {
    "collapsed": false,
    "deletable": true,
    "editable": true
   },
   "outputs": [
    {
     "name": "stdout",
     "output_type": "stream",
     "text": [
      "2018-09-07 22:24:51,548: [INFO: root.<module>] ===Starting portfolio_creator Log===\n",
      "2018-09-07 22:24:51,549: [DEBUG: configuration.get_config] reading configuration file at: /Users/aaronciuffo/.config/portfolio_creator/portfolio_creator.ini\n",
      "2018-09-07 22:24:51,551: [DEBUG: root.<module>] current configuration:\n",
      "2018-09-07 22:24:51,551: [DEBUG: root.<module>] \n",
      "{'Main': {'credentials': '~/.config/portfolio_creator/credentials/', 'folderid': '', 'teamdriveid': '', 'teamdrivename': '', 'foldername': ''}}\n",
      "2018-09-07 22:24:51,552: [INFO: root.<module>] checking google credentials\n",
      "\n",
      "\n",
      "\n",
      "\n",
      "You *may* be directed to a google web page that asks you to authorize this applicaiton.\n",
      "Please choose an ASH account and authorize this applicaiton.\n",
      "When you are done, please close the newly created tab in your web browser and return to this window.\n",
      "Press Enter to continue...\n",
      "\n",
      "\n",
      "\n",
      "2018-09-07 22:24:52,694: [DEBUG: gdrive.auth.getCredentials] preparing google drive credentials\n",
      "2018-09-07 22:24:52,694: [DEBUG: root.getCredentials] checking for credential store directory: /Users/aaronciuffo/.config/portfolio_creator/credentials/\n",
      "2018-09-07 22:24:52,696: [DEBUG: root.getCredentials] credential store accepted\n",
      "2018-09-07 22:24:52,697: [INFO: googleapiclient.discovery._retrieve_discovery_doc] URL being requested: GET https://www.googleapis.com/discovery/v1/apis/drive/v3/rest\n",
      "2018-09-07 22:24:52,770: [WARNING: root.<module>] Team Drive ID missing\n",
      "2018-09-07 22:24:52,774: [INFO: googleapiclient.discovery.method] URL being requested: GET https://www.googleapis.com/drive/v3/teamdrives?fields=teamDrives&alt=json\n",
      "2018-09-07 22:24:53,114: [DEBUG: humanfriendly.prompts.prompt_for_choice] Requesting interactive choice on terminal (options are u'ASH GDPR ', u'ITM-ITCC Internal', u'ASH PowerSchool Learning Resources', u'IT Blabla', u'ASH Transportation', u'ASH Medical Care Plans' and u'IT Support Internal') ..\n",
      "\n",
      "  1. ASH GDPR \n",
      "  2. ITM-ITCC Internal\n",
      "  3. ASH PowerSchool Learning Resources\n",
      "  4. IT Blabla\n",
      "  5. ASH Transportation\n",
      "  6. ASH Medical Care Plans\n",
      "  7. IT Support Internal\n",
      " \n",
      " Enter your choice as a number or unique substring (Control-C aborts): 4\n",
      "2018-09-07 22:24:56,231: [DEBUG: humanfriendly.prompts.prompt_for_choice] Option (u'IT Blabla') selected by numeric reply (4).\n",
      "2018-09-07 22:24:56,232: [WARNING: root.<module>] Folder ID missing\n",
      "2018-09-07 22:24:56,234: [INFO: configuration.create_config] writing configuration file: /Users/aaronciuffo/.config/portfolio_creator/portfolio_creator.ini\n"
     ]
    },
    {
     "name": "stderr",
     "output_type": "stream",
     "text": [
      "\n"
     ]
    }
   ],
   "source": [
    "version = '00.00 - 18.08.13'\n",
    "appName = 'portfolio_creator'\n",
    "\n",
    "cfgfile = appName+'.ini'\n",
    "cfgpath = os.path.join('~/.config/', appName)\n",
    "cfgfile = os.path.expanduser(os.path.join(cfgpath, cfgfile))\n",
    "studentFile = None\n",
    "updateConfig = False\n",
    "\n",
    "\n",
    "logger = logging.getLogger(__name__)\n",
    "setup_logging(default_level=logging.DEBUG)\n",
    "logging.info('===Starting {} Log==='.format(appName))\n",
    "\n",
    "myConfig = getConfiguration(cfgfile)\n",
    "\n",
    "####### set all config options \n",
    "if myConfig.has_option('Main', 'credentials'):\n",
    "    credential_store = os.path.expanduser(myConfig.get('Main', 'credentials'))\n",
    "else:\n",
    "    credential_store = os.path.expanduser(os.path.join(cfgpath, 'credentials'))\n",
    "    updateConfig = True\n",
    "\n",
    "if myConfig.has_option('Main', 'teamdriveid'):\n",
    "    teamdriveID = myConfig.get('Main', 'teamdriveid')\n",
    "else:\n",
    "    teamdriveID = None\n",
    "    \n",
    "if myConfig.has_option('Main', 'teamdrivename'):\n",
    "    teamdriveName = myConfig.get('Main', 'teamdrivename')\n",
    "else:\n",
    "    teamdriveName = None\n",
    "    \n",
    "if myConfig.has_option('Main', 'folderid'):\n",
    "    folderID = myConfig.get('Main', 'folderid')\n",
    "else:\n",
    "    folderID = None\n",
    "\n",
    "if myConfig.has_option('Main', 'foldername'):\n",
    "    folderName = myConfig.get('Main', 'foldername')\n",
    "else:\n",
    "    folderName = None\n",
    "\n",
    "if myConfig.has_option('Main', 'gradefolders'):\n",
    "    gradefolders = myConfig.get('Main', 'gradefolders')\n",
    "else:\n",
    "    gradefolders = None\n",
    "    \n",
    "if logging.getLogger().getEffectiveLevel() <= 10:\n",
    "    config_dict = {}\n",
    "    for section in myConfig.sections():\n",
    "        config_dict[section] = {}\n",
    "        for option in myConfig.options(section):\n",
    "            config_dict[section][option] = myConfig.get(section, option)\n",
    "\n",
    "    logging.debug('current configuration:')\n",
    "    logging.debug('\\n{}'.format(config_dict))\n",
    "\n",
    "# google drive authorization\n",
    "logging.info('checking google credentials')\n",
    "#### Add instructions before this shoots user over to a web authorization \n",
    "print '\\n'*3\n",
    "print 'You *may* be directed to a google web page that asks you to authorize this applicaiton.'\n",
    "print 'Please choose an ASH account and authorize this applicaiton.'\n",
    "print 'When you are done, please close the newly created tab in your web browser and return to this window.'\n",
    "raw_input(\"Press Enter to continue...\\n\\n\\n\")\n",
    "credential_store = os.path.expanduser(myConfig.get('Main', 'credentials'))\n",
    "\n",
    "# attempt to authorize using stored credentials or generate new credentials as needed\n",
    "try:\n",
    "    credentials = getCredentials(credential_store)\n",
    "except Exception as e:\n",
    "    logging.critical(e)\n",
    "\n",
    "# configure google drive object\n",
    "myDrive = googledrive(credentials)\n",
    "\n",
    "if not teamdriveID:\n",
    "    logging.warn('Team Drive ID missing')\n",
    "    teamdrive = getTeamDrive(myDrive)\n",
    "    try:\n",
    "        teamdriveID = teamdrive['id']\n",
    "        teamdriveName = teamdrive['name']\n",
    "    except (KeyError, TypeError) as e:\n",
    "        \n",
    "        logging.error('no valid team drive information found: {}'.format(e))\n",
    "        exit(0)\n",
    "        \n",
    "    myConfig.set('Main', 'teamdriveid', teamdriveID)\n",
    "    myConfig.set('Main', 'teamdrivename', teamdriveName)\n",
    "    updateConfig = True\n",
    "    \n",
    "\n",
    "    \n",
    "if not folderID:\n",
    "    logging.warn('Folder ID missing')\n",
    "    \n",
    "\n",
    "if updateConfig:\n",
    "    configuration.create_config(cfgfile, myConfig)\n"
   ]
  },
  {
   "cell_type": "code",
   "execution_count": 84,
   "metadata": {
    "collapsed": false
   },
   "outputs": [
    {
     "name": "stdout",
     "output_type": "stream",
     "text": [
      "2018-09-07 23:06:29,358: [INFO: __main__.getPortfolioFolder] starting search for portfolio folder in teamdrive: IT Blabla; 0ACLfU8KeD_BHUk9PVA\n",
      "\n",
      " Please enter a portion of the portfolio folder name (case insensitive): \n",
      "Nothing entered. 4 attempts remain.\n",
      "2018-09-07 23:06:30,239: [DEBUG: root.search] apicall: files().list(q=mimeType=\"application/vnd.google-apps.folder\", orderBy=createdTime))\n",
      "2018-09-07 23:06:30,244: [INFO: googleapiclient.discovery.method] URL being requested: GET https://www.googleapis.com/drive/v3/files?orderBy=createdTime&includeTeamDriveItems=true&corpora=teamDrive&supportsTeamDrives=true&q=mimeType%3D%22application%2Fvnd.google-apps.folder%22&teamDriveId=0ACLfU8KeD_BHUk9PVA&alt=json\n"
     ]
    },
    {
     "name": "stderr",
     "output_type": "stream",
     "text": [
      "\n"
     ]
    },
    {
     "name": "stdout",
     "output_type": "stream",
     "text": [
      "\n",
      " Please enter a portion of the portfolio folder name (case insensitive): Por\n",
      "2018-09-07 23:06:33,483: [DEBUG: root.search] apicall: files().list(q=name contains \"Por\" and mimeType=\"application/vnd.google-apps.folder\", orderBy=createdTime))\n",
      "2018-09-07 23:06:33,489: [INFO: googleapiclient.discovery.method] URL being requested: GET https://www.googleapis.com/drive/v3/files?orderBy=createdTime&includeTeamDriveItems=true&corpora=teamDrive&supportsTeamDrives=true&q=name+contains+%22Por%22+and+mimeType%3D%22application%2Fvnd.google-apps.folder%22&teamDriveId=0ACLfU8KeD_BHUk9PVA&alt=json\n"
     ]
    },
    {
     "name": "stderr",
     "output_type": "stream",
     "text": [
      "\n"
     ]
    },
    {
     "name": "stdout",
     "output_type": "stream",
     "text": [
      "2018-09-07 23:06:33,700: [DEBUG: humanfriendly.prompts.prompt_for_choice] Requesting interactive choice on terminal (options are u'Portfolios', u'Ports', u'Portable' and u'Port Wine') ..\n",
      "\n",
      "  1. Portfolios\n",
      "  2. Ports\n",
      "  3. Portable\n",
      "  4. Port Wine\n",
      " \n",
      " Enter your choice as a number or unique substring (Control-C aborts): \n",
      "2018-09-07 23:06:36,126: [DEBUG: humanfriendly.prompts.prompt_for_choice] Got empty reply (there's no default choice), retrying (1/10) ..\n"
     ]
    },
    {
     "name": "stderr",
     "output_type": "stream",
     "text": [
      "\n",
      " Error: Invalid input (there's no default choice).\n"
     ]
    },
    {
     "name": "stdout",
     "output_type": "stream",
     "text": [
      "\n",
      "  1. Portfolios\n",
      "  2. Ports\n",
      "  3. Portable\n",
      "  4. Port Wine\n",
      " \n",
      " Enter your choice as a number or unique substring (Control-C aborts): \n",
      "2018-09-07 23:06:36,470: [DEBUG: humanfriendly.prompts.prompt_for_choice] Got empty reply (there's no default choice), retrying (2/10) ..\n"
     ]
    },
    {
     "name": "stderr",
     "output_type": "stream",
     "text": [
      "\n",
      " Error: Invalid input (there's no default choice).\n"
     ]
    },
    {
     "name": "stdout",
     "output_type": "stream",
     "text": [
      "\n",
      "  1. Portfolios\n",
      "  2. Ports\n",
      "  3. Portable\n",
      "  4. Port Wine\n",
      " \n",
      " Enter your choice as a number or unique substring (Control-C aborts): \n",
      "2018-09-07 23:06:36,622: [DEBUG: humanfriendly.prompts.prompt_for_choice] Got empty reply (there's no default choice), retrying (3/10) ..\n"
     ]
    },
    {
     "name": "stderr",
     "output_type": "stream",
     "text": [
      "\n",
      " Error: Invalid input (there's no default choice).\n"
     ]
    },
    {
     "name": "stdout",
     "output_type": "stream",
     "text": [
      "\n",
      "  1. Portfolios\n",
      "  2. Ports\n",
      "  3. Portable\n",
      "  4. Port Wine\n",
      " \n",
      " Enter your choice as a number or unique substring (Control-C aborts): \n",
      "2018-09-07 23:06:36,794: [DEBUG: humanfriendly.prompts.prompt_for_choice] Got empty reply (there's no default choice), retrying (4/10) ..\n"
     ]
    },
    {
     "name": "stderr",
     "output_type": "stream",
     "text": [
      "\n",
      " Error: Invalid input (there's no default choice).\n"
     ]
    },
    {
     "name": "stdout",
     "output_type": "stream",
     "text": [
      "\n",
      "  1. Portfolios\n",
      "  2. Ports\n",
      "  3. Portable\n",
      "  4. Port Wine\n",
      " \n",
      " Enter your choice as a number or unique substring (Control-C aborts): \n",
      "2018-09-07 23:06:37,754: [DEBUG: humanfriendly.prompts.prompt_for_choice] Got empty reply (there's no default choice), retrying (5/10) ..\n"
     ]
    },
    {
     "name": "stderr",
     "output_type": "stream",
     "text": [
      "\n",
      " Error: Invalid input (there's no default choice).\n"
     ]
    },
    {
     "name": "stdout",
     "output_type": "stream",
     "text": [
      "\n",
      "  1. Portfolios\n",
      "  2. Ports\n",
      "  3. Portable\n",
      "  4. Port Wine\n",
      " \n",
      " Enter your choice as a number or unique substring (Control-C aborts): \n",
      "2018-09-07 23:06:37,881: [DEBUG: humanfriendly.prompts.prompt_for_choice] Got empty reply (there's no default choice), retrying (6/10) ..\n"
     ]
    },
    {
     "name": "stderr",
     "output_type": "stream",
     "text": [
      "\n",
      " Error: Invalid input (there's no default choice).\n"
     ]
    },
    {
     "name": "stdout",
     "output_type": "stream",
     "text": [
      "\n",
      "  1. Portfolios\n",
      "  2. Ports\n",
      "  3. Portable\n",
      "  4. Port Wine\n",
      " \n",
      " Enter your choice as a number or unique substring (Control-C aborts): \n",
      "2018-09-07 23:06:39,012: [DEBUG: humanfriendly.prompts.prompt_for_choice] Got empty reply (there's no default choice), retrying (7/10) ..\n"
     ]
    },
    {
     "name": "stderr",
     "output_type": "stream",
     "text": [
      "\n",
      " Error: Invalid input (there's no default choice).\n"
     ]
    },
    {
     "name": "stdout",
     "output_type": "stream",
     "text": [
      "\n",
      "  1. Portfolios\n",
      "  2. Ports\n",
      "  3. Portable\n",
      "  4. Port Wine\n",
      " \n",
      " Enter your choice as a number or unique substring (Control-C aborts): \n",
      "2018-09-07 23:06:40,695: [DEBUG: humanfriendly.prompts.prompt_for_choice] Got empty reply (there's no default choice), retrying (8/10) ..\n"
     ]
    },
    {
     "name": "stderr",
     "output_type": "stream",
     "text": [
      "\n",
      " Error: Invalid input (there's no default choice).\n"
     ]
    },
    {
     "name": "stdout",
     "output_type": "stream",
     "text": [
      "\n",
      "  1. Portfolios\n",
      "  2. Ports\n",
      "  3. Portable\n",
      "  4. Port Wine\n",
      " \n",
      " Enter your choice as a number or unique substring (Control-C aborts): \n",
      "2018-09-07 23:06:41,183: [DEBUG: humanfriendly.prompts.prompt_for_choice] Got empty reply (there's no default choice), retrying (9/10) ..\n"
     ]
    },
    {
     "name": "stderr",
     "output_type": "stream",
     "text": [
      "\n",
      " Error: Invalid input (there's no default choice).\n"
     ]
    },
    {
     "name": "stdout",
     "output_type": "stream",
     "text": [
      "\n",
      "  1. Portfolios\n",
      "  2. Ports\n",
      "  3. Portable\n",
      "  4. Port Wine\n",
      " \n",
      " Enter your choice as a number or unique substring (Control-C aborts): \n",
      "2018-09-07 23:06:41,729: [DEBUG: humanfriendly.prompts.prompt_for_choice] Got empty reply (there's no default choice), retrying (10/10) ..\n",
      "2018-09-07 23:06:41,730: [WARNING: humanfriendly.prompts.retry_limit] Received too many invalid replies on interactive prompt, giving up! (tried 10 times)\n",
      "2018-09-07 23:06:41,731: [WARNING: __main__.getPortfolioFolder] user failed to make a choice\n"
     ]
    },
    {
     "name": "stderr",
     "output_type": "stream",
     "text": [
      "\n",
      " Error: Invalid input (there's no default choice).\n"
     ]
    }
   ],
   "source": [
    "foo = getPortfolioFolder()"
   ]
  },
  {
   "cell_type": "code",
   "execution_count": 72,
   "metadata": {
    "collapsed": false
   },
   "outputs": [],
   "source": [
    "bar = foo['files']"
   ]
  },
  {
   "cell_type": "code",
   "execution_count": null,
   "metadata": {
    "collapsed": true
   },
   "outputs": [],
   "source": [
    "bar."
   ]
  },
  {
   "cell_type": "code",
   "execution_count": 12,
   "metadata": {
    "collapsed": false
   },
   "outputs": [
    {
     "name": "stdout",
     "output_type": "stream",
     "text": [
      "Help on method search in module gdrive.gdrive:\n",
      "\n",
      "search(self, name=None, trashed=None, mimeType=False, fuzzy=False, date=None, dopperator='>', parents=None, orderBy='createdTime', teamdrive=None, quiet=True) method of gdrive.gdrive.googledrive instance\n",
      "    search for an item by name and other properties in google drive\n",
      "    \n",
      "    args:\n",
      "        name (string): item name in google drive - required\n",
      "        trashed (bool): item is not in trash - default None (not used)\n",
      "        mimeType = (string): item is one of the known mime types (gdrive.mimeTypes) - default None\n",
      "        fuzzy = (bool): substring search of names in drive\n",
      "        date = (RFC3339 date string): modification time date string (YYYY-MM-DD)\n",
      "        dopperator (date comparison opprator string): <, >, =, >=, <=  - default >\n",
      "        parents = (string): google drive file id string\n",
      "        orderBy = (comma separated string): order results assending by keys below - default createdTime:\n",
      "                    'createdTime', 'folder', 'modifiedByMeTime', \n",
      "                    'modifiedTime', 'name', 'quotaBytesUsed', \n",
      "                    'recency', 'sharedWithMeTime', 'starred', \n",
      "                    'viewedByMeTime'\n",
      "        fields (comma separated string): properties to query and return any of the following:\n",
      "            'parents', 'mimeType', 'webViewLink', \n",
      "            'size', 'createdTime', 'trashed'\n",
      "            'id'\n",
      "        sanitize (bool): remove any field options that are not in the above list - false to allow anything\n",
      "        teamdrive (string): Team Drive ID string - when included only the specified Team Drive is searched\n",
      "        quiet (bool): false prints all the results\n",
      "                    \n",
      "                    \n",
      "        \n",
      "    returns:\n",
      "        list of file dict\n",
      "\n"
     ]
    }
   ],
   "source": [
    "mydrive.search()\n",
    "help(myDrive.search)"
   ]
  },
  {
   "cell_type": "code",
   "execution_count": 48,
   "metadata": {
    "collapsed": false
   },
   "outputs": [
    {
     "name": "stdout",
     "output_type": "stream",
     "text": [
      "2018-09-07 22:08:37,116: [INFO: googleapiclient.discovery.method] URL being requested: GET https://www.googleapis.com/drive/v3/teamdrives?fields=teamDrives&alt=json\n",
      "2018-09-07 22:08:37,396: [DEBUG: humanfriendly.prompts.prompt_for_choice] Requesting interactive choice on terminal (options are u'ASH GDPR ', u'ITM-ITCC Internal', u'ASH PowerSchool Learning Resources', u'IT Blabla', u'ASH Transportation', u'ASH Medical Care Plans' and u'IT Support Internal') ..\n",
      "\n",
      "  1. ASH GDPR \n",
      "  2. ITM-ITCC Internal\n",
      "  3. ASH PowerSchool Learning Resources\n",
      "  4. IT Blabla\n",
      "  5. ASH Transportation\n",
      "  6. ASH Medical Care Plans\n",
      "  7. IT Support Internal\n",
      " \n",
      " Enter your choice as a number or unique substring (Control-C aborts): \n",
      "2018-09-07 22:08:38,817: [DEBUG: humanfriendly.prompts.prompt_for_choice] Got empty reply (there's no default choice), retrying (1/10) ..\n"
     ]
    },
    {
     "name": "stderr",
     "output_type": "stream",
     "text": [
      "\n",
      " Error: Invalid input (there's no default choice).\n"
     ]
    },
    {
     "name": "stdout",
     "output_type": "stream",
     "text": [
      "\n",
      "  1. ASH GDPR \n",
      "  2. ITM-ITCC Internal\n",
      "  3. ASH PowerSchool Learning Resources\n",
      "  4. IT Blabla\n",
      "  5. ASH Transportation\n",
      "  6. ASH Medical Care Plans\n",
      "  7. IT Support Internal\n",
      " \n",
      " Enter your choice as a number or unique substring (Control-C aborts): \n",
      "2018-09-07 22:08:38,968: [DEBUG: humanfriendly.prompts.prompt_for_choice] Got empty reply (there's no default choice), retrying (2/10) ..\n"
     ]
    },
    {
     "name": "stderr",
     "output_type": "stream",
     "text": [
      "\n",
      " Error: Invalid input (there's no default choice).\n"
     ]
    },
    {
     "name": "stdout",
     "output_type": "stream",
     "text": [
      "\n",
      "  1. ASH GDPR \n",
      "  2. ITM-ITCC Internal\n",
      "  3. ASH PowerSchool Learning Resources\n",
      "  4. IT Blabla\n",
      "  5. ASH Transportation\n",
      "  6. ASH Medical Care Plans\n",
      "  7. IT Support Internal\n",
      " \n",
      " Enter your choice as a number or unique substring (Control-C aborts): \n",
      "2018-09-07 22:08:39,124: [DEBUG: humanfriendly.prompts.prompt_for_choice] Got empty reply (there's no default choice), retrying (3/10) ..\n"
     ]
    },
    {
     "name": "stderr",
     "output_type": "stream",
     "text": [
      "\n",
      " Error: Invalid input (there's no default choice).\n"
     ]
    },
    {
     "name": "stdout",
     "output_type": "stream",
     "text": [
      "\n",
      "  1. ASH GDPR \n",
      "  2. ITM-ITCC Internal\n",
      "  3. ASH PowerSchool Learning Resources\n",
      "  4. IT Blabla\n",
      "  5. ASH Transportation\n",
      "  6. ASH Medical Care Plans\n",
      "  7. IT Support Internal\n",
      " \n",
      " Enter your choice as a number or unique substring (Control-C aborts): \n",
      "2018-09-07 22:08:39,291: [DEBUG: humanfriendly.prompts.prompt_for_choice] Got empty reply (there's no default choice), retrying (4/10) ..\n"
     ]
    },
    {
     "name": "stderr",
     "output_type": "stream",
     "text": [
      "\n",
      " Error: Invalid input (there's no default choice).\n"
     ]
    },
    {
     "name": "stdout",
     "output_type": "stream",
     "text": [
      "\n",
      "  1. ASH GDPR \n",
      "  2. ITM-ITCC Internal\n",
      "  3. ASH PowerSchool Learning Resources\n",
      "  4. IT Blabla\n",
      "  5. ASH Transportation\n",
      "  6. ASH Medical Care Plans\n",
      "  7. IT Support Internal\n",
      " \n",
      " Enter your choice as a number or unique substring (Control-C aborts): \n",
      "2018-09-07 22:08:39,457: [DEBUG: humanfriendly.prompts.prompt_for_choice] Got empty reply (there's no default choice), retrying (5/10) ..\n"
     ]
    },
    {
     "name": "stderr",
     "output_type": "stream",
     "text": [
      "\n",
      " Error: Invalid input (there's no default choice).\n"
     ]
    },
    {
     "name": "stdout",
     "output_type": "stream",
     "text": [
      "\n",
      "  1. ASH GDPR \n",
      "  2. ITM-ITCC Internal\n",
      "  3. ASH PowerSchool Learning Resources\n",
      "  4. IT Blabla\n",
      "  5. ASH Transportation\n",
      "  6. ASH Medical Care Plans\n",
      "  7. IT Support Internal\n",
      " \n",
      " Enter your choice as a number or unique substring (Control-C aborts): \n",
      "2018-09-07 22:08:39,610: [DEBUG: humanfriendly.prompts.prompt_for_choice] Got empty reply (there's no default choice), retrying (6/10) ..\n"
     ]
    },
    {
     "name": "stderr",
     "output_type": "stream",
     "text": [
      "\n",
      " Error: Invalid input (there's no default choice).\n"
     ]
    },
    {
     "name": "stdout",
     "output_type": "stream",
     "text": [
      "\n",
      "  1. ASH GDPR \n",
      "  2. ITM-ITCC Internal\n",
      "  3. ASH PowerSchool Learning Resources\n",
      "  4. IT Blabla\n",
      "  5. ASH Transportation\n",
      "  6. ASH Medical Care Plans\n",
      "  7. IT Support Internal\n",
      " \n",
      " Enter your choice as a number or unique substring (Control-C aborts): \n",
      "2018-09-07 22:08:39,764: [DEBUG: humanfriendly.prompts.prompt_for_choice] Got empty reply (there's no default choice), retrying (7/10) ..\n"
     ]
    },
    {
     "name": "stderr",
     "output_type": "stream",
     "text": [
      "\n",
      " Error: Invalid input (there's no default choice).\n"
     ]
    },
    {
     "name": "stdout",
     "output_type": "stream",
     "text": [
      "\n",
      "  1. ASH GDPR \n",
      "  2. ITM-ITCC Internal\n",
      "  3. ASH PowerSchool Learning Resources\n",
      "  4. IT Blabla\n",
      "  5. ASH Transportation\n",
      "  6. ASH Medical Care Plans\n",
      "  7. IT Support Internal\n",
      " \n",
      " Enter your choice as a number or unique substring (Control-C aborts): \n",
      "2018-09-07 22:08:39,929: [DEBUG: humanfriendly.prompts.prompt_for_choice] Got empty reply (there's no default choice), retrying (8/10) ..\n"
     ]
    },
    {
     "name": "stderr",
     "output_type": "stream",
     "text": [
      "\n",
      " Error: Invalid input (there's no default choice).\n"
     ]
    },
    {
     "name": "stdout",
     "output_type": "stream",
     "text": [
      "\n",
      "  1. ASH GDPR \n",
      "  2. ITM-ITCC Internal\n",
      "  3. ASH PowerSchool Learning Resources\n",
      "  4. IT Blabla\n",
      "  5. ASH Transportation\n",
      "  6. ASH Medical Care Plans\n",
      "  7. IT Support Internal\n",
      " \n",
      " Enter your choice as a number or unique substring (Control-C aborts): \n",
      "2018-09-07 22:08:40,086: [DEBUG: humanfriendly.prompts.prompt_for_choice] Got empty reply (there's no default choice), retrying (9/10) ..\n"
     ]
    },
    {
     "name": "stderr",
     "output_type": "stream",
     "text": [
      "\n",
      " Error: Invalid input (there's no default choice).\n"
     ]
    },
    {
     "name": "stdout",
     "output_type": "stream",
     "text": [
      "\n",
      "  1. ASH GDPR \n",
      "  2. ITM-ITCC Internal\n",
      "  3. ASH PowerSchool Learning Resources\n",
      "  4. IT Blabla\n",
      "  5. ASH Transportation\n",
      "  6. ASH Medical Care Plans\n",
      "  7. IT Support Internal\n",
      " \n",
      " Enter your choice as a number or unique substring (Control-C aborts): \n",
      "2018-09-07 22:08:40,497: [DEBUG: humanfriendly.prompts.prompt_for_choice] Got empty reply (there's no default choice), retrying (10/10) ..\n",
      "2018-09-07 22:08:40,498: [WARNING: humanfriendly.prompts.retry_limit] Received too many invalid replies on interactive prompt, giving up! (tried 10 times)\n",
      "2018-09-07 22:08:40,499: [WARNING: __main__.getTeamDrive] user failed to make a choice after\n"
     ]
    },
    {
     "name": "stderr",
     "output_type": "stream",
     "text": [
      "\n",
      " Error: Invalid input (there's no default choice).\n"
     ]
    }
   ],
   "source": [
    "myTeamDrive = getTeamDrive()"
   ]
  },
  {
   "cell_type": "code",
   "execution_count": 31,
   "metadata": {
    "collapsed": false
   },
   "outputs": [
    {
     "name": "stdout",
     "output_type": "stream",
     "text": [
      "2018-09-07 21:56:54,720: [DEBUG: humanfriendly.prompts.prompt_for_choice] Requesting interactive choice on terminal (options are u'ASH GDPR ', u'ITM-ITCC Internal', u'ASH PowerSchool Learning Resources', u'IT Blabla', u'ASH Transportation', u'ASH Medical Care Plans' and u'IT Support Internal') ..\n",
      "\n",
      "  1. ASH GDPR \n",
      "  2. ITM-ITCC Internal\n",
      "  3. ASH PowerSchool Learning Resources\n",
      "  4. IT Blabla\n",
      "  5. ASH Transportation\n",
      "  6. ASH Medical Care Plans\n",
      "  7. IT Support Internal\n",
      " \n",
      " Enter your choice as a number or unique substring (Control-C aborts): 4\n",
      "2018-09-07 21:56:58,187: [DEBUG: humanfriendly.prompts.prompt_for_choice] Option (u'IT Blabla') selected by numeric reply (4).\n",
      "{u'restrictions': {u'adminManagedRestrictions': False, u'copyRequiresWriterPermission': False, u'domainUsersOnly': False, u'teamMembersOnly': False}, u'kind': u'drive#teamDrive', u'backgroundImageLink': u'https://lh3.googleusercontent.com/proxy/UzcLkepaZHw5GeAzjagJdp7-2DGaBMcj-9TU-X3o4PD1x_kQByZO_r-RDmBxS1iLzsq_MDEq4U_3w_qpTY_6VThyMPNk-Tz9lSEBUXXx-2ZclKA=w1920-h216-n', u'name': u'IT Blabla', u'colorRgb': u'#607d8b', u'capabilities': {u'canReadRevisions': True, u'canCopy': True, u'canShare': True, u'canTrashChildren': True, u'canListChildren': True, u'canChangeTeamMembersOnlyRestriction': True, u'canRename': True, u'canChangeCopyRequiresWriterPermissionRestriction': True, u'canRenameTeamDrive': True, u'canManageMembers': True, u'canDownload': True, u'canComment': True, u'canChangeTeamDriveBackground': True, u'canDeleteTeamDrive': True, u'canEdit': True, u'canRemoveChildren': True, u'canDeleteChildren': True, u'canAddChildren': True, u'canChangeDomainUsersOnlyRestriction': True}, u'createdTime': u'2017-02-24T07:24:07.787Z', u'id': u'0ACLfU8KeD_BHUk9PVA'}\n"
     ]
    },
    {
     "name": "stderr",
     "output_type": "stream",
     "text": [
      "\n"
     ]
    }
   ],
   "source": [
    "teamdrive_name = prompts.prompt_for_choice(choices=teamdrives_writeable, default=None, )\n",
    "print teamdrives_writeable[teamdrive_name]"
   ]
  },
  {
   "cell_type": "code",
   "execution_count": 30,
   "metadata": {
    "collapsed": false
   },
   "outputs": [
    {
     "ename": "TypeError",
     "evalue": "warning() takes at least 1 argument (0 given)",
     "output_type": "error",
     "traceback": [
      "\u001b[0;31m---------------------------------------------------------------------------\u001b[0m",
      "\u001b[0;31mTypeError\u001b[0m                                 Traceback (most recent call last)",
      "\u001b[0;32m<ipython-input-30-26e50975a6e1>\u001b[0m in \u001b[0;36m<module>\u001b[0;34m()\u001b[0m\n\u001b[0;32m----> 1\u001b[0;31m \u001b[0mprompts\u001b[0m\u001b[0;34m.\u001b[0m\u001b[0mwarning\u001b[0m\u001b[0;34m(\u001b[0m\u001b[0;34m)\u001b[0m\u001b[0;34m\u001b[0m\u001b[0m\n\u001b[0m",
      "\u001b[0;31mTypeError\u001b[0m: warning() takes at least 1 argument (0 given)"
     ]
    }
   ],
   "source": [
    "prompts.warning()"
   ]
  },
  {
   "cell_type": "code",
   "execution_count": null,
   "metadata": {
    "collapsed": true,
    "deletable": true,
    "editable": true
   },
   "outputs": [],
   "source": [
    "def xgetTeamDrive(myDrive):\n",
    "    '''\n",
    "    menu interaction to find appropriate teamdrive ID for storing portfolios\n",
    "    '''\n",
    "    logger = logging.getLogger(__name__)\n",
    "    myMenu = Menu()\n",
    "    teamDrives = {}\n",
    "    logging.debug('fetching list of team drives')\n",
    "    for each in myDrive.listTeamDrives():\n",
    "        try:\n",
    "            teamDrives[each['name']] = each['id']\n",
    "            myMenu.addItem(each['name'])\n",
    "        except KeyError as e:\n",
    "            logger.warn('KeyError: {}'.format(e))\n",
    "            \n",
    "    myMenu.sortMenu()\n",
    "    td_name = myMenu.loopChoice(optional=True, message='Choose Team Drive for Portfolios')\n",
    "    if td_name.upper() == 'Q':\n",
    "        return('Q', 'Q')\n",
    "    else:\n",
    "        return([td_name, teamDrives[td_name]])"
   ]
  },
  {
   "cell_type": "code",
   "execution_count": null,
   "metadata": {
    "collapsed": true,
    "deletable": true,
    "editable": true
   },
   "outputs": [],
   "source": [
    "def xgetPortfolioFolder(myDrive, teamDriveID):\n",
    "    # ask user for partial folder name\n",
    "        # check for non 0 input\n",
    "    # if results are returned ask user to choose from list, or search again\n",
    "    # if no results are returned, prompt user for new search terms\n",
    "    # return the name and id of the folder\n",
    "    \n",
    "    logger = logging.getLogger(__name__)\n",
    "    logger.info('starting search for portfolio folder in teamdrive ID: {}'.format(teamdriveID))\n",
    "    print 'Locating Portfolio Folder in Team Drive'\n",
    "    \n",
    "    search = True\n",
    "    attempts = 3\n",
    "    \n",
    "    quitMenu = Menu(items=['Yes', 'No'])\n",
    "    \n",
    "    while search:\n",
    "        logger.debug('remaining attempts: {}'.format(attempts))\n",
    "        attempts -=1\n",
    "        foldersearch = ''\n",
    "        folderID = ''\n",
    "        folderName = ''\n",
    "        folderlist = {}\n",
    "        myMenu = Menu()\n",
    "        \n",
    "        # get a partial file name to search for\n",
    "        while len(foldersearch) <= 0:\n",
    "            foldersearch = raw_input('Enter part of the portfolio folder name: ')\n",
    "            if len(foldersearch) <=0:\n",
    "                print 'Please enter at least one character.'\n",
    "                \n",
    "        # fetch results from google drive\n",
    "        logger.debug('searching for folder name: {}'.format(foldersearch))\n",
    "        searchresult = myDrive.search(name=foldersearch, fuzzy=True, teamdrive = teamdriveID, mimeType='folder')\n",
    "        try:\n",
    "            rawfilelist = searchresult['files']\n",
    "        except KeyError as e:\n",
    "            rawfilelist = {}\n",
    "            logger.warn(e)\n",
    "    \n",
    "        if len(rawfilelist) < 1:\n",
    "            print 'No matching folders were found. Please check your spelling and try a new search.'\n",
    "            logger.debug('no matching folders found')\n",
    "        else:\n",
    "            for each_folder in rawfilelist:\n",
    "                folderlist[each_folder['name']] = each_folder['id']\n",
    "                myMenu.addItem(each_folder['name'])\n",
    "                \n",
    "            myMenu.sortMenu()\n",
    "            folderName = myMenu.loopChoice()\n",
    "            folderID = folderlist[folderName]\n",
    "            if len(folderID) > 0:\n",
    "                logger.debug('exiting folder choice loop')\n",
    "                break\n",
    "        \n",
    "            \n",
    "            \n",
    "        # ask to break out of loop after attempts reaches 0\n",
    "        if attempts <= 0:\n",
    "            quit = quitMenu.loopChoice(message='It looks like you\\'re having trouble. Would you like to try again?')\n",
    "            if quit == 'No':\n",
    "                search = False\n",
    "            else:\n",
    "                attempts = 3\n",
    "        \n",
    "    \n",
    "    \n",
    "    \n",
    "    return(folderName, folderID)"
   ]
  },
  {
   "cell_type": "code",
   "execution_count": null,
   "metadata": {
    "collapsed": true,
    "deletable": true,
    "editable": true
   },
   "outputs": [],
   "source": [
    "def getStudentFile():\n",
    "    '''\n",
    "    menu interaction to choose appropriate student_export.text file to import\n",
    "    Returns:\n",
    "        studentFile (string): path to student_export.text file\n",
    "    '''\n",
    "    logger = logging.getLogger(__name__)\n",
    "    items = ['Desktop', 'Downloads', 'Documents']\n",
    "    fileMenu = Menu(name='Location to search for \"student_export file',items=items)\n",
    "    fileMenu.sortMenu()\n",
    "    studentFolder = fileMenu.loopChoice(optional=True,\n",
    "                                        message='Please specify the location of a PowerSchool \"student_export\" file')\n",
    "    if studentFolder == 'Q':\n",
    "        logger.debug('user quit')\n",
    "        return('Q')\n",
    "    \n",
    "    searchPath = os.path.expanduser('~/'+studentFolder)\n",
    "    fileList = fileSearch(searchPath, 'text')\n",
    "    logger.debug('files found: {}'.format(len(fileList)))\n",
    "    if fileList is None:\n",
    "        print '{0} folder does not exist!'.format(searchPath)\n",
    "        return(None)\n",
    "    elif len(fileList) < 1:\n",
    "            print '{0} folder does not contain any files that end with \".text\"\\n'.format(searchPath)\n",
    "            return(None)\n",
    "    \n",
    "    fileMenu = Menu(name = 'located student_export files', items = fileList)\n",
    "    fileMenu.sortMenu()\n",
    "    \n",
    "    myFile = fileMenu.loopChoice(optional=True, message='Please choose the appropriate student_export file to import')\n",
    "    \n",
    "    if myFile == 'Q':\n",
    "        logger.debug('user quit')\n",
    "        return('Q')\n",
    "    \n",
    "    return(os.path.join(searchPath, myFile))\n",
    "    "
   ]
  },
  {
   "cell_type": "code",
   "execution_count": null,
   "metadata": {
    "collapsed": true,
    "deletable": true,
    "editable": true
   },
   "outputs": [],
   "source": [
    "def askContinue(studentExport, myConfig={}):\n",
    "    '''\n",
    "    menu interaction ask if everything is correct and run the folder population\n",
    "    '''\n",
    "    logger = logging.getLogger(__name__)\n",
    "    logger.debug('checking configuration with user')\n",
    "    continueMenu = Menu(name='Continue', items=['Yes', 'No'] ) \n",
    "    choice = None\n",
    "    # print the configuration here\n",
    "    cfgDisplay = ['teamdrivename', 'foldername', 'gradefolders', 'studenexport']\n",
    "    print 'These are the settings that will be used to create portfolio folders:'\n",
    "    for option in cfgDisplay:\n",
    "        try:\n",
    "            print '{}: {}'.format(option, myConfig.get('Main', option))\n",
    "        except Exception as e:\n",
    "            logger.debug(e)\n",
    "    print 'studentexport: {}\\n'.format(studentExport)\n",
    "        \n",
    "    \n",
    "    while not choice:\n",
    "        choice = continueMenu.loopChoice(optional=True, message='Begin folder creation with the settings shown above?')\n",
    "\n",
    "        if choice == 'No':\n",
    "            changeMenu = Menu(items=cfgDisplay, name='Current Configuration')\n",
    "            change = changeMenu.loopChoice(optional=True, message='Which option would you like to change?')\n",
    "            if change == 'teamdrivename':\n",
    "                \n",
    "            choice = None\n",
    "\n",
    "\n",
    "        if choice == 'Yes':\n",
    "            return('Y')\n",
    "\n",
    "        if choice == 'Q':\n",
    "            return('Q')\n",
    "    \n",
    "    return(choice)\n",
    "    "
   ]
  },
  {
   "cell_type": "code",
   "execution_count": null,
   "metadata": {
    "collapsed": true,
    "deletable": true,
    "editable": true
   },
   "outputs": [],
   "source": [
    "askContinue('foo', myConfig)"
   ]
  },
  {
   "cell_type": "code",
   "execution_count": null,
   "metadata": {
    "collapsed": true,
    "deletable": true,
    "editable": true
   },
   "outputs": [],
   "source": [
    "version = '00.00 - 18.08.13'\n",
    "appName = 'portfolio_creator'\n",
    "\n",
    "cfgfile = appName+'.ini'\n",
    "cfgpath = os.path.join('~/.config/', appName)\n",
    "cfgfile = os.path.expanduser(os.path.join(cfgpath, cfgfile))\n",
    "studentFile = None\n",
    "updateConfig = False\n",
    "\n",
    "\n",
    "logger = logging.getLogger(__name__)\n",
    "setup_logging(default_level=logging.DEBUG)\n",
    "logging.info('===Starting {} Log==='.format(appName))\n",
    "\n",
    "myConfig = getConfiguration(cfgfile)\n",
    "\n",
    "####### set all config options \n",
    "if myConfig.has_option('Main', 'credentials'):\n",
    "    credential_store = os.path.expanduser(myConfig.get('Main', 'credentials'))\n",
    "else:\n",
    "    credential_store = os.path.expanduser(os.path.join(cfgpath, 'credentials'))\n",
    "    updateConfig = True\n",
    "\n",
    "if myConfig.has_option('Main', 'teamdriveid'):\n",
    "    teamdriveID = myConfig.get('Main', 'teamdriveid')\n",
    "else:\n",
    "    teamdriveID = None\n",
    "    \n",
    "if myConfig.has_option('Main', 'teamdrivename'):\n",
    "    teamdriveName = myConfig.get('Main', 'teamdrivename')\n",
    "else:\n",
    "    teamdriveName = None\n",
    "    \n",
    "if myConfig.has_option('Main', 'folderid'):\n",
    "    folderID = myConfig.get('Main', 'folderid')\n",
    "else:\n",
    "    folderID = None\n",
    "\n",
    "if myConfig.has_option('Main', 'foldername'):\n",
    "    folderName = myConfig.get('Main', 'foldername')\n",
    "else:\n",
    "    folderName = None\n",
    "\n",
    "if myConfig.has_option('Main', 'gradefolders'):\n",
    "    gradefolders = myConfig.get('Main', 'gradefolders')\n",
    "else:\n",
    "    gradefolders = None\n",
    "    \n",
    "if logging.getLogger().getEffectiveLevel() <= 10:\n",
    "    config_dict = {}\n",
    "    for section in myConfig.sections():\n",
    "        config_dict[section] = {}\n",
    "        for option in myConfig.options(section):\n",
    "            config_dict[section][option] = myConfig.get(section, option)\n",
    "\n",
    "    logging.debug('current configuration:')\n",
    "    logging.debug('\\n{}'.format(config_dict))\n",
    "\n",
    "# print '\\n'*10\n",
    "print 'Welcome to the portfolio creator for Google Team Drive version {0}'.format(version)\n",
    "print 'This program will create portfolio folders in Google Team Drive for students.'\n",
    "print 'You will need a student_export.text file from PowerSchool with at least the following information:'\n",
    "print '     ClassOf, FirstLast, Student_Number\\n'\n",
    "print 'The order of the CSV does not matter, but the headers must be on the very first line.'\n",
    "# raw_input(\"Press Enter to continue...\\n\\n\\n\")\n",
    "\n",
    "    \n",
    "# google drive authorization\n",
    "logging.info('checking google credentials')\n",
    "#### Add instructions before this shoots user over to a web authorization \n",
    "print '\\n'*3\n",
    "print 'You *may* be directed to a google web page that asks you to authorize this applicaiton.'\n",
    "print 'Please choose an ASH account and authorize this applicaiton.'\n",
    "print 'When you are done, please close the newly created tab in your web browser and return to this window.'\n",
    "raw_input(\"Press Enter to continue...\\n\\n\\n\")\n",
    "credential_store = os.path.expanduser(myConfig.get('Main', 'credentials'))\n",
    "\n",
    "# attempt to authorize using stored credentials or generate new credentials as needed\n",
    "try:\n",
    "    credentials = getCredentials(credential_store)\n",
    "except Exception as e:\n",
    "    logging.critical(e)\n",
    "\n",
    "# configure google drive object\n",
    "myDrive = googledrive(credentials)\n",
    "\n",
    "if (not teamdriveID) or (len(teamdriveID)< 1):\n",
    "    teamdriveName, teamdriveID = getTeamDrive(myDrive)\n",
    "    if teamdriveID == 'Q':\n",
    "        logging.debug('user exit')\n",
    "        sys.exit(0)\n",
    "    myConfig.set('Main', 'teamdriveid', teamdriveID)\n",
    "    myConfig.set('Main', 'teamdrivename', teamdriveName)\n",
    "    updateConfig = True\n",
    "\n",
    "\n",
    "if not folderID or len(folderID) < 1:\n",
    "    folderName, folderID = getPortfolioFolder(myDrive, teamdriveID)\n",
    "    if len(folderID) < 1:\n",
    "        logging.debug('user exit')\n",
    "        print 'exiting'\n",
    "    myConfig.set('Main', 'folderID', folderID)\n",
    "    myConfig.set('Main', 'folderName', folderName)\n",
    "    updateConfig = True\n",
    "\n",
    "\n",
    "if not gradefolders or len(gradefolders) < 1:\n",
    "    logger.debug('searching cwd for gradefolders')\n",
    "    if os.path.isfile('./gradefolders.txt'):\n",
    "        logger.debug('gradefolders found in cwd')\n",
    "        gradefolders = './gradefolders.txt'\n",
    "        myConfig.set('Main', 'gradefolders', gradefolders)\n",
    "        updateConfig = True   \n",
    "    # if a grade folder on the desktop exists, use this one\n",
    "    elif os.path.isfile(os.path.expanduser('~/Desktop/gradefolders.txt')):\n",
    "        logger.debug('found gradefolders on ~/Desktop, using')\n",
    "        gradefolders = os.path.expanduser('~/Desktop/gradefolders.txt')\n",
    "    else:\n",
    "        print 'The gradefolders.txt file appears to be missing.'\n",
    "        print 'gradefolders.txt should contain the name of one grade level per line'\n",
    "        print 'staring with Preeschool through 12th grade in the format below:'\n",
    "        print '\\n00-Preeschool\\n00-Transition Kindergarten\\n00-zKindergarten...\\n09-Grade\\n10-Grade\\n11-Grade\\n12-Grade'\n",
    "        print 'please create a gradefolders.txt file and place it on the desktop'\n",
    "        print 'exiting'\n",
    "        sys.exit(0)\n",
    "        \n",
    "\n",
    "while not studentFile:\n",
    "    studentFile = getStudentFile()\n",
    "    if studentFile == 'Q':\n",
    "        print 'exiting'\n",
    "        sys.exit(0)\n",
    "logger.debug('student file chosen: {}'.format(studentFile))\n",
    "\n",
    "\n",
    "\n",
    "    \n",
    "if updateConfig:\n",
    "    configuration.create_config(cfgfile, myConfig)\n",
    "\n",
    "\n"
   ]
  }
 ],
 "metadata": {
  "kernelspec": {
   "display_name": "Python 2",
   "language": "python",
   "name": "python2"
  },
  "language_info": {
   "codemirror_mode": {
    "name": "ipython",
    "version": 2
   },
   "file_extension": ".py",
   "mimetype": "text/x-python",
   "name": "python",
   "nbconvert_exporter": "python",
   "pygments_lexer": "ipython2",
   "version": "2.7.13"
  }
 },
 "nbformat": 4,
 "nbformat_minor": 2
}

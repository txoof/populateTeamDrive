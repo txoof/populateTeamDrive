{
 "cells": [
  {
   "cell_type": "code",
   "execution_count": 1,
   "metadata": {
    "collapsed": true,
    "deletable": true,
    "editable": true
   },
   "outputs": [],
   "source": [
    "import logging\n",
    "import logging.config\n",
    "import os\n",
    "import json\n",
    "import ConfigParser\n",
    "from simpleMenu import menu\n",
    "\n",
    "from gdrive.auth import getCredentials\n",
    "from gdrive.gdrive import googledrive, GDriveError\n",
    "\n",
    "\n",
    "# get the current working directory\n",
    "# When launching a .command from the OS X Finder, the working directory is typically ~/; this is problematic\n",
    "# for locating resource files\n",
    "# I don't love this hack, but it works.\n",
    "try:\n",
    "    __file__\n",
    "    cwd = os.path.dirname(__file__)+'/'\n",
    "except NameError as e:\n",
    "    cwd = os.getcwd()"
   ]
  },
  {
   "cell_type": "code",
   "execution_count": 2,
   "metadata": {
    "collapsed": false,
    "deletable": true,
    "editable": true
   },
   "outputs": [],
   "source": [
    "def setup_logging(\n",
    "    default_path='logging.json',\n",
    "    default_level=logging.INFO,\n",
    "    env_key='LOG_CFG'\n",
    "):\n",
    "    \"\"\"Setup logging configuration\n",
    "\n",
    "    \"\"\"\n",
    "    path = default_path\n",
    "    value = os.getenv(env_key, None)\n",
    "    if value:\n",
    "        path = value\n",
    "    if os.path.exists(path):\n",
    "        with open(path, 'rt') as f:\n",
    "            config = json.load(f)\n",
    "        logging.config.dictConfig(config)\n",
    "        logging.getLogger().setLevel(default_level)\n",
    "    else:\n",
    "        logging.basicConfig(level=default_level)"
   ]
  },
  {
   "cell_type": "code",
   "execution_count": 54,
   "metadata": {
    "collapsed": false
   },
   "outputs": [],
   "source": [
    "class configuration(object):\n",
    "    def __init__(self, configpath='./', configfile='config.ini'):\n",
    "        self.logger = logging.getLogger(__name__)\n",
    "        self.configpath = os.path.expandvars(configpath)\n",
    "        self.configfile = os.path.join(self.configpath, configfile)\n",
    "        self.getConfig()\n",
    "        \n",
    "    def writeConfig(self):\n",
    "        if not os.path.exists(self.configpath):\n",
    "            try:\n",
    "                logging.warn('configuration path does not exist; creating: {}'.format(self.configpath))\n",
    "                os.makedirs(self.configpath)\n",
    "            except Exception as e:\n",
    "                logging.error(e)\n",
    "            \n",
    "\n",
    "        \n",
    "    def getConfig(self, mainsection = 'Main'):\n",
    "        self.parser = ConfigParser.SafeConfigParser()\n",
    "        #credentialspath = os.path.join(self.configpath, 'credentials')\n",
    "      \n",
    "\n",
    "        requiredprefs = {\n",
    "                            'credentials': [self.parser.get, os.path.join(self.configpath, 'credentials')],\n",
    "            \n",
    "                        }\n",
    "        \n",
    "        # check if config path exists\n",
    "        if len(self.parser.read(self.configfile)) <= 0:\n",
    "            self.logger.warn('no configuration file found at: {}'.format(self.configfile))\n",
    "            writeconfig = True\n",
    "        \n",
    "        if not self.parser.has_section(mainsection):\n",
    "            self.parser.add_section(mainsection)\n",
    "            \n",
    "        preferences = {}\n",
    "        for key in requiredprefs:\n",
    "            try:\n",
    "                preferences[key] = requiredprefs[key][0](mainsection, key)\n",
    "            except (ConfigParser.NoSectionError, ConfigParser.NoOptionError):\n",
    "                self.parser.set(mainsection, key, requiredprefs[key][1])\n",
    "                preferences[key] = requiredprefs[key][1]\n",
    "                \n",
    "        for key in requiredprefs:\n",
    "            exec (\"self.{0} = preferences['{0}']\".format(key))\n",
    "        \n",
    "        if writeconfig:\n",
    "            self.writeConfig()\n",
    "            \n",
    "        \n",
    "        \n",
    "    def printConfig(self):\n",
    "        for section in self.parser.sections():\n",
    "            print 'section: {0}'.format(section)\n",
    "            for key in self.parser.options(section):\n",
    "                print '{0} = {1}'.format(key, self.parser.get(section, key))\n",
    "            \n",
    "\n",
    "                \n",
    "    "
   ]
  },
  {
   "cell_type": "code",
   "execution_count": 55,
   "metadata": {
    "collapsed": false
   },
   "outputs": [
    {
     "name": "stdout",
     "output_type": "stream",
     "text": [
      "2018-08-13 17:18:56,729: [WARNING: __main__.getConfig] no configuration file found at: /Users/aaronciuffo/.config/portfolio_creator/config.ini\n",
      "2018-08-13 17:18:56,730: [WARNING: root.writeConfig] configuration path does not exist; creating: /Users/aaronciuffo/.config/portfolio_creator\n"
     ]
    }
   ],
   "source": [
    "myconfig = configuration(configpath='/Users/aaronciuffo/.config/'+appName)\n"
   ]
  },
  {
   "cell_type": "code",
   "execution_count": 56,
   "metadata": {
    "collapsed": false
   },
   "outputs": [
    {
     "name": "stdout",
     "output_type": "stream",
     "text": [
      "section: Main\n",
      "credentials = /Users/aaronciuffo/.config/portfolio_creator/credentials\n"
     ]
    }
   ],
   "source": [
    "myconfig.printConfig()"
   ]
  },
  {
   "cell_type": "code",
   "execution_count": 21,
   "metadata": {
    "collapsed": false
   },
   "outputs": [
    {
     "name": "stdout",
     "output_type": "stream",
     "text": [
      "2018-08-13 16:48:10,501: [INFO: root.<module>] ===Starting portfolio_creator Log===\n",
      "2018-08-13 16:48:10,502: [INFO: root.<module>] checking google credentials\n",
      "2018-08-13 16:48:10,503: [DEBUG: gdrive.auth.getCredentials] preparing google drive credentials\n",
      "2018-08-13 16:48:10,504: [DEBUG: root.getCredentials] checking for credential store directory: ~/.config/portfolio_creator/credentials/credentials\n",
      "2018-08-13 16:48:10,506: [DEBUG: root.getCredentials] credential store accepted\n",
      "2018-08-13 16:48:10,507: [INFO: googleapiclient.discovery._retrieve_discovery_doc] URL being requested: GET https://www.googleapis.com/discovery/v1/apis/drive/v3/rest\n"
     ]
    }
   ],
   "source": [
    "\n",
    "version = '00.00 - 18.08.13'\n",
    "appName = 'portfolio_creator'\n",
    "\n",
    "cfgfile = appName+'.cfg'\n",
    "cfgpath = os.path.join('~/.config/', appName)\n",
    "\n",
    "logger = logging.getLogger(__name__)\n",
    "setup_logging(default_level=logging.DEBUG)\n",
    "logging.info('===Starting {} Log==='.format(appName))\n",
    "\n",
    "# google drive authorization\n",
    "logging.info('checking google credentials')\n",
    "try:\n",
    "    credentials = getCredentials(storage_path=config.credentialstore)\n",
    "except Exception as e:\n",
    "    logging.critical(e)\n",
    "\n",
    "# configure google drive object\n",
    "myDrive = googledrive(credentials)\n",
    "\n",
    "# print '\\n'*10\n",
    "# print 'Welcome to the portfolio creator for Google Team Drive version {0}'.format(version)\n",
    "# print 'This program will create portfolio folders in Google Team Drive for students.'\n",
    "# print 'You will need a student_export.text file from PowerSchool with at least the following information:'\n",
    "# print '     ClassOf, FirstLast, Student_Number\\n'\n",
    "# print 'The order of the CSV does not matter, but the headers must be on the very first line.'\n",
    "# print 'You will also need Google File Stream installed and configured'\n",
    "# print 'File Stream can be downloaded here: https://support.google.com/drive/answer/7329379?hl=en'\n",
    "# raw_input(\"Press Enter to continue...\\n\\n\\n\")\n",
    "\n"
   ]
  }
 ],
 "metadata": {
  "kernelspec": {
   "display_name": "Python 2",
   "language": "python",
   "name": "python2"
  },
  "language_info": {
   "codemirror_mode": {
    "name": "ipython",
    "version": 2
   },
   "file_extension": ".py",
   "mimetype": "text/x-python",
   "name": "python",
   "nbconvert_exporter": "python",
   "pygments_lexer": "ipython2",
   "version": "2.7.13"
  }
 },
 "nbformat": 4,
 "nbformat_minor": 2
}

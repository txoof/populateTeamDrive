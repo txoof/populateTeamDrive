{
 "cells": [
  {
   "cell_type": "code",
   "execution_count": 2,
   "metadata": {},
   "outputs": [],
   "source": [
    "import logging\n",
    "import logging.config\n",
    "import os\n",
    "import json\n",
    "# import ConfigParser\n",
    "import sys\n",
    "import re\n",
    "from glob import glob\n",
    "import csv\n",
    "\n",
    "import configuration\n",
    "from gdrive.auth import getCredentials\n",
    "from gdrive.gdrive import googledrive, GDriveError\n",
    "\n",
    "from humanfriendly import prompts\n",
    "\n",
    "# get the current working directory\n",
    "# When launching a .command from the OS X Finder, the working directory is typically ~/; this is problematic\n",
    "# for locating resource files\n",
    "# I don't love this hack, but it works.\n",
    "try:\n",
    "    __file__\n",
    "    cwd = os.path.dirname(__file__)+'/'\n",
    "except NameError as e:\n",
    "    cwd = os.getcwd()"
   ]
  },
  {
   "cell_type": "code",
   "execution_count": 3,
   "metadata": {},
   "outputs": [],
   "source": [
    "def setup_logging(\n",
    "    default_path='logging.json',\n",
    "    default_level=logging.INFO,\n",
    "    env_key='LOG_CFG'\n",
    "):\n",
    "    \"\"\"Setup logging configuration\n",
    "\n",
    "    \"\"\"\n",
    "    path = default_path\n",
    "    value = os.getenv(env_key, None)\n",
    "    if value:\n",
    "        path = value\n",
    "    if os.path.exists(path):\n",
    "        with open(path, 'rt') as f:\n",
    "            config = json.load(f)\n",
    "        logging.config.dictConfig(config)\n",
    "        logging.getLogger().setLevel(default_level)\n",
    "    else:\n",
    "        logging.basicConfig(level=default_level)"
   ]
  },
  {
   "cell_type": "code",
   "execution_count": 4,
   "metadata": {},
   "outputs": [],
   "source": [
    "def fileSearch(path = None, search = None):\n",
    "        '''search for a file name string in a given path'''\n",
    "        if not search:\n",
    "            search = ''\n",
    "        logger = logging.getLogger(__name__)\n",
    "        logger.debug('searching path: {0} for \\\"{1}\\\"'.format(path, search))\n",
    "        try:\n",
    "            searchPath = os.path.expanduser(path)\n",
    "        except AttributeError as e:\n",
    "            logger.error('Error: no path specified')\n",
    "            searchPath = ''\n",
    "        try:\n",
    "            allFiles = os.listdir(searchPath)\n",
    "        except OSError as e:\n",
    "            logger.error(e)\n",
    "            return(None)\n",
    "        \n",
    "        # list comprehension search with regex\n",
    "        #http://www.cademuir.eu/blog/2011/10/20/python-searching-for-a-string-within-a-list-list-comprehension/\n",
    "        regex = re.compile('.*('+search+').*')\n",
    "        return([m.group(0) for l in allFiles for m in [regex.search(l)] if m])"
   ]
  },
  {
   "cell_type": "code",
   "execution_count": 5,
   "metadata": {},
   "outputs": [],
   "source": [
    "def getConfiguration(cfgfile):\n",
    "    # required configuraiton options\n",
    "    # Section: {'option': 'default value'}\n",
    "    cfgpath = os.path.dirname(cfgfile)\n",
    "    config_required = {\n",
    "        'Main': {'credentials': os.path.join(cfgpath, 'credentials/'), \n",
    "                 'teamdriveID': '',\n",
    "                 'teamdrivename': '',\n",
    "                 'folderID': '',\n",
    "                 'foldername': '',\n",
    "                 },\n",
    "        }\n",
    "\n",
    "    config = configuration.get_config(cfgfile)\n",
    "\n",
    "    update_config = False\n",
    "\n",
    "    for section, values in config_required.items():\n",
    "        if not config.has_section(section):\n",
    "            logger.warn('section: {} not found in {}'.format(section, cfgfile))\n",
    "            logger.debug('adding section {}'.format(section))\n",
    "            config.add_section(section)\n",
    "            update_config = True\n",
    "        for option, value in values.items():\n",
    "            if not config.has_option(section, option):\n",
    "                logger.warn('option: {} not found in {}'.format(option, cfgfile))\n",
    "                logger.debug('adding option {}: {}'.format(option, value))\n",
    "\n",
    "                config.set(section, option, value)\n",
    "                update_config = True\n",
    "\n",
    "\n",
    "    # for section, options in config_required.items():\n",
    "\n",
    "    if update_config:\n",
    "        try:\n",
    "            logger.info('updating configuration file at: {}'.format(cfgfile))\n",
    "            configuration.create_config(cfgfile, config)\n",
    "        except Exception as e:\n",
    "            logger.error(e)\n",
    "            \n",
    "    return(config)"
   ]
  },
  {
   "cell_type": "code",
   "execution_count": 6,
   "metadata": {},
   "outputs": [],
   "source": [
    "def getTeamDrive(myDrive):\n",
    "    '''\n",
    "    menu driven interaction for choosing a writeable team drive\n",
    "    '''\n",
    "    #available and writeable team drives\n",
    "    logger = logging.getLogger(__name__)\n",
    "    try:\n",
    "        teamdrives_all = myDrive.listTeamDrives()\n",
    "    except Exception as e:\n",
    "        logger.error(e)\n",
    "    \n",
    "    if len(teamdrives_all) < 1:\n",
    "        logger.warn('no writeable team drives found for this user')\n",
    "        return(None)\n",
    "    \n",
    "    teamdrives_writeable = {}\n",
    "    for drive in teamdrives_all:\n",
    "        if drive['capabilities']['canAddChildren']:\n",
    "            teamdrives_writeable[drive['name']] = drive\n",
    "    \n",
    "    teamdrive = None\n",
    "    \n",
    "    try:\n",
    "        teamdrive_name = prompts.prompt_for_choice(choices=teamdrives_writeable, default=None)\n",
    "        teamdrive=teamdrives_writeable[teamdrive_name]\n",
    "    except prompts.TooManyInvalidReplies as e:\n",
    "        logger.warning('user failed to make a choice')\n",
    "    \n",
    "    return(teamdrive)"
   ]
  },
  {
   "cell_type": "code",
   "execution_count": 7,
   "metadata": {},
   "outputs": [],
   "source": [
    "def getPortfolioFolder(myDrive):\n",
    "    '''\n",
    "    menu driven interaction to locate and choose portfolio folder on team drive\n",
    "    \n",
    "    returns:\n",
    "        folder (dictionary) - google drive object properties dictionary\n",
    "    '''\n",
    "    logger = logging.getLogger(__name__)\n",
    "    logger.info('starting search for portfolio folder in teamdrive: {}; {}'.format(teamdriveName, teamdriveID))\n",
    "    \n",
    "    foldersearch = ''\n",
    "    attempt = 5\n",
    "    while (len(foldersearch) <= 0) and (attempt > 0):\n",
    "        attempt -= 1\n",
    "        foldersearch = prompts.prompt_for_input(question='Please enter a portion of the portfolio folder name (case insensitive): ',\n",
    "                                                default=None, strip=True)\n",
    "        if len(foldersearch) <= 0:\n",
    "            print 'Nothing entered. {} attempts remain.'.format(attempt)\n",
    "            \n",
    "        searchresult = myDrive.search(name=foldersearch, fuzzy=True, teamdrive = teamdriveID, mimeType='folder')\n",
    "        if len(searchresult['files']) <= 0:\n",
    "            print 'No folders contained \"{}\"'.format(foldersearch)\n",
    "            print 'Please try entering only part of the folder name'\n",
    "            foldersearch = ''\n",
    "            \n",
    "    \n",
    "    \n",
    "    if foldersearch <= 0:\n",
    "        logger.warn('user entered 0 length string for folder search')\n",
    "        return(None)\n",
    "    \n",
    "    \n",
    "    foldernames = []\n",
    "    for each in searchresult['files']:\n",
    "        foldernames.append(each['name'])\n",
    "    \n",
    "    try:\n",
    "        foldername = prompts.prompt_for_choice(choices=foldernames)\n",
    "    except prompts.TooManyInvalidReplies as e:\n",
    "        logger.warning('user failed to make a choice')\n",
    "        return(None)\n",
    "    \n",
    "    return(searchresult['files'][foldernames.index(foldername)])\n",
    "    "
   ]
  },
  {
   "cell_type": "code",
   "execution_count": 8,
   "metadata": {},
   "outputs": [],
   "source": [
    "def getPathfromList(list_path=['~/'], message='Choose from the paths below', default=None):\n",
    "    '''\n",
    "    menu driven interaction to select path \n",
    "    accepts:\n",
    "        list_path (list) - list of paths to display\n",
    "        messager (string) - message to display\n",
    "        default (string) - default choice (must be one of the items in the list otherwise defaults to None)\n",
    "    \n",
    "    returns:\n",
    "        searchPath (string) - valid and existing path\n",
    "    '''\n",
    "    logger = logging.getLogger(__name__)\n",
    "    logger.debug('path list: {}'.format(list_path))\n",
    "    searchPath = None\n",
    "    list_path = sorted(list_path)\n",
    "    list_path.append('OTHER')\n",
    "    \n",
    "    if default not in list_path:\n",
    "        logging.warn('default ({}) not in list; setting default = None'.format(default))\n",
    "        default = None\n",
    "    \n",
    "    if message:\n",
    "        print message\n",
    "    searchPath = prompts.prompt_for_choice(choices=list_path, default=default)\n",
    "    logger.debug('searchPath = {}'.format(searchPath))\n",
    "    \n",
    "    if not searchPath is 'OTHER':\n",
    "        searchPath = os.path.expanduser(searchPath)\n",
    "    else:\n",
    "        attempt = 5\n",
    "        searchPath = None\n",
    "        while not searchPath and attempt > 0:\n",
    "            logger.debug('attempts remaining: {}'.format(attempt))\n",
    "            attempt -= 1\n",
    "            searchPath = prompts.prompt_for_input('Please type the complete path to use: ')\n",
    "            logger.debug('searchPath = {}'.format(searchPath))         \n",
    "    \n",
    "    if len(searchPath) < 1:\n",
    "        searchPath = None\n",
    "    return (searchPath) "
   ]
  },
  {
   "cell_type": "code",
   "execution_count": 9,
   "metadata": {},
   "outputs": [],
   "source": [
    "def getFiles(path='~/', pattern='.*', ignorecase=True):\n",
    "    '''\n",
    "    search path for files matching pattern (regular expression)\n",
    "    accepts:\n",
    "        path (string) - path to search\n",
    "        pattern (string) - regular expression to search for in file names\n",
    "        ignorecase (bool) - defaults to True, ignore file name case'''\n",
    "    logger = logging.getLogger(__name__)\n",
    "    \n",
    "    path = os.path.expanduser(path+'/*')\n",
    "    logger.debug('Path: {}, glob pattern: {}, ignorecase: {}'.format(path, pattern, ignorecase))\n",
    "    \n",
    "    flags = re.IGNORECASE\n",
    "    files = []\n",
    "        \n",
    "    if ignorecase:\n",
    "        for eachfile in [f for f in glob(path) if re.match(pattern, f, flags=flags)]:\n",
    "            files.append(eachfile)\n",
    "    \n",
    "    if not ignorecase:\n",
    "        for eachfile in [f for f in glob(path) if re.match(pattern, f)]:\n",
    "            files.append(eachfile)        \n",
    "    \n",
    "    return(files)"
   ]
  },
  {
   "cell_type": "code",
   "execution_count": 10,
   "metadata": {},
   "outputs": [],
   "source": [
    "def chooseFile(path='~/', pattern='.*', ignorecase=True, message='Please choose a file from the list'):\n",
    "    '''\n",
    "    menu interaction for choose a file in the specified path from the file glob created using a regex pattern\n",
    "    accepts:\n",
    "        path (string) - path to search\n",
    "        pattern (string) - regular expression to search for in file names\n",
    "        ignorecase (bool) - defaults to True, ignore file name case\n",
    "        message(string) - message to show\n",
    "    returns:\n",
    "        selection (string) - selected file'''\n",
    "    \n",
    "    logger = logging.getLogger(__name__)\n",
    "    filelist = getFiles(path=path, pattern=pattern, ignorecase=ignorecase)\n",
    "    logger.debug('filelist: {}'.format(filelist))\n",
    "    print message\n",
    "    selection = prompts.prompt_for_choice(choices=filelist)\n",
    "    return(selection)"
   ]
  },
  {
   "cell_type": "code",
   "execution_count": 11,
   "metadata": {},
   "outputs": [],
   "source": [
    "def fileToList(inputfile):\n",
    "    logger = logging.getLogger(__name__)\n",
    "    logger.debug('inputfile = {}'.format(inputfile))\n",
    "    outputlist = []\n",
    "    \n",
    "    try:\n",
    "        with open(inputfile, 'r') as fhandle:\n",
    "            logger.debug('reading file: {}'.format(inputfile))\n",
    "            for line in fhandle:\n",
    "                outputlist.append(line.strip('\\n'))\n",
    "    except IOError as e:\n",
    "        logger.debug(e)\n",
    "    return(outputlist)"
   ]
  },
  {
   "cell_type": "code",
   "execution_count": 12,
   "metadata": {},
   "outputs": [],
   "source": [
    "def mapHeaders(file_csv, expected_headers=[]):\n",
    "    '''map an expected list of header values to their position in a csv\n",
    "    accepts:\n",
    "        file_csv (csv.reader object) \n",
    "        expected_headers (list) - list of headers to search for, ignoring all others\n",
    "    '''\n",
    "    logger = logging.getLogger(__name__)\n",
    "    logger.debug('mapping headers')\n",
    "    \n",
    "    missing_headers = []\n",
    "    headerMap = {} \n",
    "    \n",
    "    try:\n",
    "        csvHeader = file_csv[0]\n",
    "    except IndexError as e:\n",
    "        logging.error('csv empty: {}'.format(e))\n",
    "        return(None)\n",
    "    \n",
    "    for each in expected_headers:\n",
    "        if each not in csvHeader:\n",
    "            missing_headers.append(each)\n",
    "    \n",
    "    headerMap['missingheaders'] = missing_headers\n",
    "    \n",
    "    headerMap['headers'] = {}\n",
    "\n",
    "    if len(missing_headers) > 0:\n",
    "        logging.warn('missing headers: {}'.format(missing_headers))\n",
    "    for index, value in enumerate(csvHeader):\n",
    "        if value in expected_headers:\n",
    "            headerMap['headers'][value] = index\n",
    "    logger.debug('successfully maped headers')\n",
    "    return(headerMap)"
   ]
  },
  {
   "cell_type": "code",
   "execution_count": 41,
   "metadata": {},
   "outputs": [
    {
     "name": "stdout",
     "output_type": "stream",
     "text": [
      "2018-09-17 13:11:10,981: [INFO: root.<module>] ===Starting portfolio_creator Log===\n",
      "2018-09-17 13:11:10,993: [DEBUG: configuration.get_config] reading configuration file at: /Users/aciuffo/.config/portfolio_creator/portfolio_creator.ini\n",
      "2018-09-17 13:11:10,999: [DEBUG: __main__.<module>] current configuration:\n",
      "2018-09-17 13:11:11,000: [DEBUG: __main__.<module>] \n",
      "{'Main': {'credentials': '/Users/aciuffo/.config/portfolio_creator/credentials/', 'folderid': '1-D7UNBes_skfkQ6oBettiBICiBcZmbvn', 'teamdriveid': '0ACLfU8KeD_BHUk9PVA', 'teamdrivename': 'IT Blabla', 'foldername': 'Port Wine'}}\n",
      "2018-09-17 13:11:11,003: [INFO: root.<module>] checking google credentials\n",
      "\n",
      "\n",
      "\n",
      "\n",
      "You *may* be directed to a google web page that asks you to authorize this applicaiton.\n",
      "Please choose an ASH account and authorize this applicaiton.\n",
      "When you are done, please close the newly created tab in your web browser and return to this window.\n",
      "2018-09-17 13:11:11,006: [DEBUG: humanfriendly.prompts.prompt_for_confirmation] Requesting interactive confirmation from terminal: 'Would you like to proceed? [Y/n]'\n",
      "\n",
      " Would you like to proceed? [Y/n] \n",
      "2018-09-17 13:11:13,439: [DEBUG: humanfriendly.prompts.prompt_for_confirmation] Default choice selected by empty reply ('granted').\n",
      "2018-09-17 13:11:13,442: [DEBUG: gdrive.auth.getCredentials] preparing google drive credentials\n",
      "2018-09-17 13:11:13,444: [DEBUG: root.getCredentials] checking for credential store directory: /Users/aciuffo/.config/portfolio_creator/credentials/\n",
      "2018-09-17 13:11:13,450: [DEBUG: root.getCredentials] credential store accepted\n",
      "2018-09-17 13:11:13,452: [INFO: googleapiclient.discovery._retrieve_discovery_doc] URL being requested: GET https://www.googleapis.com/discovery/v1/apis/drive/v3/rest\n",
      "2018-09-17 13:11:13,551: [INFO: googleapiclient.discovery.method] URL being requested: GET https://www.googleapis.com/drive/v3/about?fields=user&alt=json\n"
     ]
    },
    {
     "name": "stderr",
     "output_type": "stream",
     "text": [
      "\n"
     ]
    },
    {
     "name": "stdout",
     "output_type": "stream",
     "text": [
      "2018-09-17 13:11:13,704: [INFO: googleapiclient.discovery.method] URL being requested: GET https://www.googleapis.com/drive/v3/teamdrives?fields=teamDrives&alt=json\n",
      "2018-09-17 13:11:14,116: [DEBUG: __main__.fileToList] inputfile = ./gradefolders.txt\n",
      "2018-09-17 13:11:14,119: [DEBUG: __main__.fileToList] reading file: ./gradefolders.txt\n",
      "2018-09-17 13:11:14,123: [DEBUG: __main__.<module>] remaining attempts to locate student export: 5\n",
      "2018-09-17 13:11:14,126: [DEBUG: __main__.getPathfromList] path list: ['~/Downloads', '~/Desktop']\n",
      "Please choose which folder contains the Student Export File.\n",
      "2018-09-17 13:11:14,130: [DEBUG: humanfriendly.prompts.prompt_for_choice] Requesting interactive choice on terminal (options are '~/Desktop', '~/Downloads' and 'OTHER') ..\n",
      "\n",
      "  1. ~/Desktop\n",
      "  2. ~/Downloads (default choice)\n",
      "  3. OTHER\n",
      " \n",
      " Enter your choice as a number or unique substring (Control-C aborts): 2\n",
      "2018-09-17 13:11:16,474: [DEBUG: humanfriendly.prompts.prompt_for_choice] Option ('~/Downloads') selected by numeric reply (2).\n",
      "2018-09-17 13:11:16,476: [DEBUG: __main__.getPathfromList] searchPath = ~/Downloads\n",
      "2018-09-17 13:11:16,478: [DEBUG: __main__.getFiles] Path: /Users/aciuffo/Downloads/*, glob pattern: .*student.*export.*, ignorecase: True\n",
      "2018-09-17 13:11:16,481: [DEBUG: __main__.chooseFile] filelist: ['/Users/aciuffo/Downloads/student.export (1).text']\n",
      "Please choose a file from the list\n",
      "2018-09-17 13:11:16,483: [DEBUG: humanfriendly.prompts.prompt_for_choice] Skipping interactive prompt because there's only option ('/Users/aciuffo/Downloads/student.export (1).text').\n",
      "2018-09-17 13:11:16,485: [DEBUG: __main__.<module>] student export file chosen: /Users/aciuffo/Downloads/student.export (1).text\n",
      "2018-09-17 13:11:16,487: [DEBUG: __main__.fileToList] inputfile = /Users/aciuffo/Downloads/student.export (1).text\n",
      "2018-09-17 13:11:16,488: [DEBUG: __main__.fileToList] reading file: /Users/aciuffo/Downloads/student.export (1).text\n",
      "2018-09-17 13:11:16,490: [DEBUG: __main__.<module>] Student export file: /Users/aciuffo/Downloads/student.export (1).text\n",
      "2018-09-17 13:11:16,493: [DEBUG: __main__.mapHeaders] mapping headers\n",
      "2018-09-17 13:11:16,494: [DEBUG: __main__.mapHeaders] successfully maped headers\n",
      "2018-09-17 13:11:16,497: [DEBUG: __main__.<module>] asking to proceed with current configuration\n",
      "\n",
      "Curent Configuration:\n",
      "[Main]\n",
      "credentials = /Users/aciuffo/.config/portfolio_creator/credentials/\n",
      "foldername = Port Wine\n",
      "folderid = 1-D7UNBes_skfkQ6oBettiBICiBcZmbvn\n",
      "teamdrivename = IT Blabla\n",
      "teamdriveid = 0ACLfU8KeD_BHUk9PVA\n",
      "studentexport = /Users/aciuffo/Downloads/student.export (1).text\n",
      "2018-09-17 13:11:16,501: [DEBUG: humanfriendly.prompts.prompt_for_confirmation] Requesting interactive confirmation from terminal: 'Continue with the configuration above? [y/n]'\n"
     ]
    },
    {
     "name": "stderr",
     "output_type": "stream",
     "text": [
      "\n"
     ]
    },
    {
     "name": "stdout",
     "output_type": "stream",
     "text": [
      "\n",
      " Continue with the configuration above? [y/n] \n",
      "2018-09-17 13:11:25,152: [DEBUG: humanfriendly.prompts.prompt_for_confirmation] Got empty reply (there's no default choice), retrying (1/10) ..\n"
     ]
    },
    {
     "name": "stderr",
     "output_type": "stream",
     "text": [
      "\n",
      " Error: Please enter 'yes' or 'no' (there's no default choice).\n"
     ]
    },
    {
     "name": "stdout",
     "output_type": "stream",
     "text": [
      "\n",
      " Continue with the configuration above? [y/n] y\n",
      "2018-09-17 13:11:26,368: [DEBUG: humanfriendly.prompts.prompt_for_confirmation] Confirmation granted by reply ('y').\n"
     ]
    },
    {
     "name": "stderr",
     "output_type": "stream",
     "text": [
      "\n"
     ]
    }
   ],
   "source": [
    "version = '00.00 - 18.08.13'\n",
    "appName = 'portfolio_creator'\n",
    "\n",
    "cfgfile = appName+'.ini'\n",
    "cfgpath = os.path.join('~/.config/', appName)\n",
    "cfgfile = os.path.expanduser(os.path.join(cfgpath, cfgfile))\n",
    "\n",
    "studentexport_list = ['~/Downloads', '~/Desktop']\n",
    "studentexport = None\n",
    "studentexport_path = None\n",
    "\n",
    "\n",
    "downloadlink = 'https://foo.foof.foo'\n",
    "\n",
    "\n",
    "updateConfig = False\n",
    "\n",
    "\n",
    "logger = logging.getLogger(__name__)\n",
    "setup_logging(default_level=logging.DEBUG)\n",
    "logging.info('===Starting {} Log==='.format(appName))\n",
    "\n",
    "myConfig = getConfiguration(cfgfile)\n",
    "\n",
    "teamdriveName = '**UNKNOWN**'\n",
    "\n",
    "####### set all config options \n",
    "if myConfig.has_option('Main', 'credentials'):\n",
    "    credential_store = os.path.expanduser(myConfig.get('Main', 'credentials'))\n",
    "else:\n",
    "    credential_store = os.path.expanduser(os.path.join(cfgpath, 'credentials'))\n",
    "    updateConfig = True\n",
    "\n",
    "if myConfig.has_option('Main', 'teamdriveid'):\n",
    "    teamdriveID = myConfig.get('Main', 'teamdriveid')\n",
    "else:\n",
    "    teamdriveID = None\n",
    "    \n",
    "if myConfig.has_option('Main', 'teamdrivename'):\n",
    "    teamdriveName = myConfig.get('Main', 'teamdrivename')\n",
    "else:\n",
    "    teamdriveName = None\n",
    "    \n",
    "if myConfig.has_option('Main', 'folderid'):\n",
    "    folderID = myConfig.get('Main', 'folderid')\n",
    "else:\n",
    "    folderID = None\n",
    "\n",
    "if myConfig.has_option('Main', 'foldername'):\n",
    "    folderName = myConfig.get('Main', 'foldername')\n",
    "else:\n",
    "    folderName = None\n",
    "\n",
    "if myConfig.has_option('Main', 'gradefolders'):\n",
    "    gradefolders = myConfig.get('Main', 'gradefolders')\n",
    "else:\n",
    "    gradefolders = './gradefolders.txt'\n",
    "\n",
    "\n",
    "    \n",
    "if logging.getLogger().getEffectiveLevel() <= 10:\n",
    "    config_dict = {}\n",
    "    for section in myConfig.sections():\n",
    "        config_dict[section] = {}\n",
    "        for option in myConfig.options(section):\n",
    "            config_dict[section][option] = myConfig.get(section, option)\n",
    "\n",
    "    logger.debug('current configuration:')\n",
    "    logger.debug('\\n{}'.format(config_dict))\n",
    "\n",
    "# google drive authorization\n",
    "logging.info('checking google credentials')\n",
    "#### Add instructions before this shoots user over to a web authorization \n",
    "print '\\n'*3\n",
    "print 'You *may* be directed to a google web page that asks you to authorize this applicaiton.'\n",
    "print 'Please choose an ASH account and authorize this applicaiton.'\n",
    "print 'When you are done, please close the newly created tab in your web browser and return to this window.'\n",
    "if not prompts.prompt_for_confirmation(question='Would you like to proceed?', default='y'):\n",
    "    print 'Exiting'\n",
    "    exit(0)\n",
    "    \n",
    "credential_store = os.path.expanduser(myConfig.get('Main', 'credentials'))\n",
    "\n",
    "# attempt to authorize using stored credentials or generate new credentials as needed\n",
    "try:\n",
    "    credentials = getCredentials(credential_store)\n",
    "except Exception as e:\n",
    "    logging.critical(e)\n",
    "\n",
    "# configure google drive object\n",
    "myDrive = googledrive(credentials)\n",
    "\n",
    "if not teamdriveID:\n",
    "    logger.warn('Team Drive ID missing')\n",
    "    try:\n",
    "        teamdrive = getTeamDrive(myDrive)\n",
    "    except GDriveError as e:\n",
    "        logging.error('Error accessing team drives: e')\n",
    "        exit(0)\n",
    "        \n",
    "    if not teamdrive:\n",
    "        logger.error('no team drives found')\n",
    "        logger.error('userinfo: {}'.format(myDrive.userinfo['emailAddress']))\n",
    "        print('No Team Drives located; cannot proceed.')\n",
    "        print('You are authenticated as: {}'.format(myDrive.userinfo['emailAddress']))\n",
    "        logger.error('exiting')\n",
    "        exit(0)\n",
    "        \n",
    "    try:\n",
    "        teamdriveID = teamdrive['id']\n",
    "        teamdriveName = teamdrive['name']\n",
    "    except (KeyError, TypeError) as e:\n",
    "        logger.error('no valid team drive information found: {}'.format(e))\n",
    "        logger.error('userinfo: {}'.format(myDrive.userinfo['emailAddress']))\n",
    "        print 'No Team Drive was found. Do you have write access to a Team Drive with this account?'\n",
    "        print 'You are authenticated as: {}'.format(myDrive.userinfo['emailAddress'])\n",
    "        logger.error('exiting')\n",
    "        exit(0)\n",
    "        \n",
    "    print 'Using Team Drive: {}'.format(teamdriveName)    \n",
    "    myConfig.set('Main', 'teamdriveid', teamdriveID)\n",
    "    myConfig.set('Main', 'teamdriveName', teamdriveName)\n",
    "    updateConfig = True\n",
    "    \n",
    "if not folderID:\n",
    "    logger.warn('Folder ID missing')\n",
    "    try:\n",
    "        folder = getPortfolioFolder(myDrive)\n",
    "    except GDriveError as e:\n",
    "        logger.error('Could not search for folder: {}'.format(e))\n",
    "        print ('There was a problem searching Team Drive for a folder')\n",
    "        print ('You are authenticated as: {}'.format(myDrive.userinfo['emailAddress']))\n",
    "        print ('If this is not correct do...')\n",
    "    try:\n",
    "        folderID = folder['id']\n",
    "        folderName = folder['name']\n",
    "    except (KeyError, TypeError) as e:\n",
    "        logger.error('no valid folder information found {}'.format(e))\n",
    "        logger.error('exiting')\n",
    "        exit(0)\n",
    "    \n",
    "    print 'Using Folder: {} on Team Drive: {}'.format(folderName, teamdriveName)\n",
    "    myConfig.set('Main', 'foldername', folderName)\n",
    "    myConfig.set('Main', 'folderid', folderID)\n",
    "    updateConfig=True\n",
    "\n",
    "if not os.path.exists(gradefolders):\n",
    "    logger.error('failed to locate {}'.format(gradefolders))\n",
    "    logger.error('exiting')\n",
    "    print 'gradefolders.txt file is missing. Please reinstall the application.'\n",
    "    print 'download link: {}'.format(downloadlink)\n",
    "    exit(0)\n",
    "\n",
    "# get the gradefolder file\n",
    "gradefolder_list = fileToList(gradefolders)\n",
    "\n",
    "# check validity of gradefolder\n",
    "if len(gradefolder_list) < 1:\n",
    "    print 'grade folder file is corrupt. Please reinstall the application'\n",
    "    exit(0)\n",
    "\n",
    "\n",
    "if updateConfig:\n",
    "    configuration.create_config(cfgfile, myConfig)\n",
    "\n",
    "\n",
    "# # get and validate path for student_export folder\n",
    "attempt = 5\n",
    "while not studentexport and (attempt > 0):\n",
    "    logger.debug('remaining attempts to locate student export: {}'.format(attempt))\n",
    "    attempt -= 1\n",
    "    if not studentexport:\n",
    "        studentexport_path = getPathfromList(studentexport_list, \n",
    "                                             message='Please choose which folder contains the Student Export File.',\n",
    "                                             default=studentexport_list[0])\n",
    "    \n",
    "    # move this pattern into the configuration file? \n",
    "    studentexport = chooseFile(path=studentexport_path, pattern='.*student.*export.*')\n",
    "    logger.debug('student export file chosen: {}'.format(studentexport))\n",
    "    if not os.access(studentexport, os.R_OK):\n",
    "        print 'Could not read file: {}. Please choose another file'.format(studentexport)\n",
    "        logger.error('file is unreadable: {}'.format(studentexport))\n",
    "        studentexport = None\n",
    "\n",
    "if not studentexport:\n",
    "    logger.error('no student export file; exiting')\n",
    "    print 'Cannot proceed without a student export file. Exiting'\n",
    "    exit(0)\n",
    "else:\n",
    "    myConfig.set('Main', 'studentexport', studentexport)\n",
    "    studentexport_list = fileToList(studentexport)\n",
    "        \n",
    "logger.debug('Student export file: {}'.format(studentexport))\n",
    "\n",
    "studentexport_csv = []\n",
    "try: \n",
    "    with open(studentexport, 'rU') as csvfile:\n",
    "        csvreader = csv.reader(csvfile)\n",
    "        for row in csvreader:\n",
    "            studentexport_csv.append(row)\n",
    "except (OSError, IOError) as e:\n",
    "    logging.critical('error reading file: {}\\n{}'.format(studentexport,e))\n",
    "    print 'Could not read file: {}; exiting.'.format(studentexport)\n",
    "    exit(0)\n",
    "\n",
    "# parse and check validity of student export file\n",
    "expected_headers = ['ClassOf', 'Student_Number', 'LastFirst']\n",
    "headerMap = mapHeaders(file_csv=studentexport_csv, expected_headers=expected_headers)\n",
    "\n",
    "if not headerMap or (len(headerMap['headers']) != len(expected_headers)):\n",
    "    logging.error('cannot continue without valid header map; exiting')\n",
    "    print('file: {} appears to not contain the expected header row (in any order): {}'.format(studentexport, expected_headers))\n",
    "    if headerMap['missingheaders']:\n",
    "        print('your file appears to be missing the field(s): {}'.format(headerMap['missingheaders']))\n",
    "    print('please try to download a new student.export file before trying again; exiting')\n",
    "#     exit(0)\n",
    "\n",
    "logger.debug('asking to proceed with current configuration')\n",
    "print '\\nCurent Configuration:'\n",
    "for section in myConfig.sections():\n",
    "    print '[{}]'.format(section)\n",
    "    for option in myConfig.options(section):\n",
    "        print '{} = {}'.format(option, myConfig.get(section, option))\n",
    "if not prompts.prompt_for_confirmation('Continue with the configuration above?'):\n",
    "    logger.debug('user chose to exit')\n",
    "    exit(0)"
   ]
  },
  {
   "cell_type": "code",
   "execution_count": 56,
   "metadata": {},
   "outputs": [],
   "source": [
    "def createFolders(myDrive, parentFolder, student_csv, header_map):\n",
    "    '''\n",
    "    create folders on google drive if they do not exist\n",
    "    \n",
    "    accepts:\n",
    "        myDrive(googleDrive object)\n",
    "        folderid (string) - folder id string\n",
    "        folders (list) - list of folder names\n",
    "    \n",
    "    returns:\n",
    "        folderinfo (dict) - {folder name: folder url, or None for failures}\n",
    "    '''\n",
    "    logger = logging.getLogger(__name__)\n",
    "    logger.info('creating folders at gdrive path: {}'.format(folderID))\n",
    "    \n",
    "    myDrive.getprops\n",
    "    \n",
    "    folderinfo = {}\n",
    "    \n",
    "    # check that folder exists and is a folder\n",
    "    try:\n",
    "        logger.info('getting folder properties')\n",
    "        props = myDrive.getprops(folderID, 'capabilities, mimeType, name')\n",
    "    except GDriveError as e:\n",
    "        logger.error('failed to get properties for {}; {}'.format(folderID, e))\n",
    "        logger.error('please reconfigure the folder option. cannot continue; exiting')\n",
    "        exit(0)\n",
    "\n",
    "    if not props['mimeType'] == myDrive.mimeTypes['folder']:\n",
    "        logger.error('{} is not a folder; type: {}'.format(folderID, props['mimeType']))\n",
    "    else:\n",
    "        logger.info('folder: {} is indeed a folder'.format(props['name']))\n",
    "        \n",
    "    if not props['capabilities']['canAddChildren']:\n",
    "        logger.error('folder: {} is not writable'.format(props['name']))\n",
    "    else:\n",
    "        logger.info('folder: {} is writeable'.format(props['name']))\n",
    "        \n",
    "    \n",
    "    logging.info('searching for exisiting folders and creating missing folders')\n",
    "    for folder in folders:\n",
    "        pass\n",
    "    \n",
    "    \n",
    "    \n",
    "    return(folderinfo)\n",
    "    \n",
    "    \n",
    "    \n",
    "    "
   ]
  },
  {
   "cell_type": "code",
   "execution_count": 68,
   "metadata": {},
   "outputs": [
    {
     "name": "stdout",
     "output_type": "stream",
     "text": [
      "1\n",
      "2\n",
      "3\n",
      "5\n"
     ]
    }
   ],
   "source": [
    "x = set([1, 2, 3])\n",
    "x.add(5)\n",
    "for each in x:\n",
    "    print each"
   ]
  },
  {
   "cell_type": "code",
   "execution_count": 69,
   "metadata": {},
   "outputs": [
    {
     "data": {
      "text/plain": [
       "'1-D7UNBes_skfkQ6oBettiBICiBcZmbvn'"
      ]
     },
     "execution_count": 69,
     "metadata": {},
     "output_type": "execute_result"
    }
   ],
   "source": [
    "folderID"
   ]
  },
  {
   "cell_type": "code",
   "execution_count": 90,
   "metadata": {},
   "outputs": [
    {
     "name": "stdout",
     "output_type": "stream",
     "text": [
      "2018-09-17 14:21:22,045: [DEBUG: __main__.<module>] creating \"Class Of\" folders as needed\n",
      "2018-09-17 14:21:22,049: [DEBUG: gdrive.gdrive.search] apicall: files().list(q=name = \"Class Of-3099\" and \"1-D7UNBes_skfkQ6oBettiBICiBcZmbvn\" in parents, orderBy=createdTime))\n",
      "2018-09-17 14:21:22,061: [INFO: googleapiclient.discovery.method] URL being requested: GET https://www.googleapis.com/drive/v3/files?orderBy=createdTime&includeTeamDriveItems=true&corpora=teamDrive&supportsTeamDrives=true&q=name+%3D+%22Class+Of-3099%22+and+%221-D7UNBes_skfkQ6oBettiBICiBcZmbvn%22+in+parents&teamDriveId=0ACLfU8KeD_BHUk9PVA&alt=json\n",
      "2018-09-17 14:21:22,459: [INFO: __main__.<module>] Folder exists: 3099\n",
      "2018-09-17 14:21:22,462: [DEBUG: gdrive.gdrive.search] apicall: files().list(q=name = \"Class Of-2029\" and \"1-D7UNBes_skfkQ6oBettiBICiBcZmbvn\" in parents, orderBy=createdTime))\n",
      "2018-09-17 14:21:22,476: [INFO: googleapiclient.discovery.method] URL being requested: GET https://www.googleapis.com/drive/v3/files?orderBy=createdTime&includeTeamDriveItems=true&corpora=teamDrive&supportsTeamDrives=true&q=name+%3D+%22Class+Of-2029%22+and+%221-D7UNBes_skfkQ6oBettiBICiBcZmbvn%22+in+parents&teamDriveId=0ACLfU8KeD_BHUk9PVA&alt=json\n",
      "2018-09-17 14:21:22,762: [INFO: __main__.<module>] Create folder: 2029\n"
     ]
    }
   ],
   "source": [
    "classOf_set = set(['3099'])\n",
    "name_set = set([])\n",
    "classOf_string = 'Class Of-'\n",
    "# gather all unique student names and classOf rows\n",
    "logger.debug('creating \"Class Of\" folders as needed')\n",
    "for student in studentexport_csv[1:]:\n",
    "    classOf_set.add(student[headerMap['headers']['ClassOf']])\n",
    "    name_set.add(student[headerMap['headers']['LastFirst']]+' - '+student[headerMap['headers']['Student_Number']])\n",
    "\n",
    "# check for existence of classOf folders and create if they are missing\n",
    "for eachClass in classOf_set:\n",
    "    # assume folder needs to be created\n",
    "    createfolder=True\n",
    "    try:\n",
    "        class_result = myDrive.search(name=classOf_string+eachClass, parents=folderID, teamdrive=teamdriveID)\n",
    "    except GDriveError as e:\n",
    "        logger.error(GDriveError)\n",
    "        \n",
    "    for eachFile in class_result['files']:\n",
    "        # if a folder type with appropriate name is found, cancel creation\n",
    "        if eachFile['mimeType'] == myDrive.mimeTypes['folder']:\n",
    "            logger.info('Folder exists: {}'.format(eachClass))\n",
    "            createfolder=False\n",
    "\n",
    "    # create the folder\n",
    "    if createfolder:\n",
    "        logger.info('Create folder: {}'.format(eachClass))\n",
    "    "
   ]
  },
  {
   "cell_type": "code",
   "execution_count": 80,
   "metadata": {},
   "outputs": [
    {
     "data": {
      "text/plain": [
       "{'audio': 'application/vnd.google-apps.audio',\n",
       " 'docs': 'application/vnd.google-apps.document',\n",
       " 'drawing': 'application/vnd.google-apps.drawing',\n",
       " 'file': 'application/vnd.google-apps.file',\n",
       " 'folder': 'application/vnd.google-apps.folder',\n",
       " 'forms': 'application/vnd.google-apps.form',\n",
       " 'mymaps': 'application/vnd.google-apps.map',\n",
       " 'photos': 'application/vnd.google-apps.photo',\n",
       " 'scripts': 'application/vnd.google-apps.script',\n",
       " 'sheets': 'application/vnd.google-apps.spreadsheet',\n",
       " 'sites': 'application/vnd.google-apps.sites',\n",
       " 'slides': 'application/vnd.google-apps.presentation',\n",
       " 'video': 'application/vnd.google-apps.video'}"
      ]
     },
     "execution_count": 80,
     "metadata": {},
     "output_type": "execute_result"
    }
   ],
   "source": [
    "myDrive.mimeTypes\n",
    "# myDrive.search(name='Class Of-3099', parents=folderID, teamdrive=teamdriveID)"
   ]
  },
  {
   "cell_type": "code",
   "execution_count": 50,
   "metadata": {},
   "outputs": [
    {
     "data": {
      "text/plain": [
       "{'headers': {'ClassOf': 2, 'LastFirst': 0, 'Student_Number': 1},\n",
       " 'missingheaders': []}"
      ]
     },
     "execution_count": 50,
     "metadata": {},
     "output_type": "execute_result"
    }
   ],
   "source": [
    "\n",
    "headerMap"
   ]
  },
  {
   "cell_type": "code",
   "execution_count": 45,
   "metadata": {},
   "outputs": [
    {
     "data": {
      "text/plain": [
       "[['LastFirst', 'Student_Number', 'ClassOf'],\n",
       " ['Al Abdulkareem, Abdulaziz', '503593', '2029'],\n",
       " ['Araneda Martinez, Sebastian', '504864', '2029'],\n",
       " ['Arias, Angela Therese', '503509', '2029'],\n",
       " ['Bartolone, Lana', '503845', '2029'],\n",
       " ['Bates, Gage', '504450', '2029'],\n",
       " ['Beltran Cui, Nina', '503835', '2029'],\n",
       " ['Bieler, Alwin', '503855', '2029'],\n",
       " ['Bott, Elliott', '504114', '2029'],\n",
       " ['Callender, Anna Margaret', '504755', '2029'],\n",
       " ['Chu, Euan', '504144', '2029'],\n",
       " ['Costello, Ryan', '503993', '2029'],\n",
       " ['Crane, Jillian', '504661', '2029'],\n",
       " ['Davis, Franklin', '503994', '2029'],\n",
       " ['Dolinskyy, Oleksandr', '504136', '2029'],\n",
       " ['Escalona Bolea, Candela', '504773', '2029'],\n",
       " ['Escalona Bolea, Lucas', '504774', '2029'],\n",
       " ['Escorial Gorriti, Mario', '504437', '2029'],\n",
       " ['Fischer, Elvira', '504601', '2029'],\n",
       " ['Fridenson, Itay', '503866', '2029'],\n",
       " ['Goddard, Maddison', '504108', '2029'],\n",
       " ['Graf, Peyton', '504951', '2029'],\n",
       " ['Gutwirth, Yali', '505088', '2029'],\n",
       " ['Harkonen, Amos', '504953', '2029'],\n",
       " ['Hermelin, Victoria', '503600', '2029'],\n",
       " ['Hsu, Kendrick', '504959', '2029'],\n",
       " ['Hulme, Sophie', '504674', '2029'],\n",
       " ['Joergensen, Alexander', '504763', '2029'],\n",
       " ['Jordan, Isabel', '504381', '2029'],\n",
       " ['Katta, Rushab', '504784', '2029'],\n",
       " ['Kienhuis, Caitlin', '504382', '2029'],\n",
       " ['Kim, Liahn', '504783', '2029'],\n",
       " ['Kuijt, Aidan', '504080', '2029'],\n",
       " ['Loftin, Landon', '503995', '2029'],\n",
       " ['Mabiala, Winner', '503996', '2029'],\n",
       " ['Mann, John', '503997', '2029'],\n",
       " ['Manteiga Hernandez, Alonso', '503524', '2029'],\n",
       " ['Mazhar, Mishaal', '504124', '2029'],\n",
       " ['Mueller, Blake', '504383', '2029'],\n",
       " ['Munoz Tito Martins, Jose Maria', '503520', '2029'],\n",
       " ['Nappier, Zack', '504384', '2029'],\n",
       " ['Negley, Katelynn', '504766', '2029'],\n",
       " ['Oncale, Jonathan', '503757', '2029'],\n",
       " ['Oncale, Josie', '503756', '2029'],\n",
       " ['Panagiotopoulos, Malkolm', '503841', '2029'],\n",
       " ['Patterson, Aiston', '504693', '2029'],\n",
       " ['Pedrini, James', '504990', '2029'],\n",
       " ['Pereira do Carmo, Joao', '503840', '2029'],\n",
       " ['Perez, Vanessa', '505090', '2029'],\n",
       " ['Peterson, Karina', '504694', '2029'],\n",
       " ['Rauch, Zachary', '504417', '2029'],\n",
       " ['Richardson, Emma', '504789', '2029'],\n",
       " ['Schwarz, Anna Lucia', '504156', '2029'],\n",
       " ['Seymour Martinez, Lilian', '504993', '2029'],\n",
       " ['Staretz, Zohar', '504387', '2029'],\n",
       " ['Stokes, Molly', '504415', '2029'],\n",
       " ['Strom, Grant', '504095', '2029'],\n",
       " ['Szekely, Oliver Bonifac', '504772', '2029'],\n",
       " ['Tabell, Ella', '503528', '2029'],\n",
       " ['Talmard, Arthur', '504995', '2029'],\n",
       " ['Taylor, Alyssa', '504153', '2029'],\n",
       " ['Timma, Lucija', '503839', '2029'],\n",
       " ['Tolaszova, Viktorie', '504388', '2029'],\n",
       " ['Tunesi, Matteo', '503536', '2029'],\n",
       " ['Tyszka, Livia', '503609', '2029'],\n",
       " ['van der Plas, Josephine', '504719', '2029'],\n",
       " ['van der Velden, Willem', '504998', '2029'],\n",
       " ['Wells, Jonathan', '503610', '2029'],\n",
       " ['Wickenheiser, Carson', '504770', '2029'],\n",
       " ['Williams, Rufus', '504726', '2029'],\n",
       " ['Wood, Jameson', '504728', '2029'],\n",
       " ['Wood, Thomas', '504730', '2029'],\n",
       " ['Yaffet Stern, Yahli', '505080', '2029']]"
      ]
     },
     "execution_count": 45,
     "metadata": {},
     "output_type": "execute_result"
    }
   ],
   "source": [
    "studentexport_csv"
   ]
  },
  {
   "cell_type": "code",
   "execution_count": 21,
   "metadata": {},
   "outputs": [],
   "source": [
    "import random"
   ]
  },
  {
   "cell_type": "code",
   "execution_count": 22,
   "metadata": {},
   "outputs": [
    {
     "name": "stdout",
     "output_type": "stream",
     "text": [
      "2018-09-17 12:55:59,827: [INFO: __main__.createFolders] creating folders at gdrive path: 1-D7UNBes_skfkQ6oBettiBICiBcZmbvn\n",
      "2018-09-17 12:55:59,830: [INFO: __main__.createFolders] getting folder properties\n",
      "2018-09-17 12:55:59,832: [DEBUG: gdrive.gdrive.getprops] files().get(fileId=1-D7UNBes_skfkQ6oBettiBICiBcZmbvn, fields=capabilities,mimeType,name)\n",
      "2018-09-17 12:55:59,842: [INFO: googleapiclient.discovery.method] URL being requested: GET https://www.googleapis.com/drive/v3/files/1-D7UNBes_skfkQ6oBettiBICiBcZmbvn?fields=capabilities%2CmimeType%2Cname&alt=json&supportsTeamDrives=true\n",
      "2018-09-17 12:56:00,186: [INFO: __main__.createFolders] folder: Port Wine is indeed a folder\n",
      "2018-09-17 12:56:00,188: [INFO: __main__.createFolders] folder: Port Wine is writeable\n",
      "2018-09-17 12:56:00,191: [INFO: root.createFolders] searching for exisiting folders and creating missing folders\n"
     ]
    },
    {
     "data": {
      "text/plain": [
       "{}"
      ]
     },
     "execution_count": 22,
     "metadata": {},
     "output_type": "execute_result"
    }
   ],
   "source": [
    "createFolders(myDrive, '1-D7UNBes_skfkQ6oBettiBICiBcZmbvn', [random.choice(['a','b','c','d','e','f','g'])+str(random.randint(1, 1000)) for _ in range(10)])"
   ]
  },
  {
   "cell_type": "code",
   "execution_count": 38,
   "metadata": {},
   "outputs": [
    {
     "name": "stdout",
     "output_type": "stream",
     "text": [
      "2018-09-17 13:09:08,401: [DEBUG: gdrive.gdrive.search] apicall: files().list(q=name = \"Class Of-3099\" and \"1-D7UNBes_skfkQ6oBettiBICiBcZmbvn\" in parents, orderBy=createdTime))\n",
      "q=name = \"Class Of-3099\" and \"1-D7UNBes_skfkQ6oBettiBICiBcZmbvn\" in parents, orderBy=createdTime)\n",
      "2018-09-17 13:09:08,415: [INFO: googleapiclient.discovery.method] URL being requested: GET https://www.googleapis.com/drive/v3/files?orderBy=createdTime&includeTeamDriveItems=true&corpora=teamDrive&supportsTeamDrives=true&q=name+%3D+%22Class+Of-3099%22+and+%221-D7UNBes_skfkQ6oBettiBICiBcZmbvn%22+in+parents&teamDriveId=0ACLfU8KeD_BHUk9PVA&alt=json\n"
     ]
    },
    {
     "data": {
      "text/plain": [
       "{u'files': [{u'id': u'0B9WTleJ1MzaYS1J1d3VhNGVjVnM',\n",
       "   u'kind': u'drive#file',\n",
       "   u'mimeType': u'application/vnd.google-apps.folder',\n",
       "   u'name': u'Class Of-3099',\n",
       "   u'teamDriveId': u'0ACLfU8KeD_BHUk9PVA'}],\n",
       " u'incompleteSearch': False,\n",
       " u'kind': u'drive#fileList'}"
      ]
     },
     "execution_count": 38,
     "metadata": {},
     "output_type": "execute_result"
    }
   ],
   "source": [
    "myDrive.search(name='Class Of-3099', parents='1-D7UNBes_skfkQ6oBettiBICiBcZmbvn', teamdrive='0ACLfU8KeD_BHUk9PVA', quiet=False)"
   ]
  },
  {
   "cell_type": "code",
   "execution_count": 42,
   "metadata": {},
   "outputs": [
    {
     "data": {
      "text/plain": [
       "{'headers': {'ClassOf': 2, 'LastFirst': 0, 'Student_Number': 1},\n",
       " 'missingheaders': []}"
      ]
     },
     "execution_count": 42,
     "metadata": {},
     "output_type": "execute_result"
    }
   ],
   "source": [
    "headerMap"
   ]
  },
  {
   "cell_type": "code",
   "execution_count": 17,
   "metadata": {},
   "outputs": [
    {
     "name": "stdout",
     "output_type": "stream",
     "text": [
      "Help on method search in module gdrive.gdrive:\n",
      "\n",
      "search(self, name=None, trashed=None, mimeType=False, fuzzy=False, modifiedTime=None, dopperator='>', parents=None, orderBy='createdTime', teamdrive=None, quiet=True) method of gdrive.gdrive.googledrive instance\n",
      "    search for an item by name and other properties in google drive using drive.files.list\n",
      "    \n",
      "    args:\n",
      "        name (string): item name in google drive - required\n",
      "        trashed (bool): item is not in trash - default None (not used)\n",
      "        mimeType = (string): item is one of the known mime types (gdrive.mimeTypes) - default None\n",
      "        fuzzy = (bool): substring search of names in drive\n",
      "        date = (RFC3339 date string): modification time date string (YYYY-MM-DD)\n",
      "        dopperator (date comparison opprator string): <, >, =, >=, <=  - default >\n",
      "        parents = (string): google drive file id string\n",
      "        orderBy = (comma separated string): order results assending by keys below - default createdTime:\n",
      "                    'createdTime', 'folder', 'modifiedByMeTime', \n",
      "                    'modifiedTime', 'name', 'quotaBytesUsed', \n",
      "                    'recency', 'sharedWithMeTime', 'starred', \n",
      "                    'viewedByMeTime'\n",
      "        fields (comma separated string): properties to query and return any of the fields listed in \n",
      "            self.fields\n",
      "            see https://developers.google.com/apis-explorer/#p/drive/v3/drive.files.list\n",
      "        sanitize (bool): remove any field options that are not in the fields list - false to allow anything\n",
      "        teamdrive (string): Team Drive ID string - when included only the specified Team Drive is searched\n",
      "        quiet (bool): false prints all the results\n",
      "                    \n",
      "                    \n",
      "        \n",
      "    returns:\n",
      "        list of file dict\n",
      "\n"
     ]
    }
   ],
   "source": [
    "help(myDrive.search)"
   ]
  },
  {
   "cell_type": "code",
   "execution_count": null,
   "metadata": {},
   "outputs": [],
   "source": [
    "import random\n"
   ]
  },
  {
   "cell_type": "code",
   "execution_count": null,
   "metadata": {},
   "outputs": [],
   "source": [
    "mylist = [random.choice(['a','b','c','d','e','f','g'])+str(random.randint(1, 1000)) for _ in range(10)]\n",
    "print mylist\n",
    "# print random.choice(['a','b','c','d','e','f','g'])+str(random.randint(1, 1000))"
   ]
  },
  {
   "cell_type": "code",
   "execution_count": null,
   "metadata": {},
   "outputs": [],
   "source": [
    "help(random.randint)"
   ]
  },
  {
   "cell_type": "code",
   "execution_count": null,
   "metadata": {},
   "outputs": [],
   "source": [
    "myDrive.getprops('1-D7UNBes_skfkQ6oBettiBICiBcZmbvn', 'capabilities(canAddChildren), mimeType, name')"
   ]
  },
  {
   "cell_type": "code",
   "execution_count": null,
   "metadata": {},
   "outputs": [],
   "source": [
    "myDrive.fields"
   ]
  },
  {
   "cell_type": "code",
   "execution_count": null,
   "metadata": {},
   "outputs": [],
   "source": [
    "createFolders(myDrive=myDrive, folderID=folderID, folders=['a', 'b', 'cow'])"
   ]
  },
  {
   "cell_type": "code",
   "execution_count": null,
   "metadata": {},
   "outputs": [],
   "source": [
    "help(myDrive.getprops)"
   ]
  },
  {
   "cell_type": "code",
   "execution_count": null,
   "metadata": {},
   "outputs": [],
   "source": [
    "\n"
   ]
  },
  {
   "cell_type": "code",
   "execution_count": null,
   "metadata": {},
   "outputs": [],
   "source": [
    "myDrive.mimeTypes"
   ]
  }
 ],
 "metadata": {
  "kernelspec": {
   "display_name": "Python 2",
   "language": "python",
   "name": "python2"
  },
  "language_info": {
   "codemirror_mode": {
    "name": "ipython",
    "version": 2
   },
   "file_extension": ".py",
   "mimetype": "text/x-python",
   "name": "python",
   "nbconvert_exporter": "python",
   "pygments_lexer": "ipython2",
   "version": "2.7.15"
  }
 },
 "nbformat": 4,
 "nbformat_minor": 2
}

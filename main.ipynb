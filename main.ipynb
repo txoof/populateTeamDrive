{
 "cells": [
  {
   "cell_type": "code",
   "execution_count": 1,
   "metadata": {
    "collapsed": true,
    "deletable": true,
    "editable": true
   },
   "outputs": [],
   "source": [
    "import logging\n",
    "import logging.config\n",
    "import os\n",
    "import json\n",
    "import ConfigParser\n",
    "from simpleMenu import menu\n",
    "\n",
    "from gdrive.auth import getCredentials\n",
    "from gdrive.gdrive import googledrive, GDriveError\n",
    "\n",
    "\n",
    "# get the current working directory\n",
    "# When launching a .command from the OS X Finder, the working directory is typically ~/; this is problematic\n",
    "# for locating resource files\n",
    "# I don't love this hack, but it works.\n",
    "try:\n",
    "    __file__\n",
    "    cwd = os.path.dirname(__file__)+'/'\n",
    "except NameError as e:\n",
    "    cwd = os.getcwd()"
   ]
  },
  {
   "cell_type": "code",
   "execution_count": null,
   "metadata": {
    "collapsed": true
   },
   "outputs": [],
   "source": [
    "def setup_logging(\n",
    "    default_path='logging.json',\n",
    "    default_level=logging.INFO,\n",
    "    env_key='LOG_CFG'\n",
    "):\n",
    "    \"\"\"Setup logging configuration\n",
    "\n",
    "    \"\"\"\n",
    "    path = default_path\n",
    "    value = os.getenv(env_key, None)\n",
    "    if value:\n",
    "        path = value\n",
    "    if os.path.exists(path):\n",
    "        with open(path, 'rt') as f:\n",
    "            config = json.load(f)\n",
    "        logging.config.dictConfig(config)\n",
    "        logging.getLogger().setLevel(default_level)\n",
    "    else:\n",
    "        logging.basicConfig(level=default_level)"
   ]
  },
  {
   "cell_type": "code",
   "execution_count": 5,
   "metadata": {
    "collapsed": false,
    "deletable": true,
    "editable": true
   },
   "outputs": [],
   "source": [
    "# borrowed from: https://www.blog.pythonlibrary.org/2013/10/25/python-101-an-intro-to-configparser/\n",
    "def create_config(path, configuration):\n",
    "    '''\n",
    "    create a configuration file at <path>\n",
    "    configuration in the format {'SectionName': {'key1':'value', 'key2':'value'}, 'OtherSection' {'opt1':'value', 'opt2':'Value'}}\n",
    "    \n",
    "    Note: SafeConfigParser treats everything as a string \n",
    "    '''\n",
    "    logger = logging.getLogger(__name__)\n",
    "    config = ConfigParser.SafeConfigParser()\n",
    "    for section, options in configuration.items():\n",
    "        config.add_section(section)\n",
    "        for key, value in options.items():\n",
    "            config.set(section, key, str(value))\n",
    "\n",
    "    try:\n",
    "        with open(path, 'wb') as config_file:\n",
    "            config.write(config_file)\n",
    "    except Exception as e:\n",
    "        logging.error(e)\n",
    "    \n",
    "    \n",
    "    \n",
    "\n",
    "\n",
    "def get_config(path):\n",
    "    '''\n",
    "    fetch configuration as a config object\n",
    "    '''\n",
    "    if not os.path.exists(path):\n",
    "        create_config(path)\n",
    "    \n",
    "    config = ConfigParser.SafeConfigParser()\n",
    "    config.read(path)\n",
    "    return config\n",
    "\n",
    "\n",
    "\n",
    "def get_setting(path, section, setting):\n",
    "    '''\n",
    "    get the requested setting\n",
    "    '''\n",
    "    config = get_config(path)\n",
    "    value = config.get(section, setting)\n",
    "    return value\n",
    "\n",
    "def update_setting(path, section, setting, value):\n",
    "    '''\n",
    "    update an option\n",
    "    '''\n",
    "    logger = logging.getLogger(__name__)\n",
    "    config = get_config(config)\n",
    "    config.set(section, setting, value)\n",
    "    try:\n",
    "        with open(path, 'wb') as config_file:\n",
    "            config.write(config_file)\n",
    "    except Exception as e:\n",
    "        logging.error(e)\n",
    "    "
   ]
  },
  {
   "cell_type": "code",
   "execution_count": 4,
   "metadata": {
    "collapsed": false
   },
   "outputs": [
    {
     "name": "stdout",
     "output_type": "stream",
     "text": [
      "2018-08-13 21:10:38,806: [INFO: root.<module>] ===Starting portfolio_creator Log===\n",
      "2018-08-13 21:10:38,807: [INFO: root.<module>] checking google credentials\n",
      "2018-08-13 21:10:38,808: [DEBUG: gdrive.auth.getCredentials] preparing google drive credentials\n",
      "2018-08-13 21:10:38,809: [DEBUG: root.getCredentials] checking for credential store directory: ./credentials\n",
      "2018-08-13 21:10:38,811: [DEBUG: root.getCredentials] credential store accepted\n"
     ]
    }
   ],
   "source": [
    "\n",
    "version = '00.00 - 18.08.13'\n",
    "appName = 'portfolio_creator'\n",
    "\n",
    "cfgfile = appName+'.cfg'\n",
    "cfgpath = os.path.join('~/.config/', appName)\n",
    "\n",
    "logger = logging.getLogger(__name__)\n",
    "setup_logging(default_level=logging.DEBUG)\n",
    "logging.info('===Starting {} Log==='.format(appName))\n",
    "\n",
    "# google drive authorization\n",
    "logging.info('checking google credentials')\n",
    "try:\n",
    "    credentials = getCredentials('./')\n",
    "except Exception as e:\n",
    "    logging.critical(e)\n",
    "\n",
    "\n",
    "# configure google drive object\n",
    "# myDrive = googledrive(credentials)\n",
    "\n",
    "\n",
    "\n",
    "# print '\\n'*10\n",
    "# print 'Welcome to the portfolio creator for Google Team Drive version {0}'.format(version)\n",
    "# print 'This program will create portfolio folders in Google Team Drive for students.'\n",
    "# print 'You will need a student_export.text file from PowerSchool with at least the following information:'\n",
    "# print '     ClassOf, FirstLast, Student_Number\\n'\n",
    "# print 'The order of the CSV does not matter, but the headers must be on the very first line.'\n",
    "# print 'You will also need Google File Stream installed and configured'\n",
    "# print 'File Stream can be downloaded here: https://support.google.com/drive/answer/7329379?hl=en'\n",
    "# raw_input(\"Press Enter to continue...\\n\\n\\n\")\n",
    "\n"
   ]
  }
 ],
 "metadata": {
  "kernelspec": {
   "display_name": "Python 2",
   "language": "python",
   "name": "python2"
  },
  "language_info": {
   "codemirror_mode": {
    "name": "ipython",
    "version": 2
   },
   "file_extension": ".py",
   "mimetype": "text/x-python",
   "name": "python",
   "nbconvert_exporter": "python",
   "pygments_lexer": "ipython2",
   "version": "2.7.13"
  }
 },
 "nbformat": 4,
 "nbformat_minor": 2
}

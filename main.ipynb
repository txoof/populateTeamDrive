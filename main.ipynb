{
 "cells": [
  {
   "cell_type": "code",
   "execution_count": 1,
   "metadata": {
    "collapsed": true,
    "deletable": true,
    "editable": true
   },
   "outputs": [],
   "source": [
    "import logging\n",
    "import logging.config\n",
    "import os\n",
    "import json\n",
    "# import ConfigParser\n",
    "import sys\n",
    "import re\n",
    "from glob import glob\n",
    "import csv\n",
    "\n",
    "import configuration\n",
    "from gdrive.auth import getCredentials\n",
    "from gdrive.gdrive import googledrive, GDriveError\n",
    "\n",
    "from humanfriendly import prompts\n",
    "\n",
    "# get the current working directory\n",
    "# When launching a .command from the OS X Finder, the working directory is typically ~/; this is problematic\n",
    "# for locating resource files\n",
    "# I don't love this hack, but it works.\n",
    "try:\n",
    "    __file__\n",
    "    cwd = os.path.dirname(__file__)+'/'\n",
    "except NameError as e:\n",
    "    cwd = os.getcwd()"
   ]
  },
  {
   "cell_type": "code",
   "execution_count": 2,
   "metadata": {
    "collapsed": true,
    "deletable": true,
    "editable": true
   },
   "outputs": [],
   "source": [
    "def setup_logging(\n",
    "    default_path='logging.json',\n",
    "    default_level=logging.INFO,\n",
    "    env_key='LOG_CFG'\n",
    "):\n",
    "    \"\"\"Setup logging configuration\n",
    "\n",
    "    \"\"\"\n",
    "    path = default_path\n",
    "    value = os.getenv(env_key, None)\n",
    "    if value:\n",
    "        path = value\n",
    "    if os.path.exists(path):\n",
    "        with open(path, 'rt') as f:\n",
    "            config = json.load(f)\n",
    "        logging.config.dictConfig(config)\n",
    "        logging.getLogger().setLevel(default_level)\n",
    "    else:\n",
    "        logging.basicConfig(level=default_level)"
   ]
  },
  {
   "cell_type": "code",
   "execution_count": 3,
   "metadata": {
    "collapsed": true,
    "deletable": true,
    "editable": true
   },
   "outputs": [],
   "source": [
    "def fileSearch(path = None, search = None):\n",
    "        '''search for a file name string in a given path'''\n",
    "        if not search:\n",
    "            search = ''\n",
    "        logger = logging.getLogger(__name__)\n",
    "        logger.debug('searching path: {0} for \\\"{1}\\\"'.format(path, search))\n",
    "        try:\n",
    "            searchPath = os.path.expanduser(path)\n",
    "        except AttributeError as e:\n",
    "            logger.error('Error: no path specified')\n",
    "            searchPath = ''\n",
    "        try:\n",
    "            allFiles = os.listdir(searchPath)\n",
    "        except OSError as e:\n",
    "            logger.error(e)\n",
    "            return(None)\n",
    "        \n",
    "        # list comprehension search with regex\n",
    "        #http://www.cademuir.eu/blog/2011/10/20/python-searching-for-a-string-within-a-list-list-comprehension/\n",
    "        regex = re.compile('.*('+search+').*')\n",
    "        return([m.group(0) for l in allFiles for m in [regex.search(l)] if m])"
   ]
  },
  {
   "cell_type": "code",
   "execution_count": 4,
   "metadata": {
    "collapsed": true,
    "deletable": true,
    "editable": true
   },
   "outputs": [],
   "source": [
    "def getConfiguration(cfgfile):\n",
    "    # required configuraiton options\n",
    "    # Section: {'option': 'default value'}\n",
    "    cfgpath = os.path.dirname(cfgfile)\n",
    "    config_required = {\n",
    "        'Main': {'credentials': os.path.join(cfgpath, 'credentials/'), \n",
    "                 'teamdriveID': '',\n",
    "                 'teamdrivename': '',\n",
    "                 'folderID': '',\n",
    "                 'foldername': '',\n",
    "                 },\n",
    "        }\n",
    "\n",
    "    config = configuration.get_config(cfgfile)\n",
    "\n",
    "    update_config = False\n",
    "\n",
    "    for section, values in config_required.items():\n",
    "        if not config.has_section(section):\n",
    "            logger.warn('section: {} not found in {}'.format(section, cfgfile))\n",
    "            logger.debug('adding section {}'.format(section))\n",
    "            config.add_section(section)\n",
    "            update_config = True\n",
    "        for option, value in values.items():\n",
    "            if not config.has_option(section, option):\n",
    "                logger.warn('option: {} not found in {}'.format(option, cfgfile))\n",
    "                logger.debug('adding option {}: {}'.format(option, value))\n",
    "\n",
    "                config.set(section, option, value)\n",
    "                update_config = True\n",
    "\n",
    "\n",
    "    # for section, options in config_required.items():\n",
    "\n",
    "    if update_config:\n",
    "        try:\n",
    "            logger.info('updating configuration file at: {}'.format(cfgfile))\n",
    "            configuration.create_config(cfgfile, config)\n",
    "        except Exception as e:\n",
    "            logger.error(e)\n",
    "            \n",
    "    return(config)"
   ]
  },
  {
   "cell_type": "code",
   "execution_count": 5,
   "metadata": {
    "collapsed": true,
    "deletable": true,
    "editable": true
   },
   "outputs": [],
   "source": [
    "def getTeamDrive(myDrive):\n",
    "    '''\n",
    "    menu driven interaction for choosing a writeable team drive\n",
    "    '''\n",
    "    #available and writeable team drives\n",
    "    logger = logging.getLogger(__name__)\n",
    "    try:\n",
    "        teamdrives_all = myDrive.listTeamDrives()\n",
    "    except Exception as e:\n",
    "        logger.error(e)\n",
    "    \n",
    "    if len(teamdrives_all) < 1:\n",
    "        logger.warn('no writeable team drives found for this user')\n",
    "        return(None)\n",
    "    \n",
    "    teamdrives_writeable = {}\n",
    "    for drive in teamdrives_all:\n",
    "        if drive['capabilities']['canAddChildren']:\n",
    "            teamdrives_writeable[drive['name']] = drive\n",
    "    \n",
    "    teamdrive = None\n",
    "    \n",
    "    try:\n",
    "        teamdrive_name = prompts.prompt_for_choice(choices=teamdrives_writeable, default=None)\n",
    "        teamdrive=teamdrives_writeable[teamdrive_name]\n",
    "    except prompts.TooManyInvalidReplies as e:\n",
    "        logger.warning('user failed to make a choice')\n",
    "    \n",
    "    return(teamdrive)"
   ]
  },
  {
   "cell_type": "code",
   "execution_count": 6,
   "metadata": {
    "collapsed": true,
    "deletable": true,
    "editable": true
   },
   "outputs": [],
   "source": [
    "def getPortfolioFolder(myDrive):\n",
    "    '''\n",
    "    menu driven interaction to locate and choose portfolio folder on team drive\n",
    "    \n",
    "    returns:\n",
    "        folder (dictionary) - google drive object properties dictionary\n",
    "    '''\n",
    "    logger = logging.getLogger(__name__)\n",
    "    logger.info('starting search for portfolio folder in teamdrive: {}; {}'.format(teamdriveName, teamdriveID))\n",
    "    \n",
    "    foldersearch = ''\n",
    "    attempt = 5\n",
    "    while (len(foldersearch) <= 0) and (attempt > 0):\n",
    "        attempt -= 1\n",
    "        foldersearch = prompts.prompt_for_input(question='Please enter a portion of the portfolio folder name (case insensitive): ',\n",
    "                                                default=None, strip=True)\n",
    "        if len(foldersearch) <= 0:\n",
    "            print 'Nothing entered. {} attempts remain.'.format(attempt)\n",
    "            \n",
    "        searchresult = myDrive.search(name=foldersearch, fuzzy=True, teamdrive = teamdriveID, mimeType='folder')\n",
    "        if len(searchresult['files']) <= 0:\n",
    "            print 'No folders contained \"{}\"'.format(foldersearch)\n",
    "            print 'Please try entering only part of the folder name'\n",
    "            foldersearch = ''\n",
    "            \n",
    "    \n",
    "    \n",
    "    if foldersearch <= 0:\n",
    "        logger.warn('user entered 0 length string for folder search')\n",
    "        return(None)\n",
    "    \n",
    "    \n",
    "    foldernames = []\n",
    "    for each in searchresult['files']:\n",
    "        foldernames.append(each['name'])\n",
    "    \n",
    "    try:\n",
    "        foldername = prompts.prompt_for_choice(choices=foldernames)\n",
    "    except prompts.TooManyInvalidReplies as e:\n",
    "        logger.warning('user failed to make a choice')\n",
    "        return(None)\n",
    "    \n",
    "    return(searchresult['files'][foldernames.index(foldername)])\n",
    "    "
   ]
  },
  {
   "cell_type": "code",
   "execution_count": 7,
   "metadata": {
    "collapsed": true,
    "deletable": true,
    "editable": true
   },
   "outputs": [],
   "source": [
    "def getPathfromList(list_path=['~/'], message='Choose from the paths below', default=None):\n",
    "    '''\n",
    "    menu driven interaction to select path \n",
    "    accepts:\n",
    "        list_path (list) - list of paths to display\n",
    "        messager (string) - message to display\n",
    "        default (string) - default choice (must be one of the items in the list otherwise defaults to None)\n",
    "    \n",
    "    returns:\n",
    "        searchPath (string) - valid and existing path\n",
    "    '''\n",
    "    logger = logging.getLogger(__name__)\n",
    "    logger.debug('path list: {}'.format(list_path))\n",
    "    searchPath = None\n",
    "    list_path = sorted(list_path)\n",
    "    list_path.append('OTHER')\n",
    "    \n",
    "    if default not in list_path:\n",
    "        logging.warn('default ({}) not in list; setting default = None'.format(default))\n",
    "        default = None\n",
    "    \n",
    "    if message:\n",
    "        print message\n",
    "    searchPath = prompts.prompt_for_choice(choices=list_path, default=default)\n",
    "    logger.debug('searchPath = {}'.format(searchPath))\n",
    "    \n",
    "    if not searchPath is 'OTHER':\n",
    "        searchPath = os.path.expanduser(searchPath)\n",
    "    else:\n",
    "        attempt = 5\n",
    "        searchPath = None\n",
    "        while not searchPath and attempt > 0:\n",
    "            logger.debug('attempts remaining: {}'.format(attempt))\n",
    "            attempt -= 1\n",
    "            searchPath = prompts.prompt_for_input('Please type the complete path to use: ')\n",
    "            logger.debug('searchPath = {}'.format(searchPath))         \n",
    "    \n",
    "    if len(searchPath) < 1:\n",
    "        searchPath = None\n",
    "    return (searchPath) "
   ]
  },
  {
   "cell_type": "code",
   "execution_count": 8,
   "metadata": {
    "collapsed": true,
    "deletable": true,
    "editable": true
   },
   "outputs": [],
   "source": [
    "def getFiles(path='~/', pattern='.*', ignorecase=True):\n",
    "    '''\n",
    "    search path for files matching pattern (regular expression)\n",
    "    accepts:\n",
    "        path (string) - path to search\n",
    "        pattern (string) - regular expression to search for in file names\n",
    "        ignorecase (bool) - defaults to True, ignore file name case'''\n",
    "    logger = logging.getLogger(__name__)\n",
    "    \n",
    "    path = os.path.expanduser(path+'/*')\n",
    "    logger.debug('Path: {}, glob pattern: {}, ignorecase: {}'.format(path, pattern, ignorecase))\n",
    "    \n",
    "    flags = re.IGNORECASE\n",
    "    files = []\n",
    "        \n",
    "    if ignorecase:\n",
    "        for eachfile in [f for f in glob(path) if re.match(pattern, f, flags=flags)]:\n",
    "            files.append(eachfile)\n",
    "    \n",
    "    if not ignorecase:\n",
    "        for eachfile in [f for f in glob(path) if re.match(pattern, f)]:\n",
    "            files.append(eachfile)        \n",
    "    \n",
    "    return(files)"
   ]
  },
  {
   "cell_type": "code",
   "execution_count": 9,
   "metadata": {
    "collapsed": true,
    "deletable": true,
    "editable": true
   },
   "outputs": [],
   "source": [
    "def chooseFile(path='~/', pattern='.*', ignorecase=True, message='Please choose a file from the list'):\n",
    "    '''\n",
    "    menu interaction for choose a file in the specified path from the file glob created using a regex pattern\n",
    "    accepts:\n",
    "        path (string) - path to search\n",
    "        pattern (string) - regular expression to search for in file names\n",
    "        ignorecase (bool) - defaults to True, ignore file name case\n",
    "        message(string) - message to show\n",
    "    returns:\n",
    "        selection (string) - selected file'''\n",
    "    \n",
    "    logger = logging.getLogger(__name__)\n",
    "    filelist = getFiles(path=path, pattern=pattern, ignorecase=ignorecase)\n",
    "    logger.debug('filelist: {}'.format(filelist))\n",
    "    print message\n",
    "    selection = prompts.prompt_for_choice(choices=filelist)\n",
    "    return(selection)"
   ]
  },
  {
   "cell_type": "code",
   "execution_count": 10,
   "metadata": {
    "collapsed": true
   },
   "outputs": [],
   "source": [
    "def fileToList(inputfile):\n",
    "    logger = logging.getLogger(__name__)\n",
    "    logger.debug('inputfile = {}'.format(inputfile))\n",
    "    outputlist = []\n",
    "    \n",
    "    try:\n",
    "        with open(inputfile, 'r') as fhandle:\n",
    "            logger.debug('reading file: {}'.format(inputfile))\n",
    "            for line in fhandle:\n",
    "                outputlist.append(line.strip('\\n'))\n",
    "    except IOError as e:\n",
    "        logger.debug(e)\n",
    "    return(outputlist)"
   ]
  },
  {
   "cell_type": "code",
   "execution_count": 11,
   "metadata": {
    "collapsed": false
   },
   "outputs": [],
   "source": [
    "def mapHeaders(file_csv, expected_headers=[]):\n",
    "    '''map an expected list of header values to their position in a csv\n",
    "    accepts:\n",
    "        file_csv (csv.reader object) \n",
    "        expected_headers (list) - list of headers to search for, ignoring all others\n",
    "    '''\n",
    "    logger = logging.getLogger(__name__)\n",
    "    logger.debug('mapping headers')\n",
    "    \n",
    "    missing_headers = []\n",
    "    headerMap = {} \n",
    "    \n",
    "    try:\n",
    "        csvHeader = file_csv[0]\n",
    "    except IndexError as e:\n",
    "        logging.error('csv empty: {}'.format(e))\n",
    "        return(None)\n",
    "    \n",
    "    for each in expected_headers:\n",
    "        if each not in csvHeader:\n",
    "            missing_headers.append(each)\n",
    "    \n",
    "    headerMap['missingheaders'] = missing_headers\n",
    "    \n",
    "    headerMap['headers'] = {}\n",
    "\n",
    "    if len(missing_headers) > 0:\n",
    "        logging.warn('missing headers: {}'.format(missing_headers))\n",
    "    for index, value in enumerate(csvHeader):\n",
    "        if value in expected_headers:\n",
    "            headerMap['headers'][value] = index\n",
    "    logger.debug('successfully maped headers')\n",
    "    return(headerMap)"
   ]
  },
  {
   "cell_type": "code",
   "execution_count": 12,
   "metadata": {
    "collapsed": false,
    "deletable": true,
    "editable": true
   },
   "outputs": [
    {
     "name": "stdout",
     "output_type": "stream",
     "text": [
      "2018-09-15 23:27:37,738: [INFO: root.<module>] ===Starting portfolio_creator Log===\n",
      "2018-09-15 23:27:37,739: [DEBUG: configuration.get_config] reading configuration file at: /Users/aaronciuffo/.config/portfolio_creator/portfolio_creator.ini\n",
      "2018-09-15 23:27:37,741: [DEBUG: __main__.<module>] current configuration:\n",
      "2018-09-15 23:27:37,742: [DEBUG: __main__.<module>] \n",
      "{'Main': {'folderid': '1NWVX-ZDTbT5yUT-Rw3a3fHQNptB4W4lb', 'credentials': '~/.config/portfolio_creator/credentials/', 'foldername': 'Portfolios', 'teamdrivename': 'IT Blabla', 'teamdriveid': '0ACLfU8KeD_BHUk9PVA'}}\n",
      "2018-09-15 23:27:37,742: [INFO: root.<module>] checking google credentials\n",
      "\n",
      "\n",
      "\n",
      "\n",
      "You *may* be directed to a google web page that asks you to authorize this applicaiton.\n",
      "Please choose an ASH account and authorize this applicaiton.\n",
      "When you are done, please close the newly created tab in your web browser and return to this window.\n",
      "2018-09-15 23:27:37,744: [DEBUG: humanfriendly.prompts.prompt_for_confirmation] Requesting interactive confirmation from terminal: 'Would you like to proceed? [Y/n]'\n",
      "\n",
      " Would you like to proceed? [Y/n] \n",
      "2018-09-15 23:27:38,994: [DEBUG: humanfriendly.prompts.prompt_for_confirmation] Default choice selected by empty reply ('granted').\n",
      "2018-09-15 23:27:38,995: [DEBUG: gdrive.auth.getCredentials] preparing google drive credentials\n",
      "2018-09-15 23:27:38,996: [DEBUG: root.getCredentials] checking for credential store directory: /Users/aaronciuffo/.config/portfolio_creator/credentials/\n",
      "2018-09-15 23:27:39,006: [DEBUG: root.getCredentials] credential store accepted\n",
      "2018-09-15 23:27:39,007: [INFO: googleapiclient.discovery._retrieve_discovery_doc] URL being requested: GET https://www.googleapis.com/discovery/v1/apis/drive/v3/rest\n",
      "2018-09-15 23:27:39,110: [INFO: googleapiclient.discovery.method] URL being requested: GET https://www.googleapis.com/drive/v3/about?fields=user&alt=json\n",
      "2018-09-15 23:27:39,137: [INFO: oauth2client.transport.new_request] Refreshing due to a 401 (attempt 1/2)\n",
      "2018-09-15 23:27:39,138: [INFO: oauth2client.client._do_refresh_request] Refreshing access_token\n"
     ]
    },
    {
     "name": "stderr",
     "output_type": "stream",
     "text": [
      "\n"
     ]
    },
    {
     "name": "stdout",
     "output_type": "stream",
     "text": [
      "2018-09-15 23:27:39,347: [INFO: googleapiclient.discovery.method] URL being requested: GET https://www.googleapis.com/drive/v3/teamdrives?fields=teamDrives&alt=json\n",
      "2018-09-15 23:27:39,749: [DEBUG: __main__.fileToList] inputfile = ./gradefolders.txt\n",
      "2018-09-15 23:27:39,750: [DEBUG: __main__.fileToList] reading file: ./gradefolders.txt\n",
      "2018-09-15 23:27:39,759: [DEBUG: __main__.<module>] remaining attempts to locate student export: 5\n",
      "2018-09-15 23:27:39,760: [DEBUG: __main__.getPathfromList] path list: ['~/Downloads', '~/Desktop']\n",
      "Please choose which folder contains the Student Export File.\n",
      "2018-09-15 23:27:39,761: [DEBUG: humanfriendly.prompts.prompt_for_choice] Requesting interactive choice on terminal (options are '~/Desktop', '~/Downloads' and 'OTHER') ..\n",
      "\n",
      "  1. ~/Desktop\n",
      "  2. ~/Downloads (default choice)\n",
      "  3. OTHER\n",
      " \n",
      " Enter your choice as a number or unique substring (Control-C aborts): 2\n",
      "2018-09-15 23:27:42,661: [DEBUG: humanfriendly.prompts.prompt_for_choice] Option ('~/Downloads') selected by numeric reply (2).\n",
      "2018-09-15 23:27:42,662: [DEBUG: __main__.getPathfromList] searchPath = ~/Downloads\n",
      "2018-09-15 23:27:42,663: [DEBUG: __main__.getFiles] Path: /Users/aaronciuffo/Downloads/*, glob pattern: .*student.*export.*, ignorecase: True\n",
      "2018-09-15 23:27:42,675: [DEBUG: __main__.chooseFile] filelist: ['/Users/aaronciuffo/Downloads/student.export (1).text', '/Users/aaronciuffo/Downloads/student.export (2).text', '/Users/aaronciuffo/Downloads/student.export (3).text', '/Users/aaronciuffo/Downloads/student.export (4).text', '/Users/aaronciuffo/Downloads/student.export.text', '/Users/aaronciuffo/Downloads/student_export.text', '/Users/aaronciuffo/Downloads/Student_Export.txt']\n",
      "Please choose a file from the list\n",
      "2018-09-15 23:27:42,676: [DEBUG: humanfriendly.prompts.prompt_for_choice] Requesting interactive choice on terminal (options are '/Users/aaronciuffo/Downloads/student.export (1).text', '/Users/aaronciuffo/Downloads/student.export (2).text', '/Users/aaronciuffo/Downloads/student.export (3).text', '/Users/aaronciuffo/Downloads/student.export (4).text', '/Users/aaronciuffo/Downloads/student.export.text', '/Users/aaronciuffo/Downloads/student_export.text' and '/Users/aaronciuffo/Downloads/Student_Export.txt') ..\n"
     ]
    },
    {
     "name": "stderr",
     "output_type": "stream",
     "text": [
      "\n"
     ]
    },
    {
     "name": "stdout",
     "output_type": "stream",
     "text": [
      "\n",
      "  1. /Users/aaronciuffo/Downloads/student.export (1).text\n",
      "  2. /Users/aaronciuffo/Downloads/student.export (2).text\n",
      "  3. /Users/aaronciuffo/Downloads/student.export (3).text\n",
      "  4. /Users/aaronciuffo/Downloads/student.export (4).text\n",
      "  5. /Users/aaronciuffo/Downloads/student.export.text\n",
      "  6. /Users/aaronciuffo/Downloads/student_export.text\n",
      "  7. /Users/aaronciuffo/Downloads/Student_Export.txt\n",
      " \n",
      " Enter your choice as a number or unique substring (Control-C aborts): 4\n",
      "2018-09-15 23:27:44,978: [DEBUG: humanfriendly.prompts.prompt_for_choice] Option ('/Users/aaronciuffo/Downloads/student.export (4).text') selected by numeric reply (4).\n",
      "2018-09-15 23:27:44,978: [DEBUG: __main__.<module>] student export file chosen: /Users/aaronciuffo/Downloads/student.export (4).text\n",
      "2018-09-15 23:27:44,980: [DEBUG: __main__.fileToList] inputfile = /Users/aaronciuffo/Downloads/student.export (4).text\n",
      "2018-09-15 23:27:44,980: [DEBUG: __main__.fileToList] reading file: /Users/aaronciuffo/Downloads/student.export (4).text\n",
      "2018-09-15 23:27:44,989: [DEBUG: __main__.<module>] Student export file: /Users/aaronciuffo/Downloads/student.export (4).text\n",
      "2018-09-15 23:27:44,990: [DEBUG: __main__.mapHeaders] mapping headers\n",
      "2018-09-15 23:27:44,991: [DEBUG: __main__.mapHeaders] successfully maped headers\n",
      "2018-09-15 23:27:44,992: [DEBUG: __main__.<module>] asking to proceed with current configuration\n",
      "\n",
      "Curent Configuration:\n",
      "[Main]\n",
      "credentials = ~/.config/portfolio_creator/credentials/\n",
      "teamdrivename = IT Blabla\n",
      "teamdriveid = 0ACLfU8KeD_BHUk9PVA\n",
      "foldername = Portfolios\n",
      "folderid = 1NWVX-ZDTbT5yUT-Rw3a3fHQNptB4W4lb\n",
      "studentexport = /Users/aaronciuffo/Downloads/student.export (4).text\n",
      "2018-09-15 23:27:44,993: [DEBUG: humanfriendly.prompts.prompt_for_confirmation] Requesting interactive confirmation from terminal: 'Continue with the configuration above? [y/n]'\n"
     ]
    },
    {
     "name": "stderr",
     "output_type": "stream",
     "text": [
      "\n"
     ]
    },
    {
     "name": "stdout",
     "output_type": "stream",
     "text": [
      "\n",
      " Continue with the configuration above? [y/n] y\n",
      "2018-09-15 23:27:47,356: [DEBUG: humanfriendly.prompts.prompt_for_confirmation] Confirmation granted by reply ('y').\n"
     ]
    },
    {
     "name": "stderr",
     "output_type": "stream",
     "text": [
      "\n"
     ]
    }
   ],
   "source": [
    "version = '00.00 - 18.08.13'\n",
    "appName = 'portfolio_creator'\n",
    "\n",
    "cfgfile = appName+'.ini'\n",
    "cfgpath = os.path.join('~/.config/', appName)\n",
    "cfgfile = os.path.expanduser(os.path.join(cfgpath, cfgfile))\n",
    "\n",
    "studentexport_list = ['~/Downloads', '~/Desktop']\n",
    "studentexport = None\n",
    "studentexport_path = None\n",
    "\n",
    "\n",
    "downloadlink = 'https://foo.foof.foo'\n",
    "\n",
    "\n",
    "updateConfig = False\n",
    "\n",
    "\n",
    "logger = logging.getLogger(__name__)\n",
    "setup_logging(default_level=logging.DEBUG)\n",
    "logging.info('===Starting {} Log==='.format(appName))\n",
    "\n",
    "myConfig = getConfiguration(cfgfile)\n",
    "\n",
    "teamdriveName = '**UNKNOWN**'\n",
    "\n",
    "####### set all config options \n",
    "if myConfig.has_option('Main', 'credentials'):\n",
    "    credential_store = os.path.expanduser(myConfig.get('Main', 'credentials'))\n",
    "else:\n",
    "    credential_store = os.path.expanduser(os.path.join(cfgpath, 'credentials'))\n",
    "    updateConfig = True\n",
    "\n",
    "if myConfig.has_option('Main', 'teamdriveid'):\n",
    "    teamdriveID = myConfig.get('Main', 'teamdriveid')\n",
    "else:\n",
    "    teamdriveID = None\n",
    "    \n",
    "if myConfig.has_option('Main', 'teamdrivename'):\n",
    "    teamdriveName = myConfig.get('Main', 'teamdrivename')\n",
    "else:\n",
    "    teamdriveName = None\n",
    "    \n",
    "if myConfig.has_option('Main', 'folderid'):\n",
    "    folderID = myConfig.get('Main', 'folderid')\n",
    "else:\n",
    "    folderID = None\n",
    "\n",
    "if myConfig.has_option('Main', 'foldername'):\n",
    "    folderName = myConfig.get('Main', 'foldername')\n",
    "else:\n",
    "    folderName = None\n",
    "\n",
    "if myConfig.has_option('Main', 'gradefolders'):\n",
    "    gradefolders = myConfig.get('Main', 'gradefolders')\n",
    "else:\n",
    "    gradefolders = './gradefolders.txt'\n",
    "\n",
    "\n",
    "    \n",
    "if logging.getLogger().getEffectiveLevel() <= 10:\n",
    "    config_dict = {}\n",
    "    for section in myConfig.sections():\n",
    "        config_dict[section] = {}\n",
    "        for option in myConfig.options(section):\n",
    "            config_dict[section][option] = myConfig.get(section, option)\n",
    "\n",
    "    logger.debug('current configuration:')\n",
    "    logger.debug('\\n{}'.format(config_dict))\n",
    "\n",
    "# google drive authorization\n",
    "logging.info('checking google credentials')\n",
    "#### Add instructions before this shoots user over to a web authorization \n",
    "print '\\n'*3\n",
    "print 'You *may* be directed to a google web page that asks you to authorize this applicaiton.'\n",
    "print 'Please choose an ASH account and authorize this applicaiton.'\n",
    "print 'When you are done, please close the newly created tab in your web browser and return to this window.'\n",
    "if not prompts.prompt_for_confirmation(question='Would you like to proceed?', default='y'):\n",
    "    print 'Exiting'\n",
    "    exit(0)\n",
    "    \n",
    "credential_store = os.path.expanduser(myConfig.get('Main', 'credentials'))\n",
    "\n",
    "# attempt to authorize using stored credentials or generate new credentials as needed\n",
    "try:\n",
    "    credentials = getCredentials(credential_store)\n",
    "except Exception as e:\n",
    "    logging.critical(e)\n",
    "\n",
    "# configure google drive object\n",
    "myDrive = googledrive(credentials)\n",
    "\n",
    "if not teamdriveID:\n",
    "    logger.warn('Team Drive ID missing')\n",
    "    try:\n",
    "        teamdrive = getTeamDrive(myDrive)\n",
    "    except GDriveError as e:\n",
    "        logging.error('Error accessing team drives: e')\n",
    "        exit(0)\n",
    "        \n",
    "    if not teamdrive:\n",
    "        logger.error('no team drives found')\n",
    "        logger.error('userinfo: {}'.format(myDrive.userinfo['emailAddress']))\n",
    "        print('No Team Drives located; cannot proceed.')\n",
    "        print('You are authenticated as: {}'.format(myDrive.userinfo['emailAddress']))\n",
    "        logger.error('exiting')\n",
    "        exit(0)\n",
    "        \n",
    "    try:\n",
    "        teamdriveID = teamdrive['id']\n",
    "        teamdriveName = teamdrive['name']\n",
    "    except (KeyError, TypeError) as e:\n",
    "        logger.error('no valid team drive information found: {}'.format(e))\n",
    "        logger.error('userinfo: {}'.format(myDrive.userinfo['emailAddress']))\n",
    "        print 'No Team Drive was found. Do you have write access to a Team Drive with this account?'\n",
    "        print 'You are authenticated as: {}'.format(myDrive.userinfo['emailAddress'])\n",
    "        logger.error('exiting')\n",
    "        exit(0)\n",
    "        \n",
    "    print 'Using Team Drive: {}'.format(teamdriveName)    \n",
    "    myConfig.set('Main', 'teamdriveid', teamdriveID)\n",
    "    myConfig.set('Main', 'teamdriveName', teamdriveName)\n",
    "    updateConfig = True\n",
    "    \n",
    "if not folderID:\n",
    "    logger.warn('Folder ID missing')\n",
    "    try:\n",
    "        folder = getPortfolioFolder(myDrive)\n",
    "    except GDriveError as e:\n",
    "        logger.error('Could not search for folder: {}'.format(e))\n",
    "        print ('There was a problem searching Team Drive for a folder')\n",
    "        print ('You are authenticated as: {}'.format(myDrive.userinfo['emailAddress']))\n",
    "        print ('If this is not correct do...')\n",
    "    try:\n",
    "        folderID = folder['id']\n",
    "        folderName = folder['name']\n",
    "    except (KeyError, TypeError) as e:\n",
    "        logger.error('no valid folder information found {}'.format(e))\n",
    "        logger.error('exiting')\n",
    "        exit(0)\n",
    "    \n",
    "    print 'Using Folder: {} on Team Drive: {}'.format(folderName, teamdriveName)\n",
    "    myConfig.set('Main', 'foldername', folderName)\n",
    "    myConfig.set('Main', 'folderid', folderID)\n",
    "    updateConfig=True\n",
    "\n",
    "if not os.path.exists(gradefolders):\n",
    "    logger.error('failed to locate {}'.format(gradefolders))\n",
    "    logger.error('exiting')\n",
    "    print 'gradefolders.txt file is missing. Please reinstall the application.'\n",
    "    print 'download link: {}'.format(downloadlink)\n",
    "    exit(0)\n",
    "\n",
    "# get the gradefolder file\n",
    "gradefolder_list = fileToList(gradefolders)\n",
    "\n",
    "# check validity of gradefolder\n",
    "if len(gradefolder_list) < 1:\n",
    "    print 'grade folder file is corrupt. Please reinstall the application'\n",
    "    exit(0)\n",
    "\n",
    "\n",
    "if updateConfig:\n",
    "    configuration.create_config(cfgfile, myConfig)\n",
    "\n",
    "\n",
    "# # get and validate path for student_export folder\n",
    "attempt = 5\n",
    "while not studentexport and (attempt > 0):\n",
    "    logger.debug('remaining attempts to locate student export: {}'.format(attempt))\n",
    "    attempt -= 1\n",
    "    if not studentexport:\n",
    "        studentexport_path = getPathfromList(studentexport_list, \n",
    "                                             message='Please choose which folder contains the Student Export File.',\n",
    "                                             default=studentexport_list[0])\n",
    "    \n",
    "    # move this pattern into the configuration file? \n",
    "    studentexport = chooseFile(path=studentexport_path, pattern='.*student.*export.*')\n",
    "    logger.debug('student export file chosen: {}'.format(studentexport))\n",
    "    if not os.access(studentexport, os.R_OK):\n",
    "        print 'Could not read file: {}. Please choose another file'.format(studentexport)\n",
    "        logger.error('file is unreadable: {}'.format(studentexport))\n",
    "        studentexport = None\n",
    "\n",
    "if not studentexport:\n",
    "    logger.error('no student export file; exiting')\n",
    "    print 'Cannot proceed without a student export file. Exiting'\n",
    "    exit(0)\n",
    "else:\n",
    "    myConfig.set('Main', 'studentexport', studentexport)\n",
    "    studentexport_list = fileToList(studentexport)\n",
    "        \n",
    "logger.debug('Student export file: {}'.format(studentexport))\n",
    "\n",
    "studentexport_csv = []\n",
    "try: \n",
    "    with open(studentexport, 'rU') as csvfile:\n",
    "        csvreader = csv.reader(csvfile)\n",
    "        for row in csvreader:\n",
    "            studentexport_csv.append(row)\n",
    "except (OSError, IOError) as e:\n",
    "    logging.critical('error reading file: {}\\n{}'.format(studentexport,e))\n",
    "    print 'Could not read file: {}; exiting.'.format(studentexport)\n",
    "    exit(0)\n",
    "\n",
    "# parse and check validity of student export file\n",
    "expected_headers = ['ClassOf', 'Student_Number', 'LastFirst']\n",
    "headerMap = mapHeaders(file_csv=studentexport_csv, expected_headers=expected_headers)\n",
    "\n",
    "if not headerMap or (len(headerMap['headers']) != len(expected_headers)):\n",
    "    logging.error('cannot continue without valid header map; exiting')\n",
    "    print('file: {} appears to not contain the expected header row (in any order): {}'.format(studentexport, expected_headers))\n",
    "    if headerMap['missingheaders']:\n",
    "        print('your file appears to be missing the field(s): {}'.format(headerMap['missingheaders']))\n",
    "    print('please try to download a new student.export file before trying again; exiting')\n",
    "#     exit(0)\n",
    "\n",
    "logger.debug('asking to proceed with current configuration')\n",
    "print '\\nCurent Configuration:'\n",
    "for section in myConfig.sections():\n",
    "    print '[{}]'.format(section)\n",
    "    for option in myConfig.options(section):\n",
    "        print '{} = {}'.format(option, myConfig.get(section, option))\n",
    "if not prompts.prompt_for_confirmation('Continue with the configuration above?'):\n",
    "    logger.debug('user chose to exit')\n",
    "    exit(0)"
   ]
  },
  {
   "cell_type": "code",
   "execution_count": 66,
   "metadata": {
    "collapsed": true
   },
   "outputs": [],
   "source": [
    "def createFolders(myDrive, folderID, folders):\n",
    "    '''\n",
    "    create folders on google drive if they do not exist\n",
    "    \n",
    "    accepts:\n",
    "        myDrive(googleDrive object)\n",
    "        folderid (string) - folder id string\n",
    "        folders (list) - list of folder names\n",
    "    \n",
    "    returns:\n",
    "        folderinfo (dict) - {folder name: folder url, or None for failures}\n",
    "    '''\n",
    "    logger = logging.getLogger(__name__)\n",
    "    logger.info('creating folders at gdrive path: {}'.format(folderID))\n",
    "    \n",
    "    myDrive.getprops\n",
    "    \n",
    "    folderinfo = {}\n",
    "    \n",
    "    # check that folder exists and is a folder\n",
    "    try:\n",
    "        logger.info('getting folder properties')\n",
    "        props = myDrive.getprops(folderID, 'capabilities, mimeType, name')\n",
    "    except GDriveError as e:\n",
    "        logger.error('failed to get properties for {}; {}'.format(folderID, e))\n",
    "        logger.error('please reconfigure the folder option. cannot continue; exiting')\n",
    "        exit(0)\n",
    "\n",
    "    if not props['mimeType'] == myDrive.mimeTypes['folder']:\n",
    "        logger.error('{} is not a folder; type: {}'.format(folderID, props['mimeType']))\n",
    "    else:\n",
    "        logger.info('folder: {} is indeed a folder'.format(props['name']))\n",
    "        \n",
    "    if not props['capabilities']['canAddChildren']:\n",
    "        logger.error('folder: {} is not writable'.format(props['name']))\n",
    "    else:\n",
    "        logger.info('folder: {} is writeable'.format(props['name']))\n",
    "        \n",
    "    \n",
    "    logging.info('searching for exisiting folders and creating missing folders')\n",
    "    for folder in folders:\n",
    "        pass\n",
    "    \n",
    "    \n",
    "    \n",
    "    return(folderinfo)\n",
    "    \n",
    "    \n",
    "    \n",
    "    "
   ]
  },
  {
   "cell_type": "code",
   "execution_count": 65,
   "metadata": {
    "collapsed": false
   },
   "outputs": [
    {
     "name": "stdout",
     "output_type": "stream",
     "text": [
      "2018-09-15 23:44:34,903: [INFO: __main__.createFolders] creating folders at gdrive path: 1-D7UNBes_skfkQ6oBettiBICiBcZmbvn\n",
      "2018-09-15 23:44:34,904: [INFO: __main__.createFolders] getting folder properties\n",
      "2018-09-15 23:44:34,905: [DEBUG: gdrive.gdrive.getprops] files().get(fileId=1-D7UNBes_skfkQ6oBettiBICiBcZmbvn, fields=capabilities,mimeType,name)\n",
      "2018-09-15 23:44:34,910: [INFO: googleapiclient.discovery.method] URL being requested: GET https://www.googleapis.com/drive/v3/files/1-D7UNBes_skfkQ6oBettiBICiBcZmbvn?fields=capabilities%2CmimeType%2Cname&alt=json&supportsTeamDrives=true\n",
      "2018-09-15 23:44:35,185: [INFO: __main__.createFolders] folder: Port Wine is indeed a folder\n",
      "2018-09-15 23:44:35,186: [INFO: __main__.createFolders] folder: Port Wine is writeable\n",
      "a800\n",
      "a557\n",
      "b473\n",
      "f180\n",
      "f341\n",
      "d265\n",
      "e765\n",
      "a657\n",
      "a136\n",
      "d164\n"
     ]
    },
    {
     "data": {
      "text/plain": [
       "{}"
      ]
     },
     "execution_count": 65,
     "metadata": {},
     "output_type": "execute_result"
    }
   ],
   "source": [
    "createFolders(myDrive, '1-D7UNBes_skfkQ6oBettiBICiBcZmbvn', [random.choice(['a','b','c','d','e','f','g'])+str(random.randint(1, 1000)) for _ in range(10)])"
   ]
  },
  {
   "cell_type": "code",
   "execution_count": 25,
   "metadata": {
    "collapsed": true
   },
   "outputs": [],
   "source": [
    "import random\n"
   ]
  },
  {
   "cell_type": "code",
   "execution_count": 61,
   "metadata": {
    "collapsed": false
   },
   "outputs": [
    {
     "name": "stdout",
     "output_type": "stream",
     "text": [
      "['b666', 'e599', 'a855', 'g434', 'g35', 'd553', 'g538', 'b750', 'f412', 'c292']\n"
     ]
    }
   ],
   "source": [
    "mylist = [random.choice(['a','b','c','d','e','f','g'])+str(random.randint(1, 1000)) for _ in range(10)]\n",
    "print mylist\n",
    "# print random.choice(['a','b','c','d','e','f','g'])+str(random.randint(1, 1000))"
   ]
  },
  {
   "cell_type": "code",
   "execution_count": 30,
   "metadata": {
    "collapsed": false
   },
   "outputs": [
    {
     "name": "stdout",
     "output_type": "stream",
     "text": [
      "Help on method randint in module random:\n",
      "\n",
      "randint(self, a, b) method of random.Random instance\n",
      "    Return random integer in range [a, b], including both end points.\n",
      "\n"
     ]
    }
   ],
   "source": [
    "help(random.randint)"
   ]
  },
  {
   "cell_type": "code",
   "execution_count": 16,
   "metadata": {
    "collapsed": false
   },
   "outputs": [
    {
     "name": "stdout",
     "output_type": "stream",
     "text": [
      "2018-09-15 23:32:35,052: [DEBUG: gdrive.gdrive.getprops] files().get(fileId=1-D7UNBes_skfkQ6oBettiBICiBcZmbvn, fields=capabilities(canAddChildren),mimeType,name)\n",
      "2018-09-15 23:32:35,058: [INFO: googleapiclient.discovery.method] URL being requested: GET https://www.googleapis.com/drive/v3/files/1-D7UNBes_skfkQ6oBettiBICiBcZmbvn?fields=capabilities%28canAddChildren%29%2CmimeType%2Cname&alt=json&supportsTeamDrives=true\n"
     ]
    },
    {
     "data": {
      "text/plain": [
       "{u'capabilities': {u'canAddChildren': True},\n",
       " u'mimeType': u'application/vnd.google-apps.folder',\n",
       " u'name': u'Port Wine'}"
      ]
     },
     "execution_count": 16,
     "metadata": {},
     "output_type": "execute_result"
    }
   ],
   "source": [
    "myDrive.getprops('1-D7UNBes_skfkQ6oBettiBICiBcZmbvn', 'capabilities(canAddChildren), mimeType, name')"
   ]
  },
  {
   "cell_type": "code",
   "execution_count": null,
   "metadata": {
    "collapsed": false
   },
   "outputs": [],
   "source": [
    "myDrive.fields"
   ]
  },
  {
   "cell_type": "code",
   "execution_count": null,
   "metadata": {
    "collapsed": false
   },
   "outputs": [],
   "source": [
    "createFolders(myDrive=myDrive, folderID=folderID, folders=['a', 'b', 'cow'])"
   ]
  },
  {
   "cell_type": "code",
   "execution_count": null,
   "metadata": {
    "collapsed": false
   },
   "outputs": [],
   "source": [
    "help(myDrive.getprops)"
   ]
  },
  {
   "cell_type": "code",
   "execution_count": null,
   "metadata": {
    "collapsed": false
   },
   "outputs": [],
   "source": [
    "\n"
   ]
  },
  {
   "cell_type": "code",
   "execution_count": null,
   "metadata": {
    "collapsed": false
   },
   "outputs": [],
   "source": [
    "myDrive.mimeTypes"
   ]
  }
 ],
 "metadata": {
  "kernelspec": {
   "display_name": "Python 2",
   "language": "python",
   "name": "python2"
  },
  "language_info": {
   "codemirror_mode": {
    "name": "ipython",
    "version": 2
   },
   "file_extension": ".py",
   "mimetype": "text/x-python",
   "name": "python",
   "nbconvert_exporter": "python",
   "pygments_lexer": "ipython2",
   "version": "2.7.13"
  }
 },
 "nbformat": 4,
 "nbformat_minor": 2
}

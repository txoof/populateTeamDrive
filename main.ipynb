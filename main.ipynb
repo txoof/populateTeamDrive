{
 "cells": [
  {
   "cell_type": "code",
   "execution_count": 111,
   "metadata": {
    "collapsed": false,
    "deletable": true,
    "editable": true
   },
   "outputs": [],
   "source": [
    "import logging\n",
    "import logging.config\n",
    "import os\n",
    "import json\n",
    "# import ConfigParser\n",
    "import sys\n",
    "import re\n",
    "from glob import glob\n",
    "import csv\n",
    "\n",
    "import configuration\n",
    "from gdrive.auth import getCredentials\n",
    "from gdrive.gdrive import googledrive, GDriveError\n",
    "\n",
    "from humanfriendly import prompts\n",
    "\n",
    "from progressbar import AnimatedMarker, Bar, BouncingBar, Counter, ETA, \\\n",
    "    AdaptiveETA, FileTransferSpeed, FormatLabel, Percentage, \\\n",
    "    ProgressBar, ReverseBar, RotatingMarker, \\\n",
    "    SimpleProgress, Timer, UnknownLength\n",
    "\n",
    "# get the current working directory\n",
    "# When launching a .command from the OS X Finder, the working directory is typically ~/; this is problematic\n",
    "# for locating resource files\n",
    "# I don't love this hack, but it works.\n",
    "try:\n",
    "    __file__\n",
    "    cwd = os.path.dirname(__file__)+'/'\n",
    "except NameError as e:\n",
    "    cwd = os.getcwd()"
   ]
  },
  {
   "cell_type": "code",
   "execution_count": 27,
   "metadata": {
    "collapsed": true,
    "deletable": true,
    "editable": true
   },
   "outputs": [],
   "source": [
    "def setup_logging(\n",
    "    default_path='logging.json',\n",
    "    default_level=logging.INFO,\n",
    "    env_key='LOG_CFG'\n",
    "):\n",
    "    \"\"\"Setup logging configuration\n",
    "\n",
    "    \"\"\"\n",
    "    path = default_path\n",
    "    value = os.getenv(env_key, None)\n",
    "    if value:\n",
    "        path = value\n",
    "    if os.path.exists(path):\n",
    "        with open(path, 'rt') as f:\n",
    "            config = json.load(f)\n",
    "        logging.config.dictConfig(config)\n",
    "        logging.getLogger().setLevel(default_level)\n",
    "    else:\n",
    "        logging.basicConfig(level=default_level)"
   ]
  },
  {
   "cell_type": "code",
   "execution_count": 28,
   "metadata": {
    "collapsed": true,
    "deletable": true,
    "editable": true
   },
   "outputs": [],
   "source": [
    "def fileSearch(path = None, search = None):\n",
    "        '''search for a file name string in a given path'''\n",
    "        if not search:\n",
    "            search = ''\n",
    "        logger = logging.getLogger(__name__)\n",
    "        logger.debug('searching path: {0} for \\\"{1}\\\"'.format(path, search))\n",
    "        try:\n",
    "            searchPath = os.path.expanduser(path)\n",
    "        except AttributeError as e:\n",
    "            logger.error('Error: no path specified')\n",
    "            searchPath = ''\n",
    "        try:\n",
    "            allFiles = os.listdir(searchPath)\n",
    "        except OSError as e:\n",
    "            logger.error(e)\n",
    "            return(None)\n",
    "        \n",
    "        # list comprehension search with regex\n",
    "        #http://www.cademuir.eu/blog/2011/10/20/python-searching-for-a-string-within-a-list-list-comprehension/\n",
    "        regex = re.compile('.*('+search+').*')\n",
    "        return([m.group(0) for l in allFiles for m in [regex.search(l)] if m])"
   ]
  },
  {
   "cell_type": "code",
   "execution_count": 29,
   "metadata": {
    "collapsed": true,
    "deletable": true,
    "editable": true
   },
   "outputs": [],
   "source": [
    "def getConfiguration(cfgfile):\n",
    "    # required configuraiton options\n",
    "    # Section: {'option': 'default value'}\n",
    "    cfgpath = os.path.dirname(cfgfile)\n",
    "    config_required = {\n",
    "        'Main': {'credentials': os.path.join(cfgpath, 'credentials/'), \n",
    "                 'teamdriveID': '',\n",
    "                 'teamdrivename': '',\n",
    "                 'folderID': '',\n",
    "                 'foldername': '',\n",
    "                 },\n",
    "        }\n",
    "\n",
    "    config = configuration.get_config(cfgfile)\n",
    "\n",
    "    update_config = False\n",
    "\n",
    "    for section, values in config_required.items():\n",
    "        if not config.has_section(section):\n",
    "            logger.warn('section: {} not found in {}'.format(section, cfgfile))\n",
    "            logger.debug('adding section {}'.format(section))\n",
    "            config.add_section(section)\n",
    "            update_config = True\n",
    "        for option, value in values.items():\n",
    "            if not config.has_option(section, option):\n",
    "                logger.warn('option: {} not found in {}'.format(option, cfgfile))\n",
    "                logger.debug('adding option {}: {}'.format(option, value))\n",
    "\n",
    "                config.set(section, option, value)\n",
    "                update_config = True\n",
    "\n",
    "\n",
    "    # for section, options in config_required.items():\n",
    "\n",
    "    if update_config:\n",
    "        try:\n",
    "            logger.debug('updating configuration file at: {}'.format(cfgfile))\n",
    "            configuration.create_config(cfgfile, config)\n",
    "        except Exception as e:\n",
    "            logger.error(e)\n",
    "            \n",
    "    return(config)"
   ]
  },
  {
   "cell_type": "code",
   "execution_count": 30,
   "metadata": {
    "collapsed": true,
    "deletable": true,
    "editable": true
   },
   "outputs": [],
   "source": [
    "def getTeamDrive(myDrive):\n",
    "    '''\n",
    "    menu driven interaction for choosing a writeable team drive\n",
    "    '''\n",
    "    #available and writeable team drives\n",
    "    logger = logging.getLogger(__name__)\n",
    "    try:\n",
    "        teamdrives_all = myDrive.listTeamDrives()\n",
    "    except Exception as e:\n",
    "        logger.error(e)\n",
    "    \n",
    "    if len(teamdrives_all) < 1:\n",
    "        logger.warn('no writeable team drives found for this user')\n",
    "        return(None)\n",
    "    \n",
    "    teamdrives_writeable = {}\n",
    "    for drive in teamdrives_all:\n",
    "        if drive['capabilities']['canAddChildren']:\n",
    "            teamdrives_writeable[drive['name']] = drive\n",
    "    \n",
    "    teamdrive = None\n",
    "    \n",
    "    try:\n",
    "        teamdrive_name = prompts.prompt_for_choice(choices=teamdrives_writeable, default=None)\n",
    "        teamdrive=teamdrives_writeable[teamdrive_name]\n",
    "    except prompts.TooManyInvalidReplies as e:\n",
    "        logger.warning('user failed to make a choice')\n",
    "    \n",
    "    return(teamdrive)"
   ]
  },
  {
   "cell_type": "code",
   "execution_count": 31,
   "metadata": {
    "collapsed": true,
    "deletable": true,
    "editable": true
   },
   "outputs": [],
   "source": [
    "def getPortfolioFolder(myDrive):\n",
    "    '''\n",
    "    menu driven interaction to locate and choose portfolio folder on team drive\n",
    "    \n",
    "    returns:\n",
    "        folder (dictionary) - google drive object properties dictionary\n",
    "    '''\n",
    "    logger = logging.getLogger(__name__)\n",
    "    logger.info('starting search for portfolio folder in teamdrive: {}; {}'.format(teamdriveName, teamdriveID))\n",
    "    \n",
    "    foldersearch = ''\n",
    "    attempt = 5\n",
    "    while (len(foldersearch) <= 0) and (attempt > 0):\n",
    "        attempt -= 1\n",
    "        foldersearch = prompts.prompt_for_input(question='Please enter a portion of the portfolio folder name (case insensitive): ',\n",
    "                                                default=None, strip=True)\n",
    "        if len(foldersearch) <= 0:\n",
    "            print 'Nothing entered. {} attempts remain.'.format(attempt)\n",
    "            \n",
    "        searchresult = myDrive.search(name=foldersearch, fuzzy=True, teamdrive = teamdriveID, mimeType='folder')\n",
    "        if len(searchresult['files']) <= 0:\n",
    "            print 'No folders contained \"{}\"'.format(foldersearch)\n",
    "            print 'Please try entering only part of the folder name'\n",
    "            foldersearch = ''\n",
    "            \n",
    "    \n",
    "    \n",
    "    if foldersearch <= 0:\n",
    "        logger.warn('user entered 0 length string for folder search')\n",
    "        return(None)\n",
    "    \n",
    "    \n",
    "    foldernames = []\n",
    "    for each in searchresult['files']:\n",
    "        foldernames.append(each['name'])\n",
    "    \n",
    "    try:\n",
    "        foldername = prompts.prompt_for_choice(choices=foldernames)\n",
    "    except prompts.TooManyInvalidReplies as e:\n",
    "        logger.warning('user failed to make a choice')\n",
    "        return(None)\n",
    "    \n",
    "    return(searchresult['files'][foldernames.index(foldername)])\n",
    "    "
   ]
  },
  {
   "cell_type": "code",
   "execution_count": 32,
   "metadata": {
    "collapsed": true,
    "deletable": true,
    "editable": true
   },
   "outputs": [],
   "source": [
    "def getPathfromList(list_path=['~/'], message='Choose from the paths below', default=None):\n",
    "    '''\n",
    "    menu driven interaction to select path \n",
    "    accepts:\n",
    "        list_path (list) - list of paths to display\n",
    "        messager (string) - message to display\n",
    "        default (string) - default choice (must be one of the items in the list otherwise defaults to None)\n",
    "    \n",
    "    returns:\n",
    "        searchPath (string) - valid and existing path\n",
    "    '''\n",
    "    logger = logging.getLogger(__name__)\n",
    "    logger.debug('path list: {}'.format(list_path))\n",
    "    searchPath = None\n",
    "    list_path = sorted(list_path)\n",
    "    list_path.append('OTHER')\n",
    "    \n",
    "    if default not in list_path:\n",
    "        logging.warn('default ({}) not in list; setting default = None'.format(default))\n",
    "        default = None\n",
    "    \n",
    "    if message:\n",
    "        print message\n",
    "    searchPath = prompts.prompt_for_choice(choices=list_path, default=default)\n",
    "    logger.debug('searchPath = {}'.format(searchPath))\n",
    "    \n",
    "    if not searchPath is 'OTHER':\n",
    "        searchPath = os.path.expanduser(searchPath)\n",
    "    else:\n",
    "        attempt = 5\n",
    "        searchPath = None\n",
    "        while not searchPath and attempt > 0:\n",
    "            logger.debug('attempts remaining: {}'.format(attempt))\n",
    "            attempt -= 1\n",
    "            searchPath = prompts.prompt_for_input('Please type the complete path to use: ')\n",
    "            logger.debug('searchPath = {}'.format(searchPath))         \n",
    "    \n",
    "    if len(searchPath) < 1:\n",
    "        searchPath = None\n",
    "    return (searchPath) "
   ]
  },
  {
   "cell_type": "code",
   "execution_count": 33,
   "metadata": {
    "collapsed": true,
    "deletable": true,
    "editable": true
   },
   "outputs": [],
   "source": [
    "def getFiles(path='~/', pattern='.*', ignorecase=True):\n",
    "    '''\n",
    "    search path for files matching pattern (regular expression)\n",
    "    accepts:\n",
    "        path (string) - path to search\n",
    "        pattern (string) - regular expression to search for in file names\n",
    "        ignorecase (bool) - defaults to True, ignore file name case'''\n",
    "    logger = logging.getLogger(__name__)\n",
    "    \n",
    "    path = os.path.expanduser(path+'/*')\n",
    "    logger.debug('Path: {}, glob pattern: {}, ignorecase: {}'.format(path, pattern, ignorecase))\n",
    "    \n",
    "    flags = re.IGNORECASE\n",
    "    files = []\n",
    "        \n",
    "    if ignorecase:\n",
    "        for eachfile in [f for f in glob(path) if re.match(pattern, f, flags=flags)]:\n",
    "            files.append(eachfile)\n",
    "    \n",
    "    if not ignorecase:\n",
    "        for eachfile in [f for f in glob(path) if re.match(pattern, f)]:\n",
    "            files.append(eachfile)        \n",
    "    \n",
    "    return(files)"
   ]
  },
  {
   "cell_type": "code",
   "execution_count": 34,
   "metadata": {
    "collapsed": true,
    "deletable": true,
    "editable": true
   },
   "outputs": [],
   "source": [
    "def chooseFile(path='~/', pattern='.*', ignorecase=True, message='Please choose a file from the list'):\n",
    "    '''\n",
    "    menu interaction for choose a file in the specified path from the file glob created using a regex pattern\n",
    "    accepts:\n",
    "        path (string) - path to search\n",
    "        pattern (string) - regular expression to search for in file names\n",
    "        ignorecase (bool) - defaults to True, ignore file name case\n",
    "        message(string) - message to show\n",
    "    returns:\n",
    "        selection (string) - selected file'''\n",
    "    \n",
    "    logger = logging.getLogger(__name__)\n",
    "    filelist = getFiles(path=path, pattern=pattern, ignorecase=ignorecase)\n",
    "    logger.debug('filelist: {}'.format(filelist))\n",
    "    print message\n",
    "    selection = prompts.prompt_for_choice(choices=filelist)\n",
    "    return(selection)"
   ]
  },
  {
   "cell_type": "code",
   "execution_count": 35,
   "metadata": {
    "collapsed": true,
    "deletable": true,
    "editable": true
   },
   "outputs": [],
   "source": [
    "def fileToList(inputfile):\n",
    "    logger = logging.getLogger(__name__)\n",
    "    logger.debug('inputfile = {}'.format(inputfile))\n",
    "    outputlist = []\n",
    "    \n",
    "    try:\n",
    "        with open(inputfile, 'r') as fhandle:\n",
    "            logger.debug('reading file: {}'.format(inputfile))\n",
    "            for line in fhandle:\n",
    "                outputlist.append(line.strip('\\n'))\n",
    "    except IOError as e:\n",
    "        logger.debug(e)\n",
    "    return(outputlist)"
   ]
  },
  {
   "cell_type": "code",
   "execution_count": 36,
   "metadata": {
    "collapsed": true,
    "deletable": true,
    "editable": true
   },
   "outputs": [],
   "source": [
    "def mapHeaders(file_csv, expected_headers=[]):\n",
    "    '''map an expected list of header values to their position in a csv\n",
    "    accepts:\n",
    "        file_csv (csv.reader object) \n",
    "        expected_headers (list) - list of headers to search for, ignoring all others\n",
    "    '''\n",
    "    logger = logging.getLogger(__name__)\n",
    "    logger.debug('mapping headers')\n",
    "    \n",
    "    missing_headers = []\n",
    "    headerMap = {} \n",
    "    \n",
    "    try:\n",
    "        csvHeader = file_csv[0]\n",
    "    except IndexError as e:\n",
    "        logging.error('csv empty: {}'.format(e))\n",
    "        return(None)\n",
    "    \n",
    "    for each in expected_headers:\n",
    "        if each not in csvHeader:\n",
    "            missing_headers.append(each)\n",
    "    \n",
    "    headerMap['missingheaders'] = missing_headers\n",
    "    \n",
    "    headerMap['headers'] = {}\n",
    "\n",
    "    if len(missing_headers) > 0:\n",
    "        logging.warn('missing headers: {}'.format(missing_headers))\n",
    "    for index, value in enumerate(csvHeader):\n",
    "        if value in expected_headers:\n",
    "            headerMap['headers'][value] = index\n",
    "    logger.debug('successfully maped headers')\n",
    "    return(headerMap)"
   ]
  },
  {
   "cell_type": "code",
   "execution_count": 38,
   "metadata": {
    "collapsed": false,
    "deletable": true,
    "editable": true
   },
   "outputs": [
    {
     "name": "stdout",
     "output_type": "stream",
     "text": [
      "\n",
      "\n",
      "\n",
      "\n",
      "You *may* be directed to a google web page that asks you to authorize this applicaiton.\n",
      "Please choose an ASH account and authorize this applicaiton.\n",
      "When you are done, please close the newly created tab in your web browser and return to this window.\n",
      "\n",
      " Would you like to proceed? [Y/n] \n"
     ]
    },
    {
     "name": "stderr",
     "output_type": "stream",
     "text": [
      "\n"
     ]
    },
    {
     "name": "stdout",
     "output_type": "stream",
     "text": [
      "Please choose which folder contains the Student Export File.\n",
      "\n",
      "  1. ~/Desktop\n",
      "  2. ~/Downloads (default choice)\n",
      "  3. OTHER\n",
      " \n",
      " Enter your choice as a number or unique substring (Control-C aborts): 2\n"
     ]
    },
    {
     "name": "stderr",
     "output_type": "stream",
     "text": [
      "\n"
     ]
    },
    {
     "name": "stdout",
     "output_type": "stream",
     "text": [
      "Please choose a file from the list\n",
      "\n",
      "  1. /Users/aaronciuffo/Downloads/student.export (1).text\n",
      "  2. /Users/aaronciuffo/Downloads/student.export (2).text\n",
      "  3. /Users/aaronciuffo/Downloads/student.export (3).text\n",
      "  4. /Users/aaronciuffo/Downloads/student.export (4).text\n",
      "  5. /Users/aaronciuffo/Downloads/student.export.text\n",
      "  6. /Users/aaronciuffo/Downloads/student_export.text\n",
      "  7. /Users/aaronciuffo/Downloads/Student_Export.txt\n",
      " \n",
      " Enter your choice as a number or unique substring (Control-C aborts): 4\n"
     ]
    },
    {
     "name": "stderr",
     "output_type": "stream",
     "text": [
      "\n"
     ]
    },
    {
     "name": "stdout",
     "output_type": "stream",
     "text": [
      "\n",
      "Curent Configuration:\n",
      "[Main]\n",
      "credentials = ~/.config/portfolio_creator/credentials/\n",
      "teamdrivename = IT Blabla\n",
      "teamdriveid = 0ACLfU8KeD_BHUk9PVA\n",
      "foldername = Portfolios\n",
      "folderid = 1-D7UNBes_skfkQ6oBettiBICiBcZmbvn\n",
      "studentexport = /Users/aaronciuffo/Downloads/student.export (4).text\n",
      "\n",
      " Continue with the configuration above? [y/n] \n"
     ]
    },
    {
     "name": "stderr",
     "output_type": "stream",
     "text": [
      "\n",
      " Error: Please enter 'yes' or 'no' (there's no default choice).\n"
     ]
    },
    {
     "name": "stdout",
     "output_type": "stream",
     "text": [
      "\n",
      " Continue with the configuration above? [y/n] y\n"
     ]
    },
    {
     "name": "stderr",
     "output_type": "stream",
     "text": [
      "\n"
     ]
    }
   ],
   "source": [
    "version = '00.00 - 18.08.13'\n",
    "appName = 'portfolio_creator'\n",
    "\n",
    "cfgfile = appName+'.ini'\n",
    "cfgpath = os.path.join('~/.config/', appName)\n",
    "cfgfile = os.path.expanduser(os.path.join(cfgpath, cfgfile))\n",
    "\n",
    "studentexport_list = ['~/Downloads', '~/Desktop']\n",
    "studentexport = None\n",
    "studentexport_path = None\n",
    "\n",
    "\n",
    "downloadlink = 'https://foo.foof.foo'\n",
    "\n",
    "\n",
    "updateConfig = False\n",
    "\n",
    "\n",
    "logger = logging.getLogger(__name__)\n",
    "setup_logging(default_level=logging.WARN)\n",
    "logging.info('===Starting {} Log==='.format(appName))\n",
    "\n",
    "myConfig = getConfiguration(cfgfile)\n",
    "\n",
    "teamdriveName = '**UNKNOWN**'\n",
    "\n",
    "####### set all config options \n",
    "if myConfig.has_option('Main', 'credentials'):\n",
    "    credential_store = os.path.expanduser(myConfig.get('Main', 'credentials'))\n",
    "else:\n",
    "    credential_store = os.path.expanduser(os.path.join(cfgpath, 'credentials'))\n",
    "    updateConfig = True\n",
    "\n",
    "if myConfig.has_option('Main', 'teamdriveid'):\n",
    "    teamdriveID = myConfig.get('Main', 'teamdriveid')\n",
    "else:\n",
    "    teamdriveID = None\n",
    "    \n",
    "if myConfig.has_option('Main', 'teamdrivename'):\n",
    "    teamdriveName = myConfig.get('Main', 'teamdrivename')\n",
    "else:\n",
    "    teamdriveName = None\n",
    "    \n",
    "if myConfig.has_option('Main', 'folderid'):\n",
    "    folderID = myConfig.get('Main', 'folderid')\n",
    "else:\n",
    "    folderID = None\n",
    "\n",
    "if myConfig.has_option('Main', 'foldername'):\n",
    "    folderName = myConfig.get('Main', 'foldername')\n",
    "else:\n",
    "    folderName = None\n",
    "\n",
    "if myConfig.has_option('Main', 'gradefolders'):\n",
    "    gradefolders = myConfig.get('Main', 'gradefolders')\n",
    "else:\n",
    "    gradefolders = './gradefolders.txt'\n",
    "\n",
    "\n",
    "    \n",
    "if logging.getLogger().getEffectiveLevel() <= 10:\n",
    "    config_dict = {}\n",
    "    for section in myConfig.sections():\n",
    "        config_dict[section] = {}\n",
    "        for option in myConfig.options(section):\n",
    "            config_dict[section][option] = myConfig.get(section, option)\n",
    "\n",
    "    logger.debug('current configuration:')\n",
    "    logger.debug('\\n{}'.format(config_dict))\n",
    "\n",
    "# google drive authorization\n",
    "logging.info('checking google credentials')\n",
    "#### Add instructions before this shoots user over to a web authorization \n",
    "print '\\n'*3\n",
    "print 'You *may* be directed to a google web page that asks you to authorize this applicaiton.'\n",
    "print 'Please choose an ASH account with access to the portfolio folder team drive and authorize this applicaiton.'\n",
    "print 'When you are done, please close the newly created tab in your web browser and return to this window.'\n",
    "if not prompts.prompt_for_confirmation(question='Would you like to proceed?', default='y'):\n",
    "    print 'Exiting'\n",
    "    exit(0)\n",
    "    \n",
    "credential_store = os.path.expanduser(myConfig.get('Main', 'credentials'))\n",
    "\n",
    "# attempt to authorize using stored credentials or generate new credentials as needed\n",
    "try:\n",
    "    credentials = getCredentials(credential_store)\n",
    "except Exception as e:\n",
    "    logging.critical(e)\n",
    "\n",
    "# configure google drive object\n",
    "myDrive = googledrive(credentials)\n",
    "\n",
    "if not teamdriveID:\n",
    "    logger.warn('Team Drive ID missing')\n",
    "    try:\n",
    "        teamdrive = getTeamDrive(myDrive)\n",
    "    except GDriveError as e:\n",
    "        logging.error('Error accessing team drives: e')\n",
    "        exit(0)\n",
    "        \n",
    "    if not teamdrive:\n",
    "        logger.error('no team drives found')\n",
    "        logger.error('userinfo: {}'.format(myDrive.userinfo['emailAddress']))\n",
    "        print('No Team Drives located; cannot proceed.')\n",
    "        print('You are authenticated as: {}'.format(myDrive.userinfo['emailAddress']))\n",
    "        logger.error('exiting')\n",
    "        exit(0)\n",
    "        \n",
    "    try:\n",
    "        teamdriveID = teamdrive['id']\n",
    "        teamdriveName = teamdrive['name']\n",
    "    except (KeyError, TypeError) as e:\n",
    "        logger.error('no valid team drive information found: {}'.format(e))\n",
    "        logger.error('userinfo: {}'.format(myDrive.userinfo['emailAddress']))\n",
    "        print 'No Team Drive was found. Do you have write access to a Team Drive with this account?'\n",
    "        print 'You are authenticated as: {}'.format(myDrive.userinfo['emailAddress'])\n",
    "        logger.error('exiting')\n",
    "        exit(0)\n",
    "        \n",
    "    print 'Using Team Drive: {}'.format(teamdriveName)    \n",
    "    myConfig.set('Main', 'teamdriveid', teamdriveID)\n",
    "    myConfig.set('Main', 'teamdriveName', teamdriveName)\n",
    "    updateConfig = True\n",
    "    \n",
    "if not folderID:\n",
    "    logger.warn('Folder ID missing')\n",
    "    try:\n",
    "        folder = getPortfolioFolder(myDrive)\n",
    "    except GDriveError as e:\n",
    "        logger.error('Could not search for folder: {}'.format(e))\n",
    "        print ('There was a problem searching Team Drive for a folder')\n",
    "        print ('You are authenticated as: {}'.format(myDrive.userinfo['emailAddress']))\n",
    "        print ('If this is not correct do...')\n",
    "    try:\n",
    "        folderID = folder['id']\n",
    "        folderName = folder['name']\n",
    "    except (KeyError, TypeError) as e:\n",
    "        logger.error('no valid folder information found {}'.format(e))\n",
    "        logger.error('exiting')\n",
    "        exit(0)\n",
    "    \n",
    "    print 'Using Folder: {} on Team Drive: {}'.format(folderName, teamdriveName)\n",
    "    myConfig.set('Main', 'foldername', folderName)\n",
    "    myConfig.set('Main', 'folderid', folderID)\n",
    "    updateConfig=True\n",
    "\n",
    "if not os.path.exists(gradefolders):\n",
    "    logger.error('failed to locate {}'.format(gradefolders))\n",
    "    logger.error('exiting')\n",
    "    print 'gradefolders.txt file is missing. Please reinstall the application.'\n",
    "    print 'download link: {}'.format(downloadlink)\n",
    "    exit(0)\n",
    "\n",
    "# get the gradefolder file\n",
    "gradefolder_list = fileToList(gradefolders)\n",
    "\n",
    "# check validity of gradefolder\n",
    "if len(gradefolder_list) < 1:\n",
    "    print 'grade folder file is corrupt. Please reinstall the application'\n",
    "    exit(0)\n",
    "\n",
    "\n",
    "if updateConfig:\n",
    "    configuration.create_config(cfgfile, myConfig)\n",
    "\n",
    "\n",
    "# # get and validate path for student_export folder\n",
    "attempt = 5\n",
    "while not studentexport and (attempt > 0):\n",
    "    logger.debug('remaining attempts to locate student export: {}'.format(attempt))\n",
    "    attempt -= 1\n",
    "    if not studentexport:\n",
    "        # invoke menu for prompting user to choose a path to the studentexport file\n",
    "        studentexport_path = getPathfromList(studentexport_list, \n",
    "                                             message='Please choose which folder contains the Student Export File.',\n",
    "                                             default=studentexport_list[0])\n",
    "    \n",
    "    # move this pattern into the configuration file? \n",
    "    studentexport = chooseFile(path=studentexport_path, pattern='.*student.*export.*')\n",
    "    logger.debug('student export file chosen: {}'.format(studentexport))\n",
    "    if not os.access(studentexport, os.R_OK):\n",
    "        print 'Could not read file: {}. Please choose another file'.format(studentexport)\n",
    "        logger.error('file is unreadable: {}'.format(studentexport))\n",
    "        studentexport = None\n",
    "\n",
    "#TO DO - this looks odd. it appears that studentexport is pulled twice but unused.\n",
    "# try commenting this entire block out. It does not look right.\n",
    "if not studentexport:\n",
    "    logger.error('no student export file; exiting')\n",
    "    print 'Cannot proceed without a student export file. Exiting'\n",
    "    exit(0)\n",
    "else:\n",
    "    myConfig.set('Main', 'studentexport', studentexport)\n",
    "    studentexport_list = fileToList(studentexport)\n",
    "        \n",
    "logger.debug('Student export file: {}'.format(studentexport))\n",
    "\n",
    "# read the studentexport text file into a csv object\n",
    "studentexport_csv = []\n",
    "try: \n",
    "    with open(studentexport, 'rU') as csvfile:\n",
    "        csvreader = csv.reader(csvfile)\n",
    "        for row in csvreader:\n",
    "            studentexport_csv.append(row)\n",
    "except (OSError, IOError) as e:\n",
    "    logging.critical('error reading file: {}\\n{}'.format(studentexport,e))\n",
    "    print 'Could not read file: {}; exiting.'.format(studentexport)\n",
    "    exit(0)\n",
    "\n",
    "# parse and check validity of student export file\n",
    "expected_headers = ['ClassOf', 'Student_Number', 'LastFirst']\n",
    "headerMap = mapHeaders(file_csv=studentexport_csv, expected_headers=expected_headers)\n",
    "\n",
    "if not headerMap or (len(headerMap['headers']) != len(expected_headers)):\n",
    "    logging.error('cannot continue without valid header map; exiting')\n",
    "    print('file: {} appears to not contain the expected header row (in any order): {}'.format(studentexport, expected_headers))\n",
    "    if headerMap['missingheaders']:\n",
    "        print('your file appears to be missing the field(s): {}'.format(headerMap['missingheaders']))\n",
    "    print('please try to download a new student.export file before trying again; exiting')\n",
    "#     exit(0)\n",
    "\n",
    "logger.debug('asking to proceed with current configuration')\n",
    "print '\\nCurent Configuration:'\n",
    "for section in myConfig.sections():\n",
    "    print '[{}]'.format(section)\n",
    "    for option in myConfig.options(section):\n",
    "        print '{} = {}'.format(option, myConfig.get(section, option))\n",
    "if not prompts.prompt_for_confirmation('Continue with the configuration above?'):\n",
    "    logger.debug('user chose to exit')\n",
    "    exit(0)\n",
    "    \n",
    "# start processing the student export file"
   ]
  },
  {
   "cell_type": "code",
   "execution_count": 39,
   "metadata": {
    "collapsed": true,
    "deletable": true,
    "editable": true
   },
   "outputs": [],
   "source": [
    "def checkFolder(folderID, myDrive):\n",
    "    '''\n",
    "    Checks properties of a folder id\n",
    "\n",
    "    returns:\n",
    "        tuple(isFolder (bool), writeable(bool), properties(dict)) - false if no match\n",
    "    \n",
    "    '''\n",
    "    logger = logging.getLogger(__name__)\n",
    "    logger.debug('checking folder id: {}'.format(folderID))\n",
    "    props = None\n",
    "    isFolder = False\n",
    "    writeable = False\n",
    "    try:\n",
    "        logger.debug('checking properties for ID: {}'.format(folderID))\n",
    "        props = myDrive.getprops(folderID, 'capabilities, mimeType, name')\n",
    "    except GDriveError as e:\n",
    "        logger.error('failed to get properties for {}; {}'.format(folderID, e))\n",
    "        logger.error('please try again. if this error persists, please try reconfiguring the folder')\n",
    "        logger.error('cannot continue; exiting')\n",
    "    \n",
    "    try:\n",
    "        if props['mimeType'] == myDrive.mimeTypes['folder']:\n",
    "            isFolder = True\n",
    "            logger.debug('this ID is a folder')\n",
    "        if props['capabilities']['canAddChildren']:\n",
    "            writeable = True\n",
    "            logger.debug('this ID is a writable folder')\n",
    "        else:\n",
    "            logger.debug('this ID is not a writable folder')\n",
    "    except (KeyError, TypeError) as e:\n",
    "        pass\n",
    "    \n",
    "    if not props:\n",
    "        logger.warn('this ID is not a folder')\n",
    "                \n",
    "    return(isFolder, writeable, props)"
   ]
  },
  {
   "cell_type": "code",
   "execution_count": 140,
   "metadata": {
    "collapsed": false,
    "deletable": true,
    "editable": true
   },
   "outputs": [],
   "source": [
    "def createFolders(myDrive, parentFolder, teamdriveID, studentexport_csv, header_map):\n",
    "    '''\n",
    "    create folders on google drive if they do not exist\n",
    "    \n",
    "    accepts:\n",
    "        myDrive(googleDrive object)\n",
    "        folderid (string) - folder id string\n",
    "        folders (list) - list of folder names\n",
    "    \n",
    "    returns:\n",
    "        folderinfo (dict) - {folder name: folder url, or None for failures}\n",
    "    '''\n",
    "    logger = logging.getLogger(__name__)\n",
    "    logger.debug('creating folders at gdrive path: {}'.format(folderID))\n",
    "    \n",
    "    #TO DO: wtf is this?\n",
    "    myDrive.getprops\n",
    "    \n",
    "    studentFolders = {}\n",
    "    classOfFolders = {}\n",
    "    classOf_string = 'Class Of-'\n",
    "    \n",
    "    \n",
    "    # Define progress bar widgets for consistent look and feel\n",
    "    widgets = ['Checking: ', Percentage(), ' ',\n",
    "               Bar(marker='=',left='[',right=']'), \n",
    "               ' Processed ', Counter(),\n",
    "               ' ', ETA()]\n",
    "\n",
    "    \n",
    "    # check that google drive parent folder exists and is a folder\n",
    "    logger.debug('checking that portfolio folder exists and is writeable: {}'.format(parentFolder))\n",
    "    try:\n",
    "        folder_check = checkFolder(parentFolder, myDrive)\n",
    "    except Exception as e:\n",
    "        logger.error('fatal error: {}'.format(e))\n",
    "        return(None)\n",
    "    if all(folder_check):\n",
    "        logger.debug('folder is OK')\n",
    "    else:\n",
    "        if not folder_check[1]:\n",
    "            print 'The portfolio folder you selected is not writeable'\n",
    "            logger.error('{} not writeable'.format(parentFolder))\n",
    "            return(None)\n",
    "        if folder_check[2]['mimeType'] != myDrive.mimeTypes['folder']:\n",
    "            print 'It appears you have not selected a valid folder. Please consider reconfiguring.'\n",
    "            logger.error('{} not a folder'.format(parentFolder))\n",
    "            return(None)\n",
    "    \n",
    "    # gather all unique and classOf rows from csv and build dictionaries\n",
    "    logger.debug('gathering \"Class Of\" folders from student export file')\n",
    "  \n",
    "    # build dictionaries \n",
    "    for student in studentexport_csv[1:]:\n",
    "        classOf = student[headerMap['headers']['ClassOf']]\n",
    "        studentNumber = student[headerMap['headers']['Student_Number']]\n",
    "        \n",
    "        classOfFolders[classOf] = {}\n",
    "        classOfFolders[classOf]['name'] = classOf_string + classOf\n",
    "    \n",
    "    logger.debug('{} \"Class Of\" folders found in student export file'.format(len(classOfFolders)))\n",
    "    \n",
    "    # check for existence of Class Of folders and create if they are missing\n",
    "    logger.debug('checking for existing \"Class Of\" folders in google drive')\n",
    "    \n",
    "    # init progress bar for class of folders \n",
    "    print 'Checking for or creating {} \"Class Of-\" folders in portfolio folder'.format(len(classOfFolders))\n",
    "    pbar = ProgressBar(widgets=widgets, maxval=len(classOfFolders))\n",
    "    pbar.start()\n",
    "    pbar_index = 0\n",
    "    \n",
    "    for eachClass in classOfFolders.keys():\n",
    "        # update the progress bar\n",
    "        pbar.update(pbar_index)\n",
    "        pbar_index += 1\n",
    "        \n",
    "        # assume folder needs to be created\n",
    "        createfolder=True\n",
    "        folder_name = classOfFolders[eachClass]['name']\n",
    "                \n",
    "        result = {}\n",
    "        try:\n",
    "            result = myDrive.search(name=folder_name, mimeType='folder', \n",
    "                                   teamdrive=teamdriveID, trashed=False,\n",
    "                                   fields='name, createdTime, mimeType, parents, properties, id',\n",
    "                                   orderBy='createdTime')     \n",
    "        except GDriveError as e:\n",
    "            logger.error('failed to find folder: {}'.format(e))\n",
    "        else:\n",
    "            return None\n",
    "            \n",
    "        # check for a valid files return, use the first entry\n",
    "        if result.has_key('files'):\n",
    "            if len(result['files']) > 0:\n",
    "                logger.debug('folder found; checking if valid and wirteable')\n",
    "                \n",
    "                try: \n",
    "                    if all(checkFolder(result['files'][0]['id'], myDrive)):\n",
    "                        logger.debug('folder OK')\n",
    "                        classOfFolders[eachClass] = result['files'][0]\n",
    "                        createfolder=False\n",
    "                except Exception as e:\n",
    "                    logger.error('fatal error: {}'.format(e))\n",
    "                    \n",
    "            if len(result['files']) > 1:\n",
    "                logger.debug('{} {} folders found. Using the oldest.'.format(len(result['files']), folder_name))\n",
    "                print 'there are multiple folders with the name {}; consider deleting the uneeded folders.'.format(folder_name)\n",
    "                    \n",
    "        if createfolder:\n",
    "            logger.debug('creating folder: {}'.format(folder_name))\n",
    "            try:\n",
    "                result = myDrive.add(name=folder_name, parents=parentFolder, mimeType='folder')\n",
    "            except GDriveError as e:\n",
    "                logger.error('failed to create folder {} with error {}'.format(folder_name, e))\n",
    "                classOfFolders[eachClass] = None\n",
    "                continue\n",
    "            else:\n",
    "                return None\n",
    "            \n",
    "            # check for a result from the creation and record it\n",
    "            if any(result):\n",
    "                classOfFolders[eachClass] = result\n",
    "            else:\n",
    "                classOfFolders[eachClass] = None\n",
    "                \n",
    "                \n",
    "#         # record the information from the created folder\n",
    "#         if len(result['files']) > 0:\n",
    "#             classOfFolders[eachClass] = result['files'][0]\n",
    "#         else:\n",
    "#             classOfFolders[eachClass] = None\n",
    "\n",
    "    # finish updating the pbar for Class Of- Folders\n",
    "    pbar.finish()\n",
    "    print 'Completed\\n'\n",
    "\n",
    "    # create student folders within the class of folders\n",
    "    # init progress bar for class of folders \n",
    "    print 'Checking for or creating {} student folders in \"Class Of-\" folders'.format(len(studentexport_csv)-1)\n",
    "    pbar = ProgressBar(widgets=widgets, maxval=len(studentexport_csv)-1)\n",
    "    pbar.start()\n",
    "    pbar_index = 0\n",
    "    \n",
    "    for student in studentexport_csv[1:]:\n",
    "        # update the progress bar\n",
    "        pbar.update(pbar_index)\n",
    "        pbar_index += 1\n",
    "        # start off assuming the folder needs to be created\n",
    "        create_folder = True\n",
    "        \n",
    "        classOf = student[headerMap['headers']['ClassOf']]\n",
    "        student_number = student[headerMap['headers']['Student_Number']]\n",
    "        student_LastFirst = student[headerMap['headers']['LastFirst']]\n",
    "        folder_name =  student_LastFirst + ' - ' + student_number\n",
    "        studentFolders[student_number] = {}\n",
    "\n",
    "        if classOfFolders[classOf]:\n",
    "            classOf_id = classOfFolders[classOf]['id']\n",
    "        else:\n",
    "            logger.error('missing data for parent folder: Class Of-{}; skipping student'.format(classOf))\n",
    "            studentFolders[student_number] = None\n",
    "            continue\n",
    "        \n",
    "        \n",
    "        # search for an existing folder\n",
    "        logger.debug('searching for folder {} with in Class Of-{}'.format(folder_name, classOf))\n",
    "        try:\n",
    "            result = myDrive.search(name=folder_name, parents=classOfFolders[classOf]['id'], \n",
    "                                    mimeType='folder',\n",
    "                                    teamdrive=teamdriveID,\n",
    "                                    fields='webViewLink, id, mimeType, name, parents')\n",
    "        except GDriveError as e:\n",
    "            logger.error('failed to search for folder {} with error {}'.format(folder_name, e))\n",
    "            studentFolders[student_number] = None\n",
    "            # stop processing here\n",
    "            continue\n",
    "        else:\n",
    "            return None\n",
    "\n",
    "        # check that a valid response was recieved, or skip over entry \n",
    "        try:\n",
    "            if result.has_key('files'):\n",
    "                pass\n",
    "        except AttributeError as e:\n",
    "            logger.warn('no valid information was returned for student: {}; see previous errors'.format(folder_name))\n",
    "            studentFolders[student_number] = None\n",
    "            # stop processing here\n",
    "            continue\n",
    "            \n",
    "        # check that folder exists and is OK\n",
    "        if len(result['files']) > 0:\n",
    "            logger.debug('folder exists, taking no action')\n",
    "            studentFolders[student_number] = result['files'][0]\n",
    "            create_folder = False\n",
    "        if len(result['files']) > 1:\n",
    "            print 'There are multiple folders for student: {}; please consolodate them'.format(folder_name)\n",
    "            create_folder = False\n",
    "            \n",
    "        \n",
    "        if create_folder:\n",
    "            logger.debug('creating folder: {}'.format(folder_name))\n",
    "            try:\n",
    "                result = myDrive.add(name=folder_name, parents=classOfFolders[classOf]['id'], mimeType='folder',\n",
    "                                    fields='name, webViewLink, id, mimeType')\n",
    "            except GDriveError as e:\n",
    "                logger.error('error creating folder {}: {}'.format(folder_name, e))\n",
    "                studentFolders[student_number] = None\n",
    "            \n",
    "            # check the result is OK and record it\n",
    "            if any(result):\n",
    "                studentFolders[student_number] = result\n",
    "            else:\n",
    "                studentFolders[student_number] = None\n",
    "                # stop processing here\n",
    "                continue\n",
    "            \n",
    "        # append the LastFirst field\n",
    "        studentFolders[student_number]['LastFirst'] = student_LastFirst\n",
    "\n",
    "    # finish updating the pbar for Class Of- Folders\n",
    "    pbar.finish()\n",
    "    print 'Completed\\n'\n",
    "        \n",
    "    return(studentFolders)"
   ]
  },
  {
   "cell_type": "code",
   "execution_count": 155,
   "metadata": {
    "collapsed": true
   },
   "outputs": [],
   "source": [
    "setup_logging(default_level=logging.DEBUG)\n"
   ]
  },
  {
   "cell_type": "code",
   "execution_count": 162,
   "metadata": {
    "collapsed": false,
    "deletable": true,
    "editable": true,
    "scrolled": false
   },
   "outputs": [
    {
     "name": "stdout",
     "output_type": "stream",
     "text": [
      "2018-09-23 11:31:14,862: [DEBUG: __main__.createFolders] creating folders at gdrive path: 1-D7UNBes_skfkQ6oBettiBICiBcZmbvn\n",
      "2018-09-23 11:31:14,864: [DEBUG: __main__.createFolders] checking that portfolio folder exists and is writeable: 1-D7UNBes_skfkQ6oBettiBICiBcZmbvn\n",
      "2018-09-23 11:31:14,864: [DEBUG: __main__.checkFolder] checking folder id: 1-D7UNBes_skfkQ6oBettiBICiBcZmbvn\n",
      "2018-09-23 11:31:14,865: [DEBUG: __main__.checkFolder] checking properties for ID: 1-D7UNBes_skfkQ6oBettiBICiBcZmbvn\n",
      "2018-09-23 11:31:14,866: [DEBUG: gdrive.gdrive.retry] attempt: 0\n",
      "2018-09-23 11:31:14,866: [DEBUG: gdrive.gdrive.getprops] files().get(fileId=1-D7UNBes_skfkQ6oBettiBICiBcZmbvn, fields=capabilities,mimeType,name)\n",
      "2018-09-23 11:31:14,872: [INFO: googleapiclient.discovery.method] URL being requested: GET https://www.googleapis.com/drive/v3/files/1-D7UNBes_skfkQ6oBettiBICiBcZmbvn?fields=capabilities%2CmimeType%2Cname&alt=json&supportsTeamDrives=true\n",
      "2018-09-23 11:31:15,137: [DEBUG: __main__.checkFolder] this ID is a folder\n",
      "2018-09-23 11:31:15,138: [DEBUG: __main__.checkFolder] this ID is a writable folder\n",
      "2018-09-23 11:31:15,139: [DEBUG: __main__.createFolders] folder is OK\n",
      "2018-09-23 11:31:15,140: [DEBUG: __main__.createFolders] gathering \"Class Of\" folders from student export file\n",
      "2018-09-23 11:31:15,140: [DEBUG: __main__.createFolders] 3 \"Class Of\" folders found in student export file\n",
      "2018-09-23 11:31:15,141: [DEBUG: __main__.createFolders] checking for existing \"Class Of\" folders in google drive\n"
     ]
    },
    {
     "name": "stderr",
     "output_type": "stream",
     "text": [
      "Checking:   0% [                                   ] Processed 0 ETA:  --:--:--\r"
     ]
    },
    {
     "name": "stdout",
     "output_type": "stream",
     "text": [
      "Checking for or creating 3 \"Class Of-\" folders in portfolio folder\n",
      "2018-09-23 11:31:15,142: [DEBUG: gdrive.gdrive.retry] attempt: 0\n",
      "2018-09-23 11:31:15,143: [DEBUG: gdrive.gdrive.search] apicall: files().list(q=name = \"Class Of-2027\" and trashed=False and mimeType=\"application/vnd.google-apps.folder\", orderBy=createdTime, fields=files(name,createdTime,mimeType,parents,properties,id)))\n",
      "2018-09-23 11:31:15,148: [INFO: googleapiclient.discovery.method] URL being requested: GET https://www.googleapis.com/drive/v3/files?orderBy=createdTime&includeTeamDriveItems=true&fields=files%28name%2CcreatedTime%2CmimeType%2Cparents%2Cproperties%2Cid%29&corpora=teamDrive&supportsTeamDrives=true&q=name+%3D+%22Class+Of-2027%22+and+trashed%3DFalse+and+mimeType%3D%22application%2Fvnd.google-apps.folder%22&teamDriveId=0ACLfU8KeD_BHUk9PVA&alt=json\n",
      "2018-09-23 11:31:15,395: [DEBUG: __main__.createFolders] folder found; checking if valid and wirteable\n",
      "2018-09-23 11:31:15,396: [DEBUG: __main__.checkFolder] checking folder id: 1XoAHGRJGbfC3wgaS6XgT6-SEYM7N-_2Q\n",
      "2018-09-23 11:31:15,396: [DEBUG: __main__.checkFolder] checking properties for ID: 1XoAHGRJGbfC3wgaS6XgT6-SEYM7N-_2Q\n",
      "2018-09-23 11:31:15,397: [DEBUG: gdrive.gdrive.retry] attempt: 0\n",
      "2018-09-23 11:31:15,398: [DEBUG: gdrive.gdrive.getprops] files().get(fileId=1XoAHGRJGbfC3wgaS6XgT6-SEYM7N-_2Q, fields=capabilities,mimeType,name)\n",
      "2018-09-23 11:31:15,403: [INFO: googleapiclient.discovery.method] URL being requested: GET https://www.googleapis.com/drive/v3/files/1XoAHGRJGbfC3wgaS6XgT6-SEYM7N-_2Q?fields=capabilities%2CmimeType%2Cname&alt=json&supportsTeamDrives=true\n",
      "2018-09-23 11:31:15,629: [DEBUG: __main__.checkFolder] this ID is a folder\n",
      "2018-09-23 11:31:15,630: [DEBUG: __main__.checkFolder] this ID is a writable folder\n",
      "2018-09-23 11:31:15,630: [DEBUG: __main__.createFolders] folder OK\n"
     ]
    },
    {
     "name": "stderr",
     "output_type": "stream",
     "text": [
      "Checking:  33% [============                        ] Processed 1 ETA:  0:00:00\r"
     ]
    },
    {
     "name": "stdout",
     "output_type": "stream",
     "text": [
      "2018-09-23 11:31:15,632: [DEBUG: gdrive.gdrive.retry] attempt: 0\n",
      "2018-09-23 11:31:15,633: [DEBUG: gdrive.gdrive.search] apicall: files().list(q=name = \"Class Of-2028\" and trashed=False and mimeType=\"application/vnd.google-apps.folder\", orderBy=createdTime, fields=files(name,createdTime,mimeType,parents,properties,id)))\n",
      "2018-09-23 11:31:15,638: [INFO: googleapiclient.discovery.method] URL being requested: GET https://www.googleapis.com/drive/v3/files?orderBy=createdTime&includeTeamDriveItems=true&fields=files%28name%2CcreatedTime%2CmimeType%2Cparents%2Cproperties%2Cid%29&corpora=teamDrive&supportsTeamDrives=true&q=name+%3D+%22Class+Of-2028%22+and+trashed%3DFalse+and+mimeType%3D%22application%2Fvnd.google-apps.folder%22&teamDriveId=0ACLfU8KeD_BHUk9PVA&alt=json\n",
      "2018-09-23 11:31:15,881: [DEBUG: __main__.createFolders] folder found; checking if valid and wirteable\n",
      "2018-09-23 11:31:15,882: [DEBUG: __main__.checkFolder] checking folder id: 1uP2rGlS5QAeh6ApaifMDb34sxZ6sN8WM\n",
      "2018-09-23 11:31:15,882: [DEBUG: __main__.checkFolder] checking properties for ID: 1uP2rGlS5QAeh6ApaifMDb34sxZ6sN8WM\n",
      "2018-09-23 11:31:15,883: [DEBUG: gdrive.gdrive.retry] attempt: 0\n",
      "2018-09-23 11:31:15,884: [DEBUG: gdrive.gdrive.getprops] files().get(fileId=1uP2rGlS5QAeh6ApaifMDb34sxZ6sN8WM, fields=capabilities,mimeType,name)\n",
      "2018-09-23 11:31:15,889: [INFO: googleapiclient.discovery.method] URL being requested: GET https://www.googleapis.com/drive/v3/files/1uP2rGlS5QAeh6ApaifMDb34sxZ6sN8WM?fields=capabilities%2CmimeType%2Cname&alt=json&supportsTeamDrives=true\n",
      "2018-09-23 11:31:16,108: [DEBUG: __main__.checkFolder] this ID is a folder\n",
      "2018-09-23 11:31:16,109: [DEBUG: __main__.checkFolder] this ID is a writable folder\n",
      "2018-09-23 11:31:16,109: [DEBUG: __main__.createFolders] folder OK\n"
     ]
    },
    {
     "name": "stderr",
     "output_type": "stream",
     "text": [
      "Checking:  66% [========================            ] Processed 2 ETA:  0:00:00\r"
     ]
    },
    {
     "name": "stdout",
     "output_type": "stream",
     "text": [
      "2018-09-23 11:31:16,111: [DEBUG: gdrive.gdrive.retry] attempt: 0\n",
      "2018-09-23 11:31:16,112: [DEBUG: gdrive.gdrive.search] apicall: files().list(q=name = \"Class Of-2029\" and trashed=False and mimeType=\"application/vnd.google-apps.folder\", orderBy=createdTime, fields=files(name,createdTime,mimeType,parents,properties,id)))\n",
      "2018-09-23 11:31:16,116: [INFO: googleapiclient.discovery.method] URL being requested: GET https://www.googleapis.com/drive/v3/files?orderBy=createdTime&includeTeamDriveItems=true&fields=files%28name%2CcreatedTime%2CmimeType%2Cparents%2Cproperties%2Cid%29&corpora=teamDrive&supportsTeamDrives=true&q=name+%3D+%22Class+Of-2029%22+and+trashed%3DFalse+and+mimeType%3D%22application%2Fvnd.google-apps.folder%22&teamDriveId=0ACLfU8KeD_BHUk9PVA&alt=json\n",
      "2018-09-23 11:31:16,322: [DEBUG: __main__.createFolders] folder found; checking if valid and wirteable\n",
      "2018-09-23 11:31:16,323: [DEBUG: __main__.checkFolder] checking folder id: 1WIGcKU0w9JDEYfADHSijduGuL2Yf06Nc\n",
      "2018-09-23 11:31:16,323: [DEBUG: __main__.checkFolder] checking properties for ID: 1WIGcKU0w9JDEYfADHSijduGuL2Yf06Nc\n",
      "2018-09-23 11:31:16,324: [DEBUG: gdrive.gdrive.retry] attempt: 0\n",
      "2018-09-23 11:31:16,325: [DEBUG: gdrive.gdrive.getprops] files().get(fileId=1WIGcKU0w9JDEYfADHSijduGuL2Yf06Nc, fields=capabilities,mimeType,name)\n",
      "2018-09-23 11:31:16,330: [INFO: googleapiclient.discovery.method] URL being requested: GET https://www.googleapis.com/drive/v3/files/1WIGcKU0w9JDEYfADHSijduGuL2Yf06Nc?fields=capabilities%2CmimeType%2Cname&alt=json&supportsTeamDrives=true\n",
      "2018-09-23 11:31:16,539: [DEBUG: __main__.checkFolder] this ID is a folder\n",
      "2018-09-23 11:31:16,540: [DEBUG: __main__.checkFolder] this ID is a writable folder\n",
      "2018-09-23 11:31:16,541: [DEBUG: __main__.createFolders] folder OK\n"
     ]
    },
    {
     "name": "stderr",
     "output_type": "stream",
     "text": [
      "Checking: 100% [====================================] Processed 3 Time: 0:00:01\n",
      "Checking:   0% [                                   ] Processed 0 ETA:  --:--:--\r"
     ]
    },
    {
     "name": "stdout",
     "output_type": "stream",
     "text": [
      "Completed\n",
      "\n",
      "Checking for or creating 14 student folders in \"Class Of-\" folders\n",
      "2018-09-23 11:31:16,544: [DEBUG: __main__.createFolders] searching for folder Abohaimed, Saud - 503868 with in Class Of-2028\n",
      "2018-09-23 11:31:16,544: [DEBUG: gdrive.gdrive.retry] attempt: 0\n",
      "2018-09-23 11:31:16,545: [DEBUG: gdrive.gdrive.search] apicall: files().list(q=name = \"Abohaimed, Saud - 503868\" and trashed=False and mimeType=\"application/vnd.google-apps.folder\" and \"1uP2rGlS5QAeh6ApaifMDb34sxZ6sN8WM\" in parents, orderBy=createdTime, fields=files(webViewLink,id,mimeType,name,parents)))\n",
      "2018-09-23 11:31:16,550: [INFO: googleapiclient.discovery.method] URL being requested: GET https://www.googleapis.com/drive/v3/files?orderBy=createdTime&includeTeamDriveItems=true&fields=files%28webViewLink%2Cid%2CmimeType%2Cname%2Cparents%29&corpora=teamDrive&supportsTeamDrives=true&q=name+%3D+%22Abohaimed%2C+Saud+-+503868%22+and+trashed%3DFalse+and+mimeType%3D%22application%2Fvnd.google-apps.folder%22+and+%221uP2rGlS5QAeh6ApaifMDb34sxZ6sN8WM%22+in+parents&teamDriveId=0ACLfU8KeD_BHUk9PVA&alt=json\n",
      "2018-09-23 11:31:16,819: [DEBUG: __main__.createFolders] folder exists, taking no action\n"
     ]
    },
    {
     "name": "stderr",
     "output_type": "stream",
     "text": [
      "Checking:   7% [==                                  ] Processed 1 ETA:  0:00:03\r"
     ]
    },
    {
     "name": "stdout",
     "output_type": "stream",
     "text": [
      "2018-09-23 11:31:16,821: [DEBUG: __main__.createFolders] searching for folder Al Baddah, Nouf - 504361 with in Class Of-2028\n",
      "2018-09-23 11:31:16,822: [DEBUG: gdrive.gdrive.retry] attempt: 0\n",
      "2018-09-23 11:31:16,823: [DEBUG: gdrive.gdrive.search] apicall: files().list(q=name = \"Al Baddah, Nouf - 504361\" and trashed=False and mimeType=\"application/vnd.google-apps.folder\" and \"1uP2rGlS5QAeh6ApaifMDb34sxZ6sN8WM\" in parents, orderBy=createdTime, fields=files(webViewLink,id,mimeType,name,parents)))\n",
      "2018-09-23 11:31:16,828: [INFO: googleapiclient.discovery.method] URL being requested: GET https://www.googleapis.com/drive/v3/files?orderBy=createdTime&includeTeamDriveItems=true&fields=files%28webViewLink%2Cid%2CmimeType%2Cname%2Cparents%29&corpora=teamDrive&supportsTeamDrives=true&q=name+%3D+%22Al+Baddah%2C+Nouf+-+504361%22+and+trashed%3DFalse+and+mimeType%3D%22application%2Fvnd.google-apps.folder%22+and+%221uP2rGlS5QAeh6ApaifMDb34sxZ6sN8WM%22+in+parents&teamDriveId=0ACLfU8KeD_BHUk9PVA&alt=json\n",
      "2018-09-23 11:31:17,102: [DEBUG: __main__.createFolders] folder exists, taking no action\n"
     ]
    },
    {
     "name": "stderr",
     "output_type": "stream",
     "text": [
      "Checking:  14% [=====                               ] Processed 2 ETA:  0:00:03\r"
     ]
    },
    {
     "name": "stdout",
     "output_type": "stream",
     "text": [
      "2018-09-23 11:31:17,104: [DEBUG: __main__.createFolders] searching for folder Alonso, Aldo - 504642 with in Class Of-2028\n",
      "2018-09-23 11:31:17,104: [DEBUG: gdrive.gdrive.retry] attempt: 0\n",
      "2018-09-23 11:31:17,105: [DEBUG: gdrive.gdrive.search] apicall: files().list(q=name = \"Alonso, Aldo - 504642\" and trashed=False and mimeType=\"application/vnd.google-apps.folder\" and \"1uP2rGlS5QAeh6ApaifMDb34sxZ6sN8WM\" in parents, orderBy=createdTime, fields=files(webViewLink,id,mimeType,name,parents)))\n",
      "2018-09-23 11:31:17,110: [INFO: googleapiclient.discovery.method] URL being requested: GET https://www.googleapis.com/drive/v3/files?orderBy=createdTime&includeTeamDriveItems=true&fields=files%28webViewLink%2Cid%2CmimeType%2Cname%2Cparents%29&corpora=teamDrive&supportsTeamDrives=true&q=name+%3D+%22Alonso%2C+Aldo+-+504642%22+and+trashed%3DFalse+and+mimeType%3D%22application%2Fvnd.google-apps.folder%22+and+%221uP2rGlS5QAeh6ApaifMDb34sxZ6sN8WM%22+in+parents&teamDriveId=0ACLfU8KeD_BHUk9PVA&alt=json\n",
      "2018-09-23 11:31:17,470: [DEBUG: __main__.createFolders] folder exists, taking no action\n"
     ]
    },
    {
     "name": "stderr",
     "output_type": "stream",
     "text": [
      "Checking:  21% [=======                             ] Processed 3 ETA:  0:00:03\r"
     ]
    },
    {
     "name": "stdout",
     "output_type": "stream",
     "text": [
      "2018-09-23 11:31:17,472: [DEBUG: __main__.createFolders] searching for folder Alotaibi, Hessa - 505096 with in Class Of-2028\n",
      "2018-09-23 11:31:17,473: [DEBUG: gdrive.gdrive.retry] attempt: 0\n",
      "2018-09-23 11:31:17,474: [DEBUG: gdrive.gdrive.search] apicall: files().list(q=name = \"Alotaibi, Hessa - 505096\" and trashed=False and mimeType=\"application/vnd.google-apps.folder\" and \"1uP2rGlS5QAeh6ApaifMDb34sxZ6sN8WM\" in parents, orderBy=createdTime, fields=files(webViewLink,id,mimeType,name,parents)))\n",
      "2018-09-23 11:31:17,479: [INFO: googleapiclient.discovery.method] URL being requested: GET https://www.googleapis.com/drive/v3/files?orderBy=createdTime&includeTeamDriveItems=true&fields=files%28webViewLink%2Cid%2CmimeType%2Cname%2Cparents%29&corpora=teamDrive&supportsTeamDrives=true&q=name+%3D+%22Alotaibi%2C+Hessa+-+505096%22+and+trashed%3DFalse+and+mimeType%3D%22application%2Fvnd.google-apps.folder%22+and+%221uP2rGlS5QAeh6ApaifMDb34sxZ6sN8WM%22+in+parents&teamDriveId=0ACLfU8KeD_BHUk9PVA&alt=json\n",
      "2018-09-23 11:32:12,199: [DEBUG: __main__.createFolders] folder exists, taking no action\n"
     ]
    },
    {
     "name": "stderr",
     "output_type": "stream",
     "text": [
      "Checking:  28% [==========                          ] Processed 4 ETA:  0:02:19\r"
     ]
    },
    {
     "name": "stdout",
     "output_type": "stream",
     "text": [
      "2018-09-23 11:32:12,200: [DEBUG: __main__.createFolders] searching for folder Alruwaili, Joury - 504857 with in Class Of-2028\n",
      "2018-09-23 11:32:12,201: [DEBUG: gdrive.gdrive.retry] attempt: 0\n",
      "2018-09-23 11:32:12,202: [DEBUG: gdrive.gdrive.search] apicall: files().list(q=name = \"Alruwaili, Joury - 504857\" and trashed=False and mimeType=\"application/vnd.google-apps.folder\" and \"1uP2rGlS5QAeh6ApaifMDb34sxZ6sN8WM\" in parents, orderBy=createdTime, fields=files(webViewLink,id,mimeType,name,parents)))\n",
      "2018-09-23 11:32:12,208: [INFO: googleapiclient.discovery.method] URL being requested: GET https://www.googleapis.com/drive/v3/files?orderBy=createdTime&includeTeamDriveItems=true&fields=files%28webViewLink%2Cid%2CmimeType%2Cname%2Cparents%29&corpora=teamDrive&supportsTeamDrives=true&q=name+%3D+%22Alruwaili%2C+Joury+-+504857%22+and+trashed%3DFalse+and+mimeType%3D%22application%2Fvnd.google-apps.folder%22+and+%221uP2rGlS5QAeh6ApaifMDb34sxZ6sN8WM%22+in+parents&teamDriveId=0ACLfU8KeD_BHUk9PVA&alt=json\n",
      "2018-09-23 11:32:12,491: [DEBUG: __main__.createFolders] folder exists, taking no action\n"
     ]
    },
    {
     "name": "stderr",
     "output_type": "stream",
     "text": [
      "Checking:  35% [============                        ] Processed 5 ETA:  0:01:40\r"
     ]
    },
    {
     "name": "stdout",
     "output_type": "stream",
     "text": [
      "2018-09-23 11:32:12,492: [DEBUG: __main__.createFolders] searching for folder Bartsch, Henry - 504647 with in Class Of-2028\n",
      "2018-09-23 11:32:12,493: [DEBUG: gdrive.gdrive.retry] attempt: 0\n",
      "2018-09-23 11:32:12,494: [DEBUG: gdrive.gdrive.search] apicall: files().list(q=name = \"Bartsch, Henry - 504647\" and trashed=False and mimeType=\"application/vnd.google-apps.folder\" and \"1uP2rGlS5QAeh6ApaifMDb34sxZ6sN8WM\" in parents, orderBy=createdTime, fields=files(webViewLink,id,mimeType,name,parents)))\n",
      "2018-09-23 11:32:12,499: [INFO: googleapiclient.discovery.method] URL being requested: GET https://www.googleapis.com/drive/v3/files?orderBy=createdTime&includeTeamDriveItems=true&fields=files%28webViewLink%2Cid%2CmimeType%2Cname%2Cparents%29&corpora=teamDrive&supportsTeamDrives=true&q=name+%3D+%22Bartsch%2C+Henry+-+504647%22+and+trashed%3DFalse+and+mimeType%3D%22application%2Fvnd.google-apps.folder%22+and+%221uP2rGlS5QAeh6ApaifMDb34sxZ6sN8WM%22+in+parents&teamDriveId=0ACLfU8KeD_BHUk9PVA&alt=json\n",
      "2018-09-23 11:32:12,782: [DEBUG: __main__.createFolders] folder exists, taking no action\n"
     ]
    },
    {
     "name": "stderr",
     "output_type": "stream",
     "text": [
      "Checking:  42% [===============                     ] Processed 6 ETA:  0:01:14\r"
     ]
    },
    {
     "name": "stdout",
     "output_type": "stream",
     "text": [
      "2018-09-23 11:32:12,783: [DEBUG: __main__.createFolders] searching for folder Benson, Logan - 504866 with in Class Of-2028\n",
      "2018-09-23 11:32:12,784: [DEBUG: gdrive.gdrive.retry] attempt: 0\n",
      "2018-09-23 11:32:12,785: [DEBUG: gdrive.gdrive.search] apicall: files().list(q=name = \"Benson, Logan - 504866\" and trashed=False and mimeType=\"application/vnd.google-apps.folder\" and \"1uP2rGlS5QAeh6ApaifMDb34sxZ6sN8WM\" in parents, orderBy=createdTime, fields=files(webViewLink,id,mimeType,name,parents)))\n",
      "2018-09-23 11:32:12,790: [INFO: googleapiclient.discovery.method] URL being requested: GET https://www.googleapis.com/drive/v3/files?orderBy=createdTime&includeTeamDriveItems=true&fields=files%28webViewLink%2Cid%2CmimeType%2Cname%2Cparents%29&corpora=teamDrive&supportsTeamDrives=true&q=name+%3D+%22Benson%2C+Logan+-+504866%22+and+trashed%3DFalse+and+mimeType%3D%22application%2Fvnd.google-apps.folder%22+and+%221uP2rGlS5QAeh6ApaifMDb34sxZ6sN8WM%22+in+parents&teamDriveId=0ACLfU8KeD_BHUk9PVA&alt=json\n",
      "2018-09-23 11:32:13,097: [DEBUG: __main__.createFolders] folder exists, taking no action\n"
     ]
    },
    {
     "name": "stderr",
     "output_type": "stream",
     "text": [
      "Checking:  50% [==================                  ] Processed 7 ETA:  0:00:56\r"
     ]
    },
    {
     "name": "stdout",
     "output_type": "stream",
     "text": [
      "2018-09-23 11:32:13,099: [DEBUG: __main__.createFolders] searching for folder Berland, Amelie - 503531 with in Class Of-2028\n",
      "2018-09-23 11:32:13,100: [DEBUG: gdrive.gdrive.retry] attempt: 0\n",
      "2018-09-23 11:32:13,101: [DEBUG: gdrive.gdrive.search] apicall: files().list(q=name = \"Berland, Amelie - 503531\" and trashed=False and mimeType=\"application/vnd.google-apps.folder\" and \"1uP2rGlS5QAeh6ApaifMDb34sxZ6sN8WM\" in parents, orderBy=createdTime, fields=files(webViewLink,id,mimeType,name,parents)))\n",
      "2018-09-23 11:32:13,106: [INFO: googleapiclient.discovery.method] URL being requested: GET https://www.googleapis.com/drive/v3/files?orderBy=createdTime&includeTeamDriveItems=true&fields=files%28webViewLink%2Cid%2CmimeType%2Cname%2Cparents%29&corpora=teamDrive&supportsTeamDrives=true&q=name+%3D+%22Berland%2C+Amelie+-+503531%22+and+trashed%3DFalse+and+mimeType%3D%22application%2Fvnd.google-apps.folder%22+and+%221uP2rGlS5QAeh6ApaifMDb34sxZ6sN8WM%22+in+parents&teamDriveId=0ACLfU8KeD_BHUk9PVA&alt=json\n",
      "2018-09-23 11:32:13,386: [DEBUG: __main__.createFolders] folder exists, taking no action\n"
     ]
    },
    {
     "name": "stderr",
     "output_type": "stream",
     "text": [
      "Checking:  57% [====================                ] Processed 8 ETA:  0:00:42\r"
     ]
    },
    {
     "name": "stdout",
     "output_type": "stream",
     "text": [
      "2018-09-23 11:32:13,388: [DEBUG: __main__.createFolders] searching for folder Bigge, Nathaniel - 504362 with in Class Of-2028\n",
      "2018-09-23 11:32:13,388: [DEBUG: gdrive.gdrive.retry] attempt: 0\n",
      "2018-09-23 11:32:13,389: [DEBUG: gdrive.gdrive.search] apicall: files().list(q=name = \"Bigge, Nathaniel - 504362\" and trashed=False and mimeType=\"application/vnd.google-apps.folder\" and \"1uP2rGlS5QAeh6ApaifMDb34sxZ6sN8WM\" in parents, orderBy=createdTime, fields=files(webViewLink,id,mimeType,name,parents)))\n",
      "2018-09-23 11:32:13,394: [INFO: googleapiclient.discovery.method] URL being requested: GET https://www.googleapis.com/drive/v3/files?orderBy=createdTime&includeTeamDriveItems=true&fields=files%28webViewLink%2Cid%2CmimeType%2Cname%2Cparents%29&corpora=teamDrive&supportsTeamDrives=true&q=name+%3D+%22Bigge%2C+Nathaniel+-+504362%22+and+trashed%3DFalse+and+mimeType%3D%22application%2Fvnd.google-apps.folder%22+and+%221uP2rGlS5QAeh6ApaifMDb34sxZ6sN8WM%22+in+parents&teamDriveId=0ACLfU8KeD_BHUk9PVA&alt=json\n",
      "2018-09-23 11:32:13,676: [DEBUG: __main__.createFolders] folder exists, taking no action\n"
     ]
    },
    {
     "name": "stderr",
     "output_type": "stream",
     "text": [
      "Checking:  64% [=======================             ] Processed 9 ETA:  0:00:31\r"
     ]
    },
    {
     "name": "stdout",
     "output_type": "stream",
     "text": [
      "2018-09-23 11:32:13,678: [DEBUG: __main__.createFolders] searching for folder Bishop, Josie - 504868 with in Class Of-2028\n",
      "2018-09-23 11:32:13,679: [DEBUG: gdrive.gdrive.retry] attempt: 0\n",
      "2018-09-23 11:32:13,680: [DEBUG: gdrive.gdrive.search] apicall: files().list(q=name = \"Bishop, Josie - 504868\" and trashed=False and mimeType=\"application/vnd.google-apps.folder\" and \"1uP2rGlS5QAeh6ApaifMDb34sxZ6sN8WM\" in parents, orderBy=createdTime, fields=files(webViewLink,id,mimeType,name,parents)))\n",
      "2018-09-23 11:32:13,685: [INFO: googleapiclient.discovery.method] URL being requested: GET https://www.googleapis.com/drive/v3/files?orderBy=createdTime&includeTeamDriveItems=true&fields=files%28webViewLink%2Cid%2CmimeType%2Cname%2Cparents%29&corpora=teamDrive&supportsTeamDrives=true&q=name+%3D+%22Bishop%2C+Josie+-+504868%22+and+trashed%3DFalse+and+mimeType%3D%22application%2Fvnd.google-apps.folder%22+and+%221uP2rGlS5QAeh6ApaifMDb34sxZ6sN8WM%22+in+parents&teamDriveId=0ACLfU8KeD_BHUk9PVA&alt=json\n",
      "2018-09-23 11:32:13,977: [DEBUG: __main__.createFolders] folder exists, taking no action\n"
     ]
    },
    {
     "name": "stderr",
     "output_type": "stream",
     "text": [
      "Checking:  71% [=========================          ] Processed 10 ETA:  0:00:22\r"
     ]
    },
    {
     "name": "stdout",
     "output_type": "stream",
     "text": [
      "2018-09-23 11:32:13,979: [DEBUG: __main__.createFolders] searching for folder Bogdaneris, Hugo - 504363 with in Class Of-2028\n",
      "2018-09-23 11:32:13,981: [DEBUG: gdrive.gdrive.retry] attempt: 0\n",
      "2018-09-23 11:32:13,982: [DEBUG: gdrive.gdrive.search] apicall: files().list(q=name = \"Bogdaneris, Hugo - 504363\" and trashed=False and mimeType=\"application/vnd.google-apps.folder\" and \"1uP2rGlS5QAeh6ApaifMDb34sxZ6sN8WM\" in parents, orderBy=createdTime, fields=files(webViewLink,id,mimeType,name,parents)))\n",
      "2018-09-23 11:32:13,986: [INFO: googleapiclient.discovery.method] URL being requested: GET https://www.googleapis.com/drive/v3/files?orderBy=createdTime&includeTeamDriveItems=true&fields=files%28webViewLink%2Cid%2CmimeType%2Cname%2Cparents%29&corpora=teamDrive&supportsTeamDrives=true&q=name+%3D+%22Bogdaneris%2C+Hugo+-+504363%22+and+trashed%3DFalse+and+mimeType%3D%22application%2Fvnd.google-apps.folder%22+and+%221uP2rGlS5QAeh6ApaifMDb34sxZ6sN8WM%22+in+parents&teamDriveId=0ACLfU8KeD_BHUk9PVA&alt=json\n",
      "2018-09-23 11:32:14,422: [DEBUG: __main__.createFolders] folder exists, taking no action\n"
     ]
    },
    {
     "name": "stderr",
     "output_type": "stream",
     "text": [
      "Checking:  78% [===========================        ] Processed 11 ETA:  0:00:15\r"
     ]
    },
    {
     "name": "stdout",
     "output_type": "stream",
     "text": [
      "2018-09-23 11:32:14,423: [DEBUG: __main__.createFolders] searching for folder Borg, William - 503955 with in Class Of-2028\n",
      "2018-09-23 11:32:14,424: [DEBUG: gdrive.gdrive.retry] attempt: 0\n",
      "2018-09-23 11:32:14,425: [DEBUG: gdrive.gdrive.search] apicall: files().list(q=name = \"Borg, William - 503955\" and trashed=False and mimeType=\"application/vnd.google-apps.folder\" and \"1uP2rGlS5QAeh6ApaifMDb34sxZ6sN8WM\" in parents, orderBy=createdTime, fields=files(webViewLink,id,mimeType,name,parents)))\n",
      "2018-09-23 11:32:14,430: [INFO: googleapiclient.discovery.method] URL being requested: GET https://www.googleapis.com/drive/v3/files?orderBy=createdTime&includeTeamDriveItems=true&fields=files%28webViewLink%2Cid%2CmimeType%2Cname%2Cparents%29&corpora=teamDrive&supportsTeamDrives=true&q=name+%3D+%22Borg%2C+William+-+503955%22+and+trashed%3DFalse+and+mimeType%3D%22application%2Fvnd.google-apps.folder%22+and+%221uP2rGlS5QAeh6ApaifMDb34sxZ6sN8WM%22+in+parents&teamDriveId=0ACLfU8KeD_BHUk9PVA&alt=json\n",
      "2018-09-23 11:32:14,705: [DEBUG: __main__.createFolders] folder exists, taking no action\n"
     ]
    },
    {
     "name": "stderr",
     "output_type": "stream",
     "text": [
      "Checking:  85% [==============================     ] Processed 12 ETA:  0:00:09\r"
     ]
    },
    {
     "name": "stdout",
     "output_type": "stream",
     "text": [
      "2018-09-23 11:32:14,707: [DEBUG: __main__.createFolders] searching for folder Sue, Sally - 000000 with in Class Of-2029\n",
      "2018-09-23 11:32:14,708: [DEBUG: gdrive.gdrive.retry] attempt: 0\n",
      "2018-09-23 11:32:14,709: [DEBUG: gdrive.gdrive.search] apicall: files().list(q=name = \"Sue, Sally - 000000\" and trashed=False and mimeType=\"application/vnd.google-apps.folder\" and \"1WIGcKU0w9JDEYfADHSijduGuL2Yf06Nc\" in parents, orderBy=createdTime, fields=files(webViewLink,id,mimeType,name,parents)))\n",
      "2018-09-23 11:32:14,714: [INFO: googleapiclient.discovery.method] URL being requested: GET https://www.googleapis.com/drive/v3/files?orderBy=createdTime&includeTeamDriveItems=true&fields=files%28webViewLink%2Cid%2CmimeType%2Cname%2Cparents%29&corpora=teamDrive&supportsTeamDrives=true&q=name+%3D+%22Sue%2C+Sally+-+000000%22+and+trashed%3DFalse+and+mimeType%3D%22application%2Fvnd.google-apps.folder%22+and+%221WIGcKU0w9JDEYfADHSijduGuL2Yf06Nc%22+in+parents&teamDriveId=0ACLfU8KeD_BHUk9PVA&alt=json\n",
      "2018-09-23 11:32:15,024: [DEBUG: __main__.createFolders] folder exists, taking no action\n"
     ]
    },
    {
     "name": "stderr",
     "output_type": "stream",
     "text": [
      "Checking:  92% [================================   ] Processed 13 ETA:  0:00:04\r"
     ]
    },
    {
     "name": "stdout",
     "output_type": "stream",
     "text": [
      "2018-09-23 11:32:15,026: [DEBUG: __main__.createFolders] searching for folder Washington, George - 001776 with in Class Of-2027\n",
      "2018-09-23 11:32:15,027: [DEBUG: gdrive.gdrive.retry] attempt: 0\n",
      "2018-09-23 11:32:15,028: [DEBUG: gdrive.gdrive.search] apicall: files().list(q=name = \"Washington, George - 001776\" and trashed=False and mimeType=\"application/vnd.google-apps.folder\" and \"1XoAHGRJGbfC3wgaS6XgT6-SEYM7N-_2Q\" in parents, orderBy=createdTime, fields=files(webViewLink,id,mimeType,name,parents)))\n",
      "2018-09-23 11:32:15,032: [INFO: googleapiclient.discovery.method] URL being requested: GET https://www.googleapis.com/drive/v3/files?orderBy=createdTime&includeTeamDriveItems=true&fields=files%28webViewLink%2Cid%2CmimeType%2Cname%2Cparents%29&corpora=teamDrive&supportsTeamDrives=true&q=name+%3D+%22Washington%2C+George+-+001776%22+and+trashed%3DFalse+and+mimeType%3D%22application%2Fvnd.google-apps.folder%22+and+%221XoAHGRJGbfC3wgaS6XgT6-SEYM7N-_2Q%22+in+parents&teamDriveId=0ACLfU8KeD_BHUk9PVA&alt=json\n",
      "2018-09-23 11:32:15,347: [DEBUG: __main__.createFolders] folder exists, taking no action\n"
     ]
    },
    {
     "name": "stderr",
     "output_type": "stream",
     "text": [
      "Checking: 100% [===================================] Processed 14 Time: 0:00:58\r"
     ]
    },
    {
     "name": "stdout",
     "output_type": "stream",
     "text": [
      "Completed\n",
      "\n"
     ]
    },
    {
     "name": "stderr",
     "output_type": "stream",
     "text": [
      "\n"
     ]
    }
   ],
   "source": [
    "# foo = createFolders(myDrive=myDrive, parentFolder='1Uzp9FFXNEc-_sO8ApVAaU08EY0ekmzwO', teamdriveID='0ADVhiLOX2_ufUk9PVA', studentexport_csv=studentexport_csv, header_map=headerMap )\n",
    "foo = createFolders(myDrive=myDrive, parentFolder=folderID, teamdriveID=teamdriveID, studentexport_csv=studentexport_csv, header_map=headerMap )\n",
    "\n"
   ]
  },
  {
   "cell_type": "code",
   "execution_count": 163,
   "metadata": {
    "collapsed": false,
    "deletable": true,
    "editable": true
   },
   "outputs": [
    {
     "name": "stdout",
     "output_type": "stream",
     "text": [
      "student not processed due to errors: 100000\n",
      "Please re-run the program with the same data. If this message appears again, please check the logs [[path to logs]]\n"
     ]
    }
   ],
   "source": [
    "foo['100000'] = None\n",
    "failures = 0\n",
    "for each in foo:\n",
    "    if not foo[each]:\n",
    "        print 'student not processed due to errors: {}'.format(each)\n",
    "        failures += 1\n",
    "if failures > 0:\n",
    "    print 'Please re-run the program with the same data. If this message appears again, please check the logs [[path to logs]]'"
   ]
  },
  {
   "cell_type": "code",
   "execution_count": 164,
   "metadata": {
    "collapsed": false
   },
   "outputs": [
    {
     "name": "stdout",
     "output_type": "stream",
     "text": [
      "{u'mimeType': u'application/vnd.google-apps.folder', u'name': u'Bigge, Nathaniel - 504362', u'webViewLink': u'https://drive.google.com/drive/folders/1Lhh85OUpV4-757B_DuoAkqXlI5EiIZFG', 'LastFirst': 'Bigge, Nathaniel', u'parents': [u'1uP2rGlS5QAeh6ApaifMDb34sxZ6sN8WM'], u'id': u'1Lhh85OUpV4-757B_DuoAkqXlI5EiIZFG'}\n"
     ]
    }
   ],
   "source": [
    "print foo['504362']"
   ]
  },
  {
   "cell_type": "code",
   "execution_count": 165,
   "metadata": {
    "collapsed": false
   },
   "outputs": [
    {
     "name": "stdout",
     "output_type": "stream",
     "text": [
      "shit:  100000\n",
      "['Bigge, Nathaniel', '504362', '<a href=https://drive.google.com/drive/folders/1Lhh85OUpV4-757B_DuoAkqXlI5EiIZFG>Student Portfolio for Bigge, Nathaniel</a>']\n",
      "['Washington, George', '001776', '<a href=https://drive.google.com/drive/folders/1DOlchPt0BjCGzTKIramTxImV0jXeICvj>Student Portfolio for Washington, George</a>']\n",
      "['Alotaibi, Hessa', '505096', '<a href=https://drive.google.com/drive/folders/1DUhbowJ3MUQlGmqoFYK55PLl4PPgNxMX>Student Portfolio for Alotaibi, Hessa</a>']\n",
      "['Sue, Sally', '000000', '<a href=https://drive.google.com/drive/folders/1n46pSRak26sPqoXZLXlGYKMY12uEv4g7>Student Portfolio for Sue, Sally</a>']\n",
      "['Borg, William', '503955', '<a href=https://drive.google.com/drive/folders/1aCpoXisr4znJCch_YfxH1KRGaUEbiZYI>Student Portfolio for Borg, William</a>']\n",
      "['Al Baddah, Nouf', '504361', '<a href=https://drive.google.com/drive/folders/1kt6_f2nJJ-AYmIfE1mplAJ0dcPzzqUKW>Student Portfolio for Al Baddah, Nouf</a>']\n",
      "['Abohaimed, Saud', '503868', '<a href=https://drive.google.com/drive/folders/1MOx1XiR5xOebS2aP_6T8BYnhmbhhKV8Q>Student Portfolio for Abohaimed, Saud</a>']\n",
      "['Benson, Logan', '504866', '<a href=https://drive.google.com/drive/folders/12G1Lzj-jUBzeL4j26CoTuuvDqJR6t6fO>Student Portfolio for Benson, Logan</a>']\n",
      "['Bishop, Josie', '504868', '<a href=https://drive.google.com/drive/folders/1oXye0Xad6-FU2Pj-yFw2idr4tBLUVPMc>Student Portfolio for Bishop, Josie</a>']\n",
      "['Alruwaili, Joury', '504857', '<a href=https://drive.google.com/drive/folders/16ny1aXjcHkK127lvnnJyUGC5Ox3PKcQq>Student Portfolio for Alruwaili, Joury</a>']\n",
      "['Bartsch, Henry', '504647', '<a href=https://drive.google.com/drive/folders/1xf869xIxygjp56UgqTIyd3dIRahy3NbW>Student Portfolio for Bartsch, Henry</a>']\n",
      "['Berland, Amelie', '503531', '<a href=https://drive.google.com/drive/folders/1MnUSQgX8cJFcT-VaxNHm1qYYwzARkSSO>Student Portfolio for Berland, Amelie</a>']\n",
      "['Bogdaneris, Hugo', '504363', '<a href=https://drive.google.com/drive/folders/1U1cftQRg_xemk1RsLCVVzfRnlMo5zUU6>Student Portfolio for Bogdaneris, Hugo</a>']\n",
      "['Alonso, Aldo', '504642', '<a href=https://drive.google.com/drive/folders/1-aYdtozfRtwPY9MIK2W9KtWC0Jb7Q9LL>Student Portfolio for Alonso, Aldo</a>']\n"
     ]
    }
   ],
   "source": [
    "urlFormatter = '<a href={}>Student Portfolio for {}</a>'\n",
    "studentData_list = []\n",
    "for each in foo:\n",
    "    if foo[each]:\n",
    "        # LastFirst, Student Number, URL\n",
    "        studentData_list.append([foo[each]['LastFirst'], each, \n",
    "                                 urlFormatter.format(foo[each]['webViewLink'], foo[each]['LastFirst'])])\n",
    "for each in studentData_list:\n",
    "    print each"
   ]
  }
 ],
 "metadata": {
  "kernelspec": {
   "display_name": "Python 2",
   "language": "python",
   "name": "python2"
  },
  "language_info": {
   "codemirror_mode": {
    "name": "ipython",
    "version": 2
   },
   "file_extension": ".py",
   "mimetype": "text/x-python",
   "name": "python",
   "nbconvert_exporter": "python",
   "pygments_lexer": "ipython2",
   "version": "2.7.13"
  }
 },
 "nbformat": 4,
 "nbformat_minor": 2
}

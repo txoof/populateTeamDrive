{
 "cells": [
  {
   "cell_type": "code",
   "execution_count": 4,
   "metadata": {
    "collapsed": true
   },
   "outputs": [],
   "source": [
    "import ConfigParser\n",
    "import os\n",
    "import logging\n"
   ]
  },
  {
   "cell_type": "code",
   "execution_count": 5,
   "metadata": {
    "collapsed": false
   },
   "outputs": [],
   "source": [
    "# borrowed from: https://www.blog.pythonlibrary.org/2013/10/25/python-101-an-intro-to-configparser/\n",
    "def create_config(path, configuration):\n",
    "    '''\n",
    "    create a configuration file at <path>\n",
    "    configuration in the format {'SectionName': {'key1':'value', 'key2':'value'}, 'OtherSection' {'opt1':'value', 'opt2':'Value'}}\n",
    "    \n",
    "    Note: SafeConfigParser treats everything as a string \n",
    "    '''\n",
    "    logger = logging.getLogger(__name__)\n",
    "    config = ConfigParser.SafeConfigParser()\n",
    "    for section, options in configuration.items():\n",
    "        config.add_section(section)\n",
    "        for key, value in options.items():\n",
    "            config.set(section, key, str(value))\n",
    "\n",
    "    try:\n",
    "        with open(path, 'wb') as config_file:\n",
    "            config.write(config_file)\n",
    "    except Exception as e:\n",
    "        logging.error(e)\n",
    "\n",
    "def get_config(path):\n",
    "    '''\n",
    "    fetch configuration as a config object\n",
    "    '''\n",
    "    logger = logging.getLogger(__name__)\n",
    "    if not os.path.exists(path):\n",
    "        logging.info('creating configuration path: {path}')\n",
    "        create_config(path)\n",
    "    \n",
    "    config = ConfigParser.SafeConfigParser()\n",
    "    config.read(path)\n",
    "    return config\n",
    "\n",
    "\n",
    "\n",
    "def get_setting(path, section, setting):\n",
    "    '''\n",
    "    get the requested setting\n",
    "    '''\n",
    "    config = get_config(path)\n",
    "    value = config.get(section, setting)\n",
    "    return value\n",
    "\n",
    "def update_setting(path, section, setting, value):\n",
    "    '''\n",
    "    update an option\n",
    "    '''\n",
    "    logger = logging.getLogger(__name__)\n",
    "    config = get_config(config)\n",
    "    config.set(section, setting, value)\n",
    "    try:\n",
    "        with open(path, 'wb') as config_file:\n",
    "            config.write(config_file)\n",
    "    except Exception as e:\n",
    "        logging.error(e)\n",
    "    "
   ]
  }
 ],
 "metadata": {
  "kernelspec": {
   "display_name": "Python 2",
   "language": "python",
   "name": "python2"
  },
  "language_info": {
   "codemirror_mode": {
    "name": "ipython",
    "version": 2
   },
   "file_extension": ".py",
   "mimetype": "text/x-python",
   "name": "python",
   "nbconvert_exporter": "python",
   "pygments_lexer": "ipython2",
   "version": "2.7.13"
  }
 },
 "nbformat": 4,
 "nbformat_minor": 2
}
